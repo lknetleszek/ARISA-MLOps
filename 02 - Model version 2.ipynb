{
 "cells": [
  {
   "cell_type": "markdown",
   "id": "b0e9291a-2cb2-4c21-ba31-f362de7f300c",
   "metadata": {
    "editable": false,
    "slideshow": {
     "slide_type": "slide"
    },
    "tags": []
   },
   "source": [
    "## Version 2 - Boss/client feedback\n",
    "Oh no, the client has taken a look at our work and they are not happy.  \n",
    "They spend a lot of money on that data and we have thrown away two whole columns without good reason.  \n",
    "We need to update our feature engineering to include features based on the cabin and name columns,  \n",
    "which should also hopefully improve the performance since they feel 74% is a little too low to put into production.  \n",
    "Also the client doesn't know what to do with a .cbm file, they just want to be able to get new predictions whenever they get new data coming in.  \n",
    "Let's first implement the new features so that we use the dropped columns and then we can think about getting the predictions to the client somehow."
   ]
  },
  {
   "cell_type": "code",
   "execution_count": null,
   "id": "5c50cb63-103b-4d57-aef5-493a43d5f200",
   "metadata": {
    "editable": true,
    "slideshow": {
     "slide_type": "subslide"
    },
    "tags": []
   },
   "outputs": [],
   "source": [
    "%pip install catboost matplotlib pandas scikit-learn kaggle optuna ipywidgets kaleido shap"
   ]
  },
  {
   "cell_type": "markdown",
   "id": "9e74b72a-4dd5-4a2d-8b23-58443dd4c862",
   "metadata": {
    "editable": false,
    "slideshow": {
     "slide_type": "slide"
    },
    "tags": []
   },
   "source": [
    "Getting the data again."
   ]
  },
  {
   "cell_type": "code",
   "execution_count": null,
   "id": "33798031-5b84-404d-8934-ff0e9d243db4",
   "metadata": {
    "editable": true,
    "slideshow": {
     "slide_type": "subslide"
    },
    "tags": []
   },
   "outputs": [],
   "source": [
    "import os\n",
    "import zipfile\n",
    "from pathlib import Path\n",
    "from kaggle.api.kaggle_api_extended import KaggleApi\n",
    "\n",
    "api = KaggleApi()\n",
    "api.authenticate()\n",
    "\n",
    "dataset = \"titanic\"  # original competition dataset\n",
    "dataset_test = \"wesleyhowe/titanic-labelled-test-set\"  # test set augmented with target labels\n",
    "download_folder = Path(\"data/titanic\")\n",
    "zip_path = download_folder / \"titanic.zip\"\n",
    "download_folder.mkdir(parents=True, exist_ok=True)\n",
    "\n",
    "api.competition_download_files(dataset, path=str(download_folder))\n",
    "api.dataset_download_files(dataset_test, path=str(download_folder), unzip=True)\n",
    "\n",
    "with zipfile.ZipFile(zip_path, \"r\") as zip_ref:\n",
    "    zip_ref.extractall(str(download_folder))\n",
    "\n",
    "os.remove(zip_path)"
   ]
  },
  {
   "cell_type": "code",
   "execution_count": null,
   "id": "0a42389d-e7af-4a9c-bf0d-58017bf9688b",
   "metadata": {
    "editable": true,
    "slideshow": {
     "slide_type": "subslide"
    },
    "tags": []
   },
   "outputs": [],
   "source": [
    "!dir \"./data/titanic\""
   ]
  },
  {
   "cell_type": "markdown",
   "id": "890bca88-b545-4226-ae7f-64b1388190fd",
   "metadata": {
    "editable": false,
    "slideshow": {
     "slide_type": "slide"
    },
    "tags": []
   },
   "source": [
    "Read in the data again and dropping passengerId, and now only ticket, since we will be using Name and Cabin."
   ]
  },
  {
   "cell_type": "code",
   "execution_count": null,
   "id": "349a653a-37fe-480f-9e4d-3dd377e6a012",
   "metadata": {
    "editable": true,
    "slideshow": {
     "slide_type": "subslide"
    },
    "tags": []
   },
   "outputs": [],
   "source": [
    "import pandas as pd\n",
    "\n",
    "df_train = pd.read_csv(download_folder / \"train.csv\")\n",
    "df_ids = df_train.pop(\"PassengerId\")  # set aside PassengerId\n",
    "\n",
    "df_train.sample(10)\n",
    "\n",
    "df_train = df_train.drop(columns=[\"Ticket\"])\n",
    "df_train.head()"
   ]
  },
  {
   "cell_type": "markdown",
   "id": "799355dc-ec05-4c0f-84c0-b4e46b390d45",
   "metadata": {
    "editable": false,
    "slideshow": {
     "slide_type": "slide"
    },
    "tags": []
   },
   "source": [
    "Quick regex match on the titles"
   ]
  },
  {
   "cell_type": "code",
   "execution_count": null,
   "id": "98cde473-4115-4b1c-8f56-f5d2a3d66997",
   "metadata": {
    "editable": true,
    "slideshow": {
     "slide_type": "subslide"
    },
    "tags": []
   },
   "outputs": [],
   "source": [
    "import re\n",
    "def extract_title(name):\n",
    "    match = re.search(r',\\s*([\\w\\s]+)\\.', name)\n",
    "    return match.group(1) if match else None\n",
    "df_train[\"Title\"] = df_train[\"Name\"].apply(extract_title)\n",
    "df_train.sample(5)"
   ]
  },
  {
   "cell_type": "markdown",
   "id": "9117e6a6-9751-401d-ae68-ef89f68b5597",
   "metadata": {
    "editable": false,
    "slideshow": {
     "slide_type": "subslide"
    },
    "tags": []
   },
   "source": [
    "Looks about right:"
   ]
  },
  {
   "cell_type": "code",
   "execution_count": null,
   "id": "9fdfb560-31d7-42e8-8f6a-8a1f206bad56",
   "metadata": {
    "editable": true,
    "slideshow": {
     "slide_type": "subslide"
    },
    "tags": []
   },
   "outputs": [],
   "source": [
    "df_train[\"Title\"].unique()"
   ]
  },
  {
   "cell_type": "markdown",
   "id": "5363fac1-5136-47f3-9a55-f8163812f8da",
   "metadata": {
    "editable": false,
    "slideshow": {
     "slide_type": "slide"
    },
    "tags": []
   },
   "source": [
    "And for the Cabin we split into deck and cabin number:"
   ]
  },
  {
   "cell_type": "code",
   "execution_count": null,
   "id": "71d69c1b-7f67-4ff6-bef1-b3314fcff2e1",
   "metadata": {
    "editable": true,
    "slideshow": {
     "slide_type": "subslide"
    },
    "tags": []
   },
   "outputs": [],
   "source": [
    "# pattern to match a letter followed by a number\n",
    "pattern = r'([A-Za-z]+)(\\d+)'\n",
    "\n",
    "# run pattern on Cabin to extract all matches\n",
    "matches = df_train['Cabin'].str.extractall(pattern)\n",
    "matches.reset_index(inplace=True)\n",
    "\n",
    "# create a new column for each letter and number matched\n",
    "result = matches.pivot(index='level_0', columns='match', values=[0, 1])\n",
    "result.columns = [f\"{col[0]}_{col[1]}\" for col in result.columns]\n",
    "\n",
    "# join to original train dataframe\n",
    "df_train = df_train.join(result[[\"0_0\", \"1_0\"]])\n",
    "\n",
    "# fill nans\n",
    "df_train[\"1_0\"] = df_train[\"1_0\"].astype(float)\n",
    "df_train = df_train.fillna({\"0_0\": \"N\", \"1_0\": df_train[\"1_0\"].mean()})\n",
    "df_train[\"1_0\"] = df_train[\"1_0\"].astype(int)\n",
    "\n",
    "# rename new columns and drop old ones\n",
    "df_train = df_train.rename(columns={\"0_0\": \"Deck\", \"1_0\": \"CabinNumber\"})\n",
    "df_train.drop(columns=[\"Cabin\", \"Name\"], axis=1, inplace=True)"
   ]
  },
  {
   "cell_type": "markdown",
   "id": "65b14cc6-b333-497f-922c-a321f50dfb44",
   "metadata": {
    "editable": false,
    "slideshow": {
     "slide_type": "slide"
    },
    "tags": []
   },
   "source": [
    "Fill remaining nans:"
   ]
  },
  {
   "cell_type": "code",
   "execution_count": null,
   "id": "ff0bf760-97b2-4e78-8eb3-d4e8c118f1fd",
   "metadata": {
    "editable": true,
    "slideshow": {
     "slide_type": "subslide"
    },
    "tags": []
   },
   "outputs": [],
   "source": [
    "df_train = df_train.fillna({\"Embarked\": \"N\", \"Age\": df_train[\"Age\"].mean()})\n",
    "df_train.info()"
   ]
  },
  {
   "cell_type": "markdown",
   "id": "565124f5-e8ae-4890-856c-bf9368730d7c",
   "metadata": {
    "editable": false,
    "slideshow": {
     "slide_type": "slide"
    },
    "tags": []
   },
   "source": [
    "Get indices for categorical columns now including Title and Deck (CabinNumber is numerical):"
   ]
  },
  {
   "cell_type": "code",
   "execution_count": null,
   "id": "25939d38-d8f1-409d-99a5-5422918d46b6",
   "metadata": {
    "editable": true,
    "slideshow": {
     "slide_type": "subslide"
    },
    "tags": []
   },
   "outputs": [],
   "source": [
    "categorical = [\n",
    "    \"Pclass\", \n",
    "    \"Sex\", \n",
    "    \"Embarked\",\n",
    "    \"Deck\",\n",
    "    \"Title\"\n",
    "]\n",
    "\n",
    "y_train = df_train.pop(\"Survived\")\n",
    "X_train = df_train\n",
    "\n",
    "categorical_indices = [X_train.columns.get_loc(col) for col in categorical if col in X_train.columns]\n",
    "categorical_indices"
   ]
  },
  {
   "cell_type": "markdown",
   "id": "37229885-44d0-479e-81d0-0dcae5bfd507",
   "metadata": {
    "editable": false,
    "slideshow": {
     "slide_type": "slide"
    },
    "tags": []
   },
   "source": [
    "And run the hyperparameter optimization:"
   ]
  },
  {
   "cell_type": "code",
   "execution_count": null,
   "id": "4891bf8c-64b0-4735-8d2f-03425d886925",
   "metadata": {
    "editable": true,
    "slideshow": {
     "slide_type": "subslide"
    },
    "tags": []
   },
   "outputs": [],
   "source": [
    "import joblib\n",
    "import optuna\n",
    "from sklearn.model_selection import train_test_split\n",
    "from catboost import CatBoostClassifier, Pool, cv\n",
    "\n",
    "outfolder = Path(\"results\")\n",
    "outfolder.mkdir(parents=True, exist_ok=True)\n",
    "\n",
    "best_params_path = outfolder / \"best_params_v2.pkl\"\n",
    "\n",
    "if not best_params_path.is_file():\n",
    "    X_train_opt, X_val_opt, y_train_opt, y_val_opt = train_test_split(X_train, y_train, test_size=0.25, random_state=42)\n",
    "    \n",
    "    def objective(trial):\n",
    "        params = {\n",
    "            \"depth\": trial.suggest_int(\"depth\", 2, 10),\n",
    "            \"learning_rate\": trial.suggest_float(\"learning_rate\", 1e-4, 0.3),\n",
    "            \"iterations\": trial.suggest_int(\"iterations\", 50, 300),\n",
    "            \"l2_leaf_reg\": trial.suggest_float(\"l2_leaf_reg\", 1e-5, 100.0, log=True),\n",
    "            \"bagging_temperature\": trial.suggest_float(\"bagging_temperature\", 0.01, 1),\n",
    "            \"random_strength\": trial.suggest_float(\"random_strength\", 1e-5, 100.0, log=True)\n",
    "        }\n",
    "        model = CatBoostClassifier(**params, verbose=0)\n",
    "        model.fit(X_train_opt, y_train_opt, eval_set=(X_val_opt, y_val_opt), cat_features=categorical_indices, early_stopping_rounds=50)\n",
    "        return model.get_best_score()[\"validation\"][\"Logloss\"]\n",
    "    study = optuna.create_study(direction=\"minimize\")\n",
    "    study.optimize(objective, n_trials=50)\n",
    "    \n",
    "    joblib.dump(study.best_params, best_params_path)\n",
    "    params = study.best_params\n",
    "else:\n",
    "    params = joblib.load(best_params_path)\n",
    "print(\"Best Parameters:\", params)"
   ]
  },
  {
   "cell_type": "markdown",
   "id": "8af73d1c-bb53-47e5-bc84-293972e6837c",
   "metadata": {
    "editable": false,
    "slideshow": {
     "slide_type": "slide"
    },
    "tags": []
   },
   "source": [
    "Do cross validation again:"
   ]
  },
  {
   "cell_type": "code",
   "execution_count": null,
   "id": "f54fd995-ebc1-4adc-86c9-595fe90243cc",
   "metadata": {
    "editable": true,
    "scrolled": true,
    "slideshow": {
     "slide_type": "subslide"
    },
    "tags": []
   },
   "outputs": [],
   "source": [
    "params[\"eval_metric\"] = \"F1\"\n",
    "params[\"loss_function\"] = \"Logloss\"\n",
    "\n",
    "model = CatBoostClassifier(\n",
    "    **params,\n",
    "    verbose=True\n",
    ")\n",
    "\n",
    "data = Pool(X_train, y_train, cat_features=categorical_indices)\n",
    "\n",
    "cv_results = cv(\n",
    "    params=params,\n",
    "    pool=data,\n",
    "    fold_count=5,\n",
    "    partition_random_seed=42,\n",
    "    shuffle=True,\n",
    ")\n",
    "\n",
    "cv_results.to_csv(outfolder / \"cv_results_v2.csv\", index=False)"
   ]
  },
  {
   "cell_type": "markdown",
   "id": "9c2f4247-6cbf-4528-ba59-bf4f375dad64",
   "metadata": {
    "editable": false,
    "slideshow": {
     "slide_type": "slide"
    },
    "tags": []
   },
   "source": [
    "And get the performance plots:"
   ]
  },
  {
   "cell_type": "code",
   "execution_count": null,
   "id": "d9ccf0db-b9f1-4d33-a3a2-8136c6df261d",
   "metadata": {
    "editable": true,
    "slideshow": {
     "slide_type": "subslide"
    },
    "tags": []
   },
   "outputs": [],
   "source": [
    "import plotly.graph_objects as go\n",
    "\n",
    "# Create figure\n",
    "fig = go.Figure()\n",
    "\n",
    "# Add mean performance line\n",
    "fig.add_trace(\n",
    "    go.Scatter(\n",
    "        x=cv_results[\"iterations\"], y=cv_results[\"test-F1-mean\"], mode=\"lines\", name=\"Mean F1 Score\", line=dict(color=\"blue\")\n",
    "    )\n",
    ")\n",
    "\n",
    "# Add shaded error region\n",
    "fig.add_trace(\n",
    "    go.Scatter(\n",
    "        x=pd.concat([cv_results[\"iterations\"], cv_results[\"iterations\"][::-1]]),\n",
    "        y=pd.concat([cv_results[\"test-F1-mean\"]+cv_results[\"test-F1-std\"], \n",
    "                     cv_results[\"test-F1-mean\"]-cv_results[\"test-F1-std\"]]),\n",
    "        fill=\"toself\", \n",
    "        fillcolor=\"rgba(0, 0, 255, 0.2)\",\n",
    "        line=dict(color=\"rgba(255, 255, 255, 0)\"),\n",
    "        showlegend=False\n",
    "    )\n",
    ")\n",
    "\n",
    "# Customize layout\n",
    "fig.update_layout(\n",
    "    title=\"Cross-Validation (N=5) Mean F1 score with Error Bands\",\n",
    "    xaxis_title=\"Training Steps\",\n",
    "    yaxis_title=\"Performance Score\",\n",
    "    template=\"plotly_white\",\n",
    "    yaxis=dict(range=[0.5, 1])\n",
    ")\n",
    "\n",
    "fig.show()\n",
    "\n",
    "fig.write_image(outfolder / \"test_f1_v2.png\")"
   ]
  },
  {
   "cell_type": "code",
   "execution_count": null,
   "id": "a20450e7-7e20-4a96-b855-d10b14fcb10b",
   "metadata": {
    "editable": true,
    "slideshow": {
     "slide_type": "subslide"
    },
    "tags": []
   },
   "outputs": [],
   "source": [
    "import plotly.graph_objects as go\n",
    "\n",
    "# Create figure\n",
    "fig = go.Figure()\n",
    "\n",
    "# Add mean performance line\n",
    "fig.add_trace(\n",
    "    go.Scatter(\n",
    "        x=cv_results[\"iterations\"], y=cv_results[\"test-Logloss-mean\"], mode=\"lines\", name=\"Mean logloss\", line=dict(color=\"blue\")\n",
    "    )\n",
    ")\n",
    "\n",
    "# Add shaded error region\n",
    "fig.add_trace(\n",
    "    go.Scatter(\n",
    "        x=pd.concat([cv_results[\"iterations\"], cv_results[\"iterations\"][::-1]]),\n",
    "        y=pd.concat([cv_results[\"test-Logloss-mean\"]+cv_results[\"test-Logloss-std\"], \n",
    "                     cv_results[\"test-Logloss-mean\"]-cv_results[\"test-Logloss-std\"]]),\n",
    "        fill=\"toself\", \n",
    "        fillcolor=\"rgba(0, 0, 255, 0.2)\",\n",
    "        line=dict(color=\"rgba(255, 255, 255, 0)\"),\n",
    "        showlegend=False\n",
    "    )\n",
    ")\n",
    "\n",
    "# Customize layout\n",
    "fig.update_layout(\n",
    "    title=\"Cross-Validation (N=5) Mean Logloss with Error Bands\",\n",
    "    xaxis_title=\"Training Steps\",\n",
    "    yaxis_title=\"Logloss\",\n",
    "    template=\"plotly_white\"\n",
    ")\n",
    "\n",
    "fig.show()\n",
    "\n",
    "fig.write_image(outfolder / \"test_logloss_v2.png\")"
   ]
  },
  {
   "cell_type": "markdown",
   "id": "660b208e-b2b8-4bd2-ae70-6f75b550d65d",
   "metadata": {
    "editable": false,
    "slideshow": {
     "slide_type": "slide"
    },
    "tags": []
   },
   "source": [
    "Fit model on full dataset:"
   ]
  },
  {
   "cell_type": "code",
   "execution_count": null,
   "id": "a8059c1d-ee28-4580-9d5d-9a9c4eb91a4b",
   "metadata": {
    "editable": true,
    "scrolled": true,
    "slideshow": {
     "slide_type": "subslide"
    },
    "tags": []
   },
   "outputs": [],
   "source": [
    "model.fit(\n",
    "    X_train,\n",
    "    y_train,\n",
    "    verbose_eval=50,\n",
    "    early_stopping_rounds=50,\n",
    "    cat_features=categorical_indices,\n",
    "    use_best_model=False,\n",
    "    plot=True\n",
    ")\n",
    "\n",
    "model.save_model(outfolder / 'catboost_model_titanic_v2.cbm')\n",
    "joblib.dump(params, outfolder / 'model_params_v2.pkl')"
   ]
  },
  {
   "cell_type": "markdown",
   "id": "11d6658f-ac2b-4a8f-a872-b66bbcf4b19b",
   "metadata": {
    "editable": false,
    "slideshow": {
     "slide_type": "slide"
    },
    "tags": []
   },
   "source": [
    "And now to copy paste the train preprocessing code to preprocess the test set, and run a prediction:"
   ]
  },
  {
   "cell_type": "code",
   "execution_count": null,
   "id": "ea7b6f53-6b16-453f-b0b8-336f0b8ceee1",
   "metadata": {
    "editable": true,
    "slideshow": {
     "slide_type": "subslide"
    },
    "tags": []
   },
   "outputs": [],
   "source": [
    "df_test = pd.read_csv(download_folder / \"test.csv\")\n",
    "df_test = df_test.drop(columns=[\"Ticket\"])\n",
    "df_test_id = df_test.pop(\"PassengerId\")\n",
    "df_test = df_test.fillna({\"Embarked\": \"N\", \"Age\": X_train[\"Age\"].mean()})\n",
    "\n",
    "pattern = r'([A-Za-z]+)(\\d+)'\n",
    "matches = df_test['Cabin'].str.extractall(pattern)\n",
    "matches.reset_index(inplace=True)\n",
    "result = matches.pivot(index='level_0', columns='match', values=[0, 1])\n",
    "result.columns = [f\"{col[0]}_{col[1]}\" for col in result.columns]\n",
    "df_test = df_test.join(result[[\"0_0\", \"1_0\"]])\n",
    "df_test[\"1_0\"] = df_test[\"1_0\"].astype(float)\n",
    "df_test = df_test.fillna({\"0_0\": \"N\", \"1_0\": X_train[\"CabinNumber\"].mean()})\n",
    "df_test[\"1_0\"] = df_test[\"1_0\"].astype(int)\n",
    "df_test = df_test.rename(columns={\"0_0\": \"Deck\", \"1_0\": \"CabinNumber\"})\n",
    "\n",
    "df_test[\"Title\"] = df_test[\"Name\"].apply(extract_title)\n",
    "\n",
    "df_test.drop(columns=[\"Cabin\", \"Name\"], axis=1, inplace=True)\n",
    "df_test[\"Title\"].unique()"
   ]
  },
  {
   "cell_type": "code",
   "execution_count": 19,
   "id": "e74f9e3e-c213-4aa7-a896-85e40ab68615",
   "metadata": {
    "editable": true,
    "slideshow": {
     "slide_type": "subslide"
    },
    "tags": []
   },
   "outputs": [],
   "source": [
    "preds = model.predict(df_test[X_train.columns])"
   ]
  },
  {
   "cell_type": "markdown",
   "id": "fca71205-8486-4e32-9875-efdd5c627a94",
   "metadata": {
    "editable": false,
    "slideshow": {
     "slide_type": "slide"
    },
    "tags": []
   },
   "source": [
    "Get the shapley overview plot showing the importance of the new features as well:"
   ]
  },
  {
   "cell_type": "code",
   "execution_count": null,
   "id": "e42c6466-ce53-4a6f-a230-ee7599adfa45",
   "metadata": {
    "editable": true,
    "slideshow": {
     "slide_type": "subslide"
    },
    "tags": []
   },
   "outputs": [],
   "source": [
    "import shap\n",
    "import matplotlib.pyplot as plt\n",
    "explainer = shap.TreeExplainer(model)\n",
    "shap_values = explainer.shap_values(df_test[X_train.columns])\n",
    "\n",
    "shap.summary_plot(shap_values, df_test, show=False)\n",
    "plt.savefig(outfolder / \"test_shap_overall_v2.png\")"
   ]
  },
  {
   "cell_type": "markdown",
   "id": "d3053685-a2c1-42fc-9dd7-b19b3166b5ae",
   "metadata": {
    "editable": false,
    "slideshow": {
     "slide_type": "slide"
    },
    "tags": []
   },
   "source": [
    "And finally let's get the score on the test set:"
   ]
  },
  {
   "cell_type": "code",
   "execution_count": 21,
   "id": "2a66930d-3abd-4b45-8c44-47892205fd28",
   "metadata": {
    "editable": true,
    "slideshow": {
     "slide_type": "subslide"
    },
    "tags": []
   },
   "outputs": [],
   "source": [
    "df_test[\"PassengerId\"] = df_test_id\n",
    "df_test[\"Survived\"] = preds\n",
    "\n",
    "df_test[[\"PassengerId\", \"Survived\"]].to_csv(outfolder / \"predictions_v2.csv\", index=False)"
   ]
  },
  {
   "cell_type": "markdown",
   "id": "611f00de-4968-4bde-9151-c11dbbdc27d0",
   "metadata": {
    "editable": true,
    "slideshow": {
     "slide_type": "subslide"
    },
    "tags": []
   },
   "source": [
    "And submitting again to kaggle we get a slight improvement but with the client happier that we used all the data at least:\n",
    "  \n",
    "![screenshot of kaggle submission page v2 with prediction performance of 0.76555](results/kaggle_result_v2.png \"Kaggle Result\")"
   ]
  }
 ],
 "metadata": {
  "kernelspec": {
   "display_name": "base",
   "language": "python",
   "name": "python3"
  },
  "language_info": {
   "codemirror_mode": {
    "name": "ipython",
    "version": 3
   },
   "file_extension": ".py",
   "mimetype": "text/x-python",
   "name": "python",
   "nbconvert_exporter": "python",
   "pygments_lexer": "ipython3",
   "version": "3.12.7"
  }
 },
 "nbformat": 4,
 "nbformat_minor": 5
}
