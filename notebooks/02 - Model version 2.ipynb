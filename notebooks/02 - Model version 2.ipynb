{
 "cells": [
  {
   "cell_type": "markdown",
   "id": "b0e9291a-2cb2-4c21-ba31-f362de7f300c",
   "metadata": {
    "editable": false,
    "slideshow": {
     "slide_type": "slide"
    },
    "tags": []
   },
   "source": [
    "## Version 2 - Boss/client feedback\n",
    "Oh no, the client has taken a look at our work and they are not happy.  \n",
    "They spend a lot of money on that data and we have thrown away two whole columns without good reason.  \n",
    "We need to update our feature engineering to include features based on the cabin and name columns,  \n",
    "which should also hopefully improve the performance since they feel 74% is a little too low to put into production.  \n",
    "Also the client doesn't know what to do with a .cbm file, they just want to be able to get new predictions whenever they get new data coming in.  \n",
    "Let's first implement the new features so that we use the dropped columns and then we can think about getting the predictions to the client somehow."
   ]
  },
  {
   "cell_type": "code",
   "execution_count": 20,
   "id": "4c5b7682",
   "metadata": {},
   "outputs": [
    {
     "name": "stdout",
     "output_type": "stream",
     "text": [
      "Defaulting to user installation because normal site-packages is not writeable\n",
      "Collecting cookiecutter-data-science\n",
      "  Downloading cookiecutter_data_science-2.0.0-py3-none-any.whl.metadata (5.9 kB)\n",
      "Requirement already satisfied: click in c:\\programdata\\anaconda3\\lib\\site-packages (from cookiecutter-data-science) (8.1.7)\n",
      "Requirement already satisfied: cookiecutter in c:\\programdata\\anaconda3\\lib\\site-packages (from cookiecutter-data-science) (2.6.0)\n",
      "Requirement already satisfied: colorama in c:\\programdata\\anaconda3\\lib\\site-packages (from click->cookiecutter-data-science) (0.4.6)\n",
      "Requirement already satisfied: binaryornot>=0.4.4 in c:\\programdata\\anaconda3\\lib\\site-packages (from cookiecutter->cookiecutter-data-science) (0.4.4)\n",
      "Requirement already satisfied: Jinja2<4.0.0,>=2.7 in c:\\programdata\\anaconda3\\lib\\site-packages (from cookiecutter->cookiecutter-data-science) (3.1.4)\n",
      "Requirement already satisfied: pyyaml>=5.3.1 in c:\\programdata\\anaconda3\\lib\\site-packages (from cookiecutter->cookiecutter-data-science) (6.0.1)\n",
      "Requirement already satisfied: python-slugify>=4.0.0 in c:\\programdata\\anaconda3\\lib\\site-packages (from cookiecutter->cookiecutter-data-science) (5.0.2)\n",
      "Requirement already satisfied: requests>=2.23.0 in c:\\programdata\\anaconda3\\lib\\site-packages (from cookiecutter->cookiecutter-data-science) (2.32.3)\n",
      "Requirement already satisfied: arrow in c:\\programdata\\anaconda3\\lib\\site-packages (from cookiecutter->cookiecutter-data-science) (1.2.3)\n",
      "Requirement already satisfied: rich in c:\\users\\leszekkwasniewski\\appdata\\roaming\\python\\python312\\site-packages (from cookiecutter->cookiecutter-data-science) (13.9.4)\n",
      "Requirement already satisfied: chardet>=3.0.2 in c:\\programdata\\anaconda3\\lib\\site-packages (from binaryornot>=0.4.4->cookiecutter->cookiecutter-data-science) (4.0.0)\n",
      "Requirement already satisfied: MarkupSafe>=2.0 in c:\\programdata\\anaconda3\\lib\\site-packages (from Jinja2<4.0.0,>=2.7->cookiecutter->cookiecutter-data-science) (2.1.3)\n",
      "Requirement already satisfied: text-unidecode>=1.3 in c:\\programdata\\anaconda3\\lib\\site-packages (from python-slugify>=4.0.0->cookiecutter->cookiecutter-data-science) (1.3)\n",
      "Requirement already satisfied: charset-normalizer<4,>=2 in c:\\programdata\\anaconda3\\lib\\site-packages (from requests>=2.23.0->cookiecutter->cookiecutter-data-science) (3.3.2)\n",
      "Requirement already satisfied: idna<4,>=2.5 in c:\\programdata\\anaconda3\\lib\\site-packages (from requests>=2.23.0->cookiecutter->cookiecutter-data-science) (3.7)\n",
      "Requirement already satisfied: urllib3<3,>=1.21.1 in c:\\programdata\\anaconda3\\lib\\site-packages (from requests>=2.23.0->cookiecutter->cookiecutter-data-science) (2.2.3)\n",
      "Requirement already satisfied: certifi>=2017.4.17 in c:\\programdata\\anaconda3\\lib\\site-packages (from requests>=2.23.0->cookiecutter->cookiecutter-data-science) (2024.12.14)\n",
      "Requirement already satisfied: python-dateutil>=2.7.0 in c:\\programdata\\anaconda3\\lib\\site-packages (from arrow->cookiecutter->cookiecutter-data-science) (2.9.0.post0)\n",
      "Requirement already satisfied: markdown-it-py>=2.2.0 in c:\\users\\leszekkwasniewski\\appdata\\roaming\\python\\python312\\site-packages (from rich->cookiecutter->cookiecutter-data-science) (3.0.0)\n",
      "Requirement already satisfied: pygments<3.0.0,>=2.13.0 in c:\\programdata\\anaconda3\\lib\\site-packages (from rich->cookiecutter->cookiecutter-data-science) (2.15.1)\n",
      "Requirement already satisfied: mdurl~=0.1 in c:\\users\\leszekkwasniewski\\appdata\\roaming\\python\\python312\\site-packages (from markdown-it-py>=2.2.0->rich->cookiecutter->cookiecutter-data-science) (0.1.2)\n",
      "Requirement already satisfied: six>=1.5 in c:\\programdata\\anaconda3\\lib\\site-packages (from python-dateutil>=2.7.0->arrow->cookiecutter->cookiecutter-data-science) (1.16.0)\n",
      "Downloading cookiecutter_data_science-2.0.0-py3-none-any.whl (7.9 kB)\n",
      "Installing collected packages: cookiecutter-data-science\n",
      "Successfully installed cookiecutter-data-science-2.0.0\n"
     ]
    }
   ],
   "source": [
    "%pip install cookiecutter-data-science"
   ]
  },
  {
   "cell_type": "code",
   "execution_count": 1,
   "id": "5c50cb63-103b-4d57-aef5-493a43d5f200",
   "metadata": {
    "editable": true,
    "slideshow": {
     "slide_type": "subslide"
    },
    "tags": []
   },
   "outputs": [
    {
     "name": "stdout",
     "output_type": "stream",
     "text": [
      "Defaulting to user installation because normal site-packages is not writeable\n",
      "Requirement already satisfied: catboost in c:\\users\\leszekkwasniewski\\appdata\\roaming\\python\\python312\\site-packages (1.2.7)\n",
      "Requirement already satisfied: matplotlib in c:\\users\\leszekkwasniewski\\appdata\\roaming\\python\\python312\\site-packages (3.9.3)\n",
      "Requirement already satisfied: pandas in c:\\programdata\\anaconda3\\lib\\site-packages (2.2.2)\n",
      "Requirement already satisfied: scikit-learn in c:\\programdata\\anaconda3\\lib\\site-packages (1.5.1)\n",
      "Requirement already satisfied: kaggle in c:\\users\\leszekkwasniewski\\appdata\\roaming\\python\\python312\\site-packages (1.6.17)\n",
      "Requirement already satisfied: optuna in c:\\users\\leszekkwasniewski\\appdata\\roaming\\python\\python312\\site-packages (4.2.1)\n",
      "Requirement already satisfied: ipywidgets in c:\\programdata\\anaconda3\\lib\\site-packages (7.8.1)\n",
      "Requirement already satisfied: kaleido in c:\\users\\leszekkwasniewski\\appdata\\roaming\\python\\python312\\site-packages (0.2.1)\n",
      "Requirement already satisfied: shap in c:\\users\\leszekkwasniewski\\appdata\\roaming\\python\\python312\\site-packages (0.46.0)\n",
      "Requirement already satisfied: graphviz in c:\\users\\leszekkwasniewski\\appdata\\roaming\\python\\python312\\site-packages (from catboost) (0.20.3)\n",
      "Requirement already satisfied: numpy<2.0,>=1.16.0 in c:\\users\\leszekkwasniewski\\appdata\\roaming\\python\\python312\\site-packages (from catboost) (1.26.4)\n",
      "Requirement already satisfied: scipy in c:\\programdata\\anaconda3\\lib\\site-packages (from catboost) (1.13.1)\n",
      "Requirement already satisfied: plotly in c:\\programdata\\anaconda3\\lib\\site-packages (from catboost) (5.24.1)\n",
      "Requirement already satisfied: six in c:\\programdata\\anaconda3\\lib\\site-packages (from catboost) (1.16.0)\n",
      "Requirement already satisfied: contourpy>=1.0.1 in c:\\users\\leszekkwasniewski\\appdata\\roaming\\python\\python312\\site-packages (from matplotlib) (1.3.1)\n",
      "Requirement already satisfied: cycler>=0.10 in c:\\users\\leszekkwasniewski\\appdata\\roaming\\python\\python312\\site-packages (from matplotlib) (0.12.1)\n",
      "Requirement already satisfied: fonttools>=4.22.0 in c:\\users\\leszekkwasniewski\\appdata\\roaming\\python\\python312\\site-packages (from matplotlib) (4.55.0)\n",
      "Requirement already satisfied: kiwisolver>=1.3.1 in c:\\users\\leszekkwasniewski\\appdata\\roaming\\python\\python312\\site-packages (from matplotlib) (1.4.7)\n",
      "Requirement already satisfied: packaging>=20.0 in c:\\programdata\\anaconda3\\lib\\site-packages (from matplotlib) (24.1)\n",
      "Requirement already satisfied: pillow>=8 in c:\\users\\leszekkwasniewski\\appdata\\roaming\\python\\python312\\site-packages (from matplotlib) (11.0.0)\n",
      "Requirement already satisfied: pyparsing>=2.3.1 in c:\\users\\leszekkwasniewski\\appdata\\roaming\\python\\python312\\site-packages (from matplotlib) (3.2.0)\n",
      "Requirement already satisfied: python-dateutil>=2.7 in c:\\programdata\\anaconda3\\lib\\site-packages (from matplotlib) (2.9.0.post0)\n",
      "Requirement already satisfied: pytz>=2020.1 in c:\\programdata\\anaconda3\\lib\\site-packages (from pandas) (2024.1)\n",
      "Requirement already satisfied: tzdata>=2022.7 in c:\\programdata\\anaconda3\\lib\\site-packages (from pandas) (2023.3)\n",
      "Requirement already satisfied: joblib>=1.2.0 in c:\\programdata\\anaconda3\\lib\\site-packages (from scikit-learn) (1.4.2)\n",
      "Requirement already satisfied: threadpoolctl>=3.1.0 in c:\\programdata\\anaconda3\\lib\\site-packages (from scikit-learn) (3.5.0)\n",
      "Requirement already satisfied: certifi>=2023.7.22 in c:\\programdata\\anaconda3\\lib\\site-packages (from kaggle) (2024.12.14)\n",
      "Requirement already satisfied: requests in c:\\programdata\\anaconda3\\lib\\site-packages (from kaggle) (2.32.3)\n",
      "Requirement already satisfied: tqdm in c:\\users\\leszekkwasniewski\\appdata\\roaming\\python\\python312\\site-packages (from kaggle) (4.67.1)\n",
      "Requirement already satisfied: python-slugify in c:\\programdata\\anaconda3\\lib\\site-packages (from kaggle) (5.0.2)\n",
      "Requirement already satisfied: urllib3 in c:\\programdata\\anaconda3\\lib\\site-packages (from kaggle) (2.2.3)\n",
      "Requirement already satisfied: bleach in c:\\programdata\\anaconda3\\lib\\site-packages (from kaggle) (4.1.0)\n",
      "Requirement already satisfied: alembic>=1.5.0 in c:\\users\\leszekkwasniewski\\appdata\\roaming\\python\\python312\\site-packages (from optuna) (1.14.1)\n",
      "Requirement already satisfied: colorlog in c:\\users\\leszekkwasniewski\\appdata\\roaming\\python\\python312\\site-packages (from optuna) (6.9.0)\n",
      "Requirement already satisfied: sqlalchemy>=1.4.2 in c:\\programdata\\anaconda3\\lib\\site-packages (from optuna) (2.0.34)\n",
      "Requirement already satisfied: PyYAML in c:\\programdata\\anaconda3\\lib\\site-packages (from optuna) (6.0.1)\n",
      "Requirement already satisfied: comm>=0.1.3 in c:\\programdata\\anaconda3\\lib\\site-packages (from ipywidgets) (0.2.1)\n",
      "Requirement already satisfied: ipython-genutils~=0.2.0 in c:\\programdata\\anaconda3\\lib\\site-packages (from ipywidgets) (0.2.0)\n",
      "Requirement already satisfied: traitlets>=4.3.1 in c:\\programdata\\anaconda3\\lib\\site-packages (from ipywidgets) (5.14.3)\n",
      "Requirement already satisfied: widgetsnbextension~=3.6.6 in c:\\programdata\\anaconda3\\lib\\site-packages (from ipywidgets) (3.6.6)\n",
      "Requirement already satisfied: ipython>=4.0.0 in c:\\programdata\\anaconda3\\lib\\site-packages (from ipywidgets) (8.27.0)\n",
      "Requirement already satisfied: jupyterlab-widgets<3,>=1.0.0 in c:\\programdata\\anaconda3\\lib\\site-packages (from ipywidgets) (1.0.0)\n",
      "Requirement already satisfied: slicer==0.0.8 in c:\\users\\leszekkwasniewski\\appdata\\roaming\\python\\python312\\site-packages (from shap) (0.0.8)\n",
      "Requirement already satisfied: numba in c:\\programdata\\anaconda3\\lib\\site-packages (from shap) (0.60.0)\n",
      "Requirement already satisfied: cloudpickle in c:\\programdata\\anaconda3\\lib\\site-packages (from shap) (3.0.0)\n",
      "Requirement already satisfied: Mako in c:\\users\\leszekkwasniewski\\appdata\\roaming\\python\\python312\\site-packages (from alembic>=1.5.0->optuna) (1.3.9)\n",
      "Requirement already satisfied: typing-extensions>=4 in c:\\programdata\\anaconda3\\lib\\site-packages (from alembic>=1.5.0->optuna) (4.11.0)\n",
      "Requirement already satisfied: decorator in c:\\programdata\\anaconda3\\lib\\site-packages (from ipython>=4.0.0->ipywidgets) (5.1.1)\n",
      "Requirement already satisfied: jedi>=0.16 in c:\\programdata\\anaconda3\\lib\\site-packages (from ipython>=4.0.0->ipywidgets) (0.19.1)\n",
      "Requirement already satisfied: matplotlib-inline in c:\\programdata\\anaconda3\\lib\\site-packages (from ipython>=4.0.0->ipywidgets) (0.1.6)\n",
      "Requirement already satisfied: prompt-toolkit<3.1.0,>=3.0.41 in c:\\programdata\\anaconda3\\lib\\site-packages (from ipython>=4.0.0->ipywidgets) (3.0.43)\n",
      "Requirement already satisfied: pygments>=2.4.0 in c:\\programdata\\anaconda3\\lib\\site-packages (from ipython>=4.0.0->ipywidgets) (2.15.1)\n",
      "Requirement already satisfied: stack-data in c:\\programdata\\anaconda3\\lib\\site-packages (from ipython>=4.0.0->ipywidgets) (0.2.0)\n",
      "Requirement already satisfied: colorama in c:\\programdata\\anaconda3\\lib\\site-packages (from ipython>=4.0.0->ipywidgets) (0.4.6)\n",
      "Requirement already satisfied: greenlet!=0.4.17 in c:\\programdata\\anaconda3\\lib\\site-packages (from sqlalchemy>=1.4.2->optuna) (3.0.1)\n",
      "Requirement already satisfied: notebook>=4.4.1 in c:\\programdata\\anaconda3\\lib\\site-packages (from widgetsnbextension~=3.6.6->ipywidgets) (7.2.2)\n",
      "Requirement already satisfied: webencodings in c:\\programdata\\anaconda3\\lib\\site-packages (from bleach->kaggle) (0.5.1)\n",
      "Requirement already satisfied: llvmlite<0.44,>=0.43.0dev0 in c:\\programdata\\anaconda3\\lib\\site-packages (from numba->shap) (0.43.0)\n",
      "Requirement already satisfied: tenacity>=6.2.0 in c:\\programdata\\anaconda3\\lib\\site-packages (from plotly->catboost) (8.2.3)\n",
      "Requirement already satisfied: text-unidecode>=1.3 in c:\\programdata\\anaconda3\\lib\\site-packages (from python-slugify->kaggle) (1.3)\n",
      "Requirement already satisfied: charset-normalizer<4,>=2 in c:\\programdata\\anaconda3\\lib\\site-packages (from requests->kaggle) (3.3.2)\n",
      "Requirement already satisfied: idna<4,>=2.5 in c:\\programdata\\anaconda3\\lib\\site-packages (from requests->kaggle) (3.7)\n",
      "Requirement already satisfied: parso<0.9.0,>=0.8.3 in c:\\programdata\\anaconda3\\lib\\site-packages (from jedi>=0.16->ipython>=4.0.0->ipywidgets) (0.8.3)\n",
      "Requirement already satisfied: jupyter-server<3,>=2.4.0 in c:\\programdata\\anaconda3\\lib\\site-packages (from notebook>=4.4.1->widgetsnbextension~=3.6.6->ipywidgets) (2.14.1)\n",
      "Requirement already satisfied: jupyterlab-server<3,>=2.27.1 in c:\\programdata\\anaconda3\\lib\\site-packages (from notebook>=4.4.1->widgetsnbextension~=3.6.6->ipywidgets) (2.27.3)\n",
      "Requirement already satisfied: jupyterlab<4.3,>=4.2.0 in c:\\programdata\\anaconda3\\lib\\site-packages (from notebook>=4.4.1->widgetsnbextension~=3.6.6->ipywidgets) (4.2.5)\n",
      "Requirement already satisfied: notebook-shim<0.3,>=0.2 in c:\\programdata\\anaconda3\\lib\\site-packages (from notebook>=4.4.1->widgetsnbextension~=3.6.6->ipywidgets) (0.2.3)\n",
      "Requirement already satisfied: tornado>=6.2.0 in c:\\programdata\\anaconda3\\lib\\site-packages (from notebook>=4.4.1->widgetsnbextension~=3.6.6->ipywidgets) (6.4.1)\n",
      "Requirement already satisfied: wcwidth in c:\\programdata\\anaconda3\\lib\\site-packages (from prompt-toolkit<3.1.0,>=3.0.41->ipython>=4.0.0->ipywidgets) (0.2.5)\n",
      "Requirement already satisfied: MarkupSafe>=0.9.2 in c:\\programdata\\anaconda3\\lib\\site-packages (from Mako->alembic>=1.5.0->optuna) (2.1.3)\n",
      "Requirement already satisfied: executing in c:\\programdata\\anaconda3\\lib\\site-packages (from stack-data->ipython>=4.0.0->ipywidgets) (0.8.3)\n",
      "Requirement already satisfied: asttokens in c:\\programdata\\anaconda3\\lib\\site-packages (from stack-data->ipython>=4.0.0->ipywidgets) (2.0.5)\n",
      "Requirement already satisfied: pure-eval in c:\\programdata\\anaconda3\\lib\\site-packages (from stack-data->ipython>=4.0.0->ipywidgets) (0.2.2)\n",
      "Requirement already satisfied: anyio>=3.1.0 in c:\\programdata\\anaconda3\\lib\\site-packages (from jupyter-server<3,>=2.4.0->notebook>=4.4.1->widgetsnbextension~=3.6.6->ipywidgets) (4.2.0)\n",
      "Requirement already satisfied: argon2-cffi>=21.1 in c:\\programdata\\anaconda3\\lib\\site-packages (from jupyter-server<3,>=2.4.0->notebook>=4.4.1->widgetsnbextension~=3.6.6->ipywidgets) (21.3.0)\n",
      "Requirement already satisfied: jinja2>=3.0.3 in c:\\programdata\\anaconda3\\lib\\site-packages (from jupyter-server<3,>=2.4.0->notebook>=4.4.1->widgetsnbextension~=3.6.6->ipywidgets) (3.1.4)\n",
      "Requirement already satisfied: jupyter-client>=7.4.4 in c:\\programdata\\anaconda3\\lib\\site-packages (from jupyter-server<3,>=2.4.0->notebook>=4.4.1->widgetsnbextension~=3.6.6->ipywidgets) (8.6.0)\n",
      "Requirement already satisfied: jupyter-core!=5.0.*,>=4.12 in c:\\programdata\\anaconda3\\lib\\site-packages (from jupyter-server<3,>=2.4.0->notebook>=4.4.1->widgetsnbextension~=3.6.6->ipywidgets) (5.7.2)\n",
      "Requirement already satisfied: jupyter-events>=0.9.0 in c:\\programdata\\anaconda3\\lib\\site-packages (from jupyter-server<3,>=2.4.0->notebook>=4.4.1->widgetsnbextension~=3.6.6->ipywidgets) (0.10.0)\n",
      "Requirement already satisfied: jupyter-server-terminals>=0.4.4 in c:\\programdata\\anaconda3\\lib\\site-packages (from jupyter-server<3,>=2.4.0->notebook>=4.4.1->widgetsnbextension~=3.6.6->ipywidgets) (0.4.4)\n",
      "Requirement already satisfied: nbconvert>=6.4.4 in c:\\programdata\\anaconda3\\lib\\site-packages (from jupyter-server<3,>=2.4.0->notebook>=4.4.1->widgetsnbextension~=3.6.6->ipywidgets) (7.16.4)\n",
      "Requirement already satisfied: nbformat>=5.3.0 in c:\\programdata\\anaconda3\\lib\\site-packages (from jupyter-server<3,>=2.4.0->notebook>=4.4.1->widgetsnbextension~=3.6.6->ipywidgets) (5.10.4)\n",
      "Requirement already satisfied: overrides>=5.0 in c:\\programdata\\anaconda3\\lib\\site-packages (from jupyter-server<3,>=2.4.0->notebook>=4.4.1->widgetsnbextension~=3.6.6->ipywidgets) (7.4.0)\n",
      "Requirement already satisfied: prometheus-client>=0.9 in c:\\programdata\\anaconda3\\lib\\site-packages (from jupyter-server<3,>=2.4.0->notebook>=4.4.1->widgetsnbextension~=3.6.6->ipywidgets) (0.14.1)\n",
      "Requirement already satisfied: pywinpty>=2.0.1 in c:\\programdata\\anaconda3\\lib\\site-packages (from jupyter-server<3,>=2.4.0->notebook>=4.4.1->widgetsnbextension~=3.6.6->ipywidgets) (2.0.10)\n",
      "Requirement already satisfied: pyzmq>=24 in c:\\programdata\\anaconda3\\lib\\site-packages (from jupyter-server<3,>=2.4.0->notebook>=4.4.1->widgetsnbextension~=3.6.6->ipywidgets) (25.1.2)\n",
      "Requirement already satisfied: send2trash>=1.8.2 in c:\\programdata\\anaconda3\\lib\\site-packages (from jupyter-server<3,>=2.4.0->notebook>=4.4.1->widgetsnbextension~=3.6.6->ipywidgets) (1.8.2)\n",
      "Requirement already satisfied: terminado>=0.8.3 in c:\\programdata\\anaconda3\\lib\\site-packages (from jupyter-server<3,>=2.4.0->notebook>=4.4.1->widgetsnbextension~=3.6.6->ipywidgets) (0.17.1)\n",
      "Requirement already satisfied: websocket-client>=1.7 in c:\\programdata\\anaconda3\\lib\\site-packages (from jupyter-server<3,>=2.4.0->notebook>=4.4.1->widgetsnbextension~=3.6.6->ipywidgets) (1.8.0)\n",
      "Requirement already satisfied: async-lru>=1.0.0 in c:\\programdata\\anaconda3\\lib\\site-packages (from jupyterlab<4.3,>=4.2.0->notebook>=4.4.1->widgetsnbextension~=3.6.6->ipywidgets) (2.0.4)\n",
      "Requirement already satisfied: httpx>=0.25.0 in c:\\programdata\\anaconda3\\lib\\site-packages (from jupyterlab<4.3,>=4.2.0->notebook>=4.4.1->widgetsnbextension~=3.6.6->ipywidgets) (0.27.0)\n",
      "Requirement already satisfied: ipykernel>=6.5.0 in c:\\programdata\\anaconda3\\lib\\site-packages (from jupyterlab<4.3,>=4.2.0->notebook>=4.4.1->widgetsnbextension~=3.6.6->ipywidgets) (6.28.0)\n",
      "Requirement already satisfied: jupyter-lsp>=2.0.0 in c:\\programdata\\anaconda3\\lib\\site-packages (from jupyterlab<4.3,>=4.2.0->notebook>=4.4.1->widgetsnbextension~=3.6.6->ipywidgets) (2.2.0)\n",
      "Requirement already satisfied: setuptools>=40.1.0 in c:\\programdata\\anaconda3\\lib\\site-packages (from jupyterlab<4.3,>=4.2.0->notebook>=4.4.1->widgetsnbextension~=3.6.6->ipywidgets) (75.1.0)\n",
      "Requirement already satisfied: babel>=2.10 in c:\\programdata\\anaconda3\\lib\\site-packages (from jupyterlab-server<3,>=2.27.1->notebook>=4.4.1->widgetsnbextension~=3.6.6->ipywidgets) (2.11.0)\n",
      "Requirement already satisfied: json5>=0.9.0 in c:\\programdata\\anaconda3\\lib\\site-packages (from jupyterlab-server<3,>=2.27.1->notebook>=4.4.1->widgetsnbextension~=3.6.6->ipywidgets) (0.9.6)\n",
      "Requirement already satisfied: jsonschema>=4.18.0 in c:\\programdata\\anaconda3\\lib\\site-packages (from jupyterlab-server<3,>=2.27.1->notebook>=4.4.1->widgetsnbextension~=3.6.6->ipywidgets) (4.23.0)\n",
      "Requirement already satisfied: sniffio>=1.1 in c:\\programdata\\anaconda3\\lib\\site-packages (from anyio>=3.1.0->jupyter-server<3,>=2.4.0->notebook>=4.4.1->widgetsnbextension~=3.6.6->ipywidgets) (1.3.0)\n",
      "Requirement already satisfied: argon2-cffi-bindings in c:\\programdata\\anaconda3\\lib\\site-packages (from argon2-cffi>=21.1->jupyter-server<3,>=2.4.0->notebook>=4.4.1->widgetsnbextension~=3.6.6->ipywidgets) (21.2.0)\n",
      "Requirement already satisfied: httpcore==1.* in c:\\programdata\\anaconda3\\lib\\site-packages (from httpx>=0.25.0->jupyterlab<4.3,>=4.2.0->notebook>=4.4.1->widgetsnbextension~=3.6.6->ipywidgets) (1.0.2)\n",
      "Requirement already satisfied: h11<0.15,>=0.13 in c:\\programdata\\anaconda3\\lib\\site-packages (from httpcore==1.*->httpx>=0.25.0->jupyterlab<4.3,>=4.2.0->notebook>=4.4.1->widgetsnbextension~=3.6.6->ipywidgets) (0.14.0)\n",
      "Requirement already satisfied: debugpy>=1.6.5 in c:\\programdata\\anaconda3\\lib\\site-packages (from ipykernel>=6.5.0->jupyterlab<4.3,>=4.2.0->notebook>=4.4.1->widgetsnbextension~=3.6.6->ipywidgets) (1.6.7)\n",
      "Requirement already satisfied: nest-asyncio in c:\\programdata\\anaconda3\\lib\\site-packages (from ipykernel>=6.5.0->jupyterlab<4.3,>=4.2.0->notebook>=4.4.1->widgetsnbextension~=3.6.6->ipywidgets) (1.6.0)\n",
      "Requirement already satisfied: psutil in c:\\programdata\\anaconda3\\lib\\site-packages (from ipykernel>=6.5.0->jupyterlab<4.3,>=4.2.0->notebook>=4.4.1->widgetsnbextension~=3.6.6->ipywidgets) (5.9.0)\n",
      "Requirement already satisfied: attrs>=22.2.0 in c:\\programdata\\anaconda3\\lib\\site-packages (from jsonschema>=4.18.0->jupyterlab-server<3,>=2.27.1->notebook>=4.4.1->widgetsnbextension~=3.6.6->ipywidgets) (23.1.0)\n",
      "Requirement already satisfied: jsonschema-specifications>=2023.03.6 in c:\\programdata\\anaconda3\\lib\\site-packages (from jsonschema>=4.18.0->jupyterlab-server<3,>=2.27.1->notebook>=4.4.1->widgetsnbextension~=3.6.6->ipywidgets) (2023.7.1)\n",
      "Requirement already satisfied: referencing>=0.28.4 in c:\\programdata\\anaconda3\\lib\\site-packages (from jsonschema>=4.18.0->jupyterlab-server<3,>=2.27.1->notebook>=4.4.1->widgetsnbextension~=3.6.6->ipywidgets) (0.30.2)\n",
      "Requirement already satisfied: rpds-py>=0.7.1 in c:\\programdata\\anaconda3\\lib\\site-packages (from jsonschema>=4.18.0->jupyterlab-server<3,>=2.27.1->notebook>=4.4.1->widgetsnbextension~=3.6.6->ipywidgets) (0.10.6)\n",
      "Requirement already satisfied: platformdirs>=2.5 in c:\\programdata\\anaconda3\\lib\\site-packages (from jupyter-core!=5.0.*,>=4.12->jupyter-server<3,>=2.4.0->notebook>=4.4.1->widgetsnbextension~=3.6.6->ipywidgets) (3.10.0)\n",
      "Requirement already satisfied: pywin32>=300 in c:\\programdata\\anaconda3\\lib\\site-packages (from jupyter-core!=5.0.*,>=4.12->jupyter-server<3,>=2.4.0->notebook>=4.4.1->widgetsnbextension~=3.6.6->ipywidgets) (305.1)\n",
      "Requirement already satisfied: python-json-logger>=2.0.4 in c:\\programdata\\anaconda3\\lib\\site-packages (from jupyter-events>=0.9.0->jupyter-server<3,>=2.4.0->notebook>=4.4.1->widgetsnbextension~=3.6.6->ipywidgets) (2.0.7)\n",
      "Requirement already satisfied: rfc3339-validator in c:\\programdata\\anaconda3\\lib\\site-packages (from jupyter-events>=0.9.0->jupyter-server<3,>=2.4.0->notebook>=4.4.1->widgetsnbextension~=3.6.6->ipywidgets) (0.1.4)\n",
      "Requirement already satisfied: rfc3986-validator>=0.1.1 in c:\\programdata\\anaconda3\\lib\\site-packages (from jupyter-events>=0.9.0->jupyter-server<3,>=2.4.0->notebook>=4.4.1->widgetsnbextension~=3.6.6->ipywidgets) (0.1.1)\n",
      "Requirement already satisfied: beautifulsoup4 in c:\\programdata\\anaconda3\\lib\\site-packages (from nbconvert>=6.4.4->jupyter-server<3,>=2.4.0->notebook>=4.4.1->widgetsnbextension~=3.6.6->ipywidgets) (4.12.3)\n",
      "Requirement already satisfied: defusedxml in c:\\programdata\\anaconda3\\lib\\site-packages (from nbconvert>=6.4.4->jupyter-server<3,>=2.4.0->notebook>=4.4.1->widgetsnbextension~=3.6.6->ipywidgets) (0.7.1)\n",
      "Requirement already satisfied: jupyterlab-pygments in c:\\programdata\\anaconda3\\lib\\site-packages (from nbconvert>=6.4.4->jupyter-server<3,>=2.4.0->notebook>=4.4.1->widgetsnbextension~=3.6.6->ipywidgets) (0.1.2)\n",
      "Requirement already satisfied: mistune<4,>=2.0.3 in c:\\programdata\\anaconda3\\lib\\site-packages (from nbconvert>=6.4.4->jupyter-server<3,>=2.4.0->notebook>=4.4.1->widgetsnbextension~=3.6.6->ipywidgets) (2.0.4)\n",
      "Requirement already satisfied: nbclient>=0.5.0 in c:\\programdata\\anaconda3\\lib\\site-packages (from nbconvert>=6.4.4->jupyter-server<3,>=2.4.0->notebook>=4.4.1->widgetsnbextension~=3.6.6->ipywidgets) (0.8.0)\n",
      "Requirement already satisfied: pandocfilters>=1.4.1 in c:\\programdata\\anaconda3\\lib\\site-packages (from nbconvert>=6.4.4->jupyter-server<3,>=2.4.0->notebook>=4.4.1->widgetsnbextension~=3.6.6->ipywidgets) (1.5.0)\n",
      "Requirement already satisfied: tinycss2 in c:\\programdata\\anaconda3\\lib\\site-packages (from nbconvert>=6.4.4->jupyter-server<3,>=2.4.0->notebook>=4.4.1->widgetsnbextension~=3.6.6->ipywidgets) (1.2.1)\n",
      "Requirement already satisfied: fastjsonschema>=2.15 in c:\\programdata\\anaconda3\\lib\\site-packages (from nbformat>=5.3.0->jupyter-server<3,>=2.4.0->notebook>=4.4.1->widgetsnbextension~=3.6.6->ipywidgets) (2.16.2)\n",
      "Requirement already satisfied: fqdn in c:\\users\\leszekkwasniewski\\appdata\\roaming\\python\\python312\\site-packages (from jsonschema[format-nongpl]>=4.18.0->jupyter-events>=0.9.0->jupyter-server<3,>=2.4.0->notebook>=4.4.1->widgetsnbextension~=3.6.6->ipywidgets) (1.5.1)\n",
      "Requirement already satisfied: isoduration in c:\\users\\leszekkwasniewski\\appdata\\roaming\\python\\python312\\site-packages (from jsonschema[format-nongpl]>=4.18.0->jupyter-events>=0.9.0->jupyter-server<3,>=2.4.0->notebook>=4.4.1->widgetsnbextension~=3.6.6->ipywidgets) (20.11.0)\n",
      "Requirement already satisfied: jsonpointer>1.13 in c:\\programdata\\anaconda3\\lib\\site-packages (from jsonschema[format-nongpl]>=4.18.0->jupyter-events>=0.9.0->jupyter-server<3,>=2.4.0->notebook>=4.4.1->widgetsnbextension~=3.6.6->ipywidgets) (2.1)\n",
      "Requirement already satisfied: uri-template in c:\\users\\leszekkwasniewski\\appdata\\roaming\\python\\python312\\site-packages (from jsonschema[format-nongpl]>=4.18.0->jupyter-events>=0.9.0->jupyter-server<3,>=2.4.0->notebook>=4.4.1->widgetsnbextension~=3.6.6->ipywidgets) (1.3.0)\n",
      "Requirement already satisfied: webcolors>=24.6.0 in c:\\users\\leszekkwasniewski\\appdata\\roaming\\python\\python312\\site-packages (from jsonschema[format-nongpl]>=4.18.0->jupyter-events>=0.9.0->jupyter-server<3,>=2.4.0->notebook>=4.4.1->widgetsnbextension~=3.6.6->ipywidgets) (24.11.1)\n",
      "Requirement already satisfied: cffi>=1.0.1 in c:\\programdata\\anaconda3\\lib\\site-packages (from argon2-cffi-bindings->argon2-cffi>=21.1->jupyter-server<3,>=2.4.0->notebook>=4.4.1->widgetsnbextension~=3.6.6->ipywidgets) (1.17.1)\n",
      "Requirement already satisfied: soupsieve>1.2 in c:\\programdata\\anaconda3\\lib\\site-packages (from beautifulsoup4->nbconvert>=6.4.4->jupyter-server<3,>=2.4.0->notebook>=4.4.1->widgetsnbextension~=3.6.6->ipywidgets) (2.5)\n",
      "Requirement already satisfied: pycparser in c:\\programdata\\anaconda3\\lib\\site-packages (from cffi>=1.0.1->argon2-cffi-bindings->argon2-cffi>=21.1->jupyter-server<3,>=2.4.0->notebook>=4.4.1->widgetsnbextension~=3.6.6->ipywidgets) (2.21)\n",
      "Requirement already satisfied: arrow>=0.15.0 in c:\\programdata\\anaconda3\\lib\\site-packages (from isoduration->jsonschema[format-nongpl]>=4.18.0->jupyter-events>=0.9.0->jupyter-server<3,>=2.4.0->notebook>=4.4.1->widgetsnbextension~=3.6.6->ipywidgets) (1.2.3)\n",
      "Note: you may need to restart the kernel to use updated packages.\n"
     ]
    }
   ],
   "source": [
    "%pip install catboost matplotlib pandas scikit-learn kaggle optuna ipywidgets kaleido shap"
   ]
  },
  {
   "cell_type": "markdown",
   "id": "9e74b72a-4dd5-4a2d-8b23-58443dd4c862",
   "metadata": {
    "editable": false,
    "slideshow": {
     "slide_type": "slide"
    },
    "tags": []
   },
   "source": [
    "Getting the data again."
   ]
  },
  {
   "cell_type": "code",
   "execution_count": 2,
   "id": "33798031-5b84-404d-8934-ff0e9d243db4",
   "metadata": {
    "editable": true,
    "slideshow": {
     "slide_type": "subslide"
    },
    "tags": []
   },
   "outputs": [
    {
     "name": "stdout",
     "output_type": "stream",
     "text": [
      "Dataset URL: https://www.kaggle.com/datasets/wesleyhowe/titanic-labelled-test-set\n"
     ]
    }
   ],
   "source": [
    "import os\n",
    "import zipfile\n",
    "from pathlib import Path\n",
    "from kaggle.api.kaggle_api_extended import KaggleApi\n",
    "\n",
    "api = KaggleApi()\n",
    "api.authenticate()\n",
    "\n",
    "dataset = \"titanic\"  # original competition dataset\n",
    "dataset_test = \"wesleyhowe/titanic-labelled-test-set\"  # test set augmented with target labels\n",
    "download_folder = Path(\"data/titanic\")\n",
    "zip_path = download_folder / \"titanic.zip\"\n",
    "download_folder.mkdir(parents=True, exist_ok=True)\n",
    "\n",
    "api.competition_download_files(dataset, path=str(download_folder))\n",
    "api.dataset_download_files(dataset_test, path=str(download_folder), unzip=True)\n",
    "\n",
    "with zipfile.ZipFile(zip_path, \"r\") as zip_ref:\n",
    "    zip_ref.extractall(str(download_folder))\n",
    "\n",
    "os.remove(zip_path)"
   ]
  },
  {
   "cell_type": "code",
   "execution_count": 3,
   "id": "0a42389d-e7af-4a9c-bf0d-58017bf9688b",
   "metadata": {
    "editable": true,
    "slideshow": {
     "slide_type": "subslide"
    },
    "tags": []
   },
   "outputs": [
    {
     "name": "stdout",
     "output_type": "stream",
     "text": [
      " Volume in drive C has no label.\n",
      " Volume Serial Number is 3A49-1008\n",
      "\n",
      " Directory of c:\\Users\\LeszekKwasniewski\\OneDrive - LK-NET Leszek Kwa�niewski\\05 Studia\\_Studia podyplomowe AI\\MLOps_Claus\\ARISA-MLOps\\data\\titanic\n",
      "\n",
      "23.02.2025  10:05    <DIR>          .\n",
      "23.02.2025  10:05    <DIR>          ..\n",
      "23.02.2025  10:05             3�258 gender_submission.csv\n",
      "23.02.2025  10:05            28�629 test.csv\n",
      "23.02.2025  10:05            30�234 test_augmented.csv\n",
      "23.02.2025  10:05            61�194 train.csv\n",
      "               4 File(s)        123�315 bytes\n",
      "               2 Dir(s)  294�214�545�408 bytes free\n"
     ]
    }
   ],
   "source": [
    "!dir \"./data/titanic\""
   ]
  },
  {
   "cell_type": "markdown",
   "id": "890bca88-b545-4226-ae7f-64b1388190fd",
   "metadata": {
    "editable": false,
    "slideshow": {
     "slide_type": "slide"
    },
    "tags": []
   },
   "source": [
    "Read in the data again and dropping passengerId, and now only ticket, since we will be using Name and Cabin."
   ]
  },
  {
   "cell_type": "code",
   "execution_count": 4,
   "id": "349a653a-37fe-480f-9e4d-3dd377e6a012",
   "metadata": {
    "editable": true,
    "slideshow": {
     "slide_type": "subslide"
    },
    "tags": []
   },
   "outputs": [
    {
     "data": {
      "text/html": [
       "<div>\n",
       "<style scoped>\n",
       "    .dataframe tbody tr th:only-of-type {\n",
       "        vertical-align: middle;\n",
       "    }\n",
       "\n",
       "    .dataframe tbody tr th {\n",
       "        vertical-align: top;\n",
       "    }\n",
       "\n",
       "    .dataframe thead th {\n",
       "        text-align: right;\n",
       "    }\n",
       "</style>\n",
       "<table border=\"1\" class=\"dataframe\">\n",
       "  <thead>\n",
       "    <tr style=\"text-align: right;\">\n",
       "      <th></th>\n",
       "      <th>Survived</th>\n",
       "      <th>Pclass</th>\n",
       "      <th>Name</th>\n",
       "      <th>Sex</th>\n",
       "      <th>Age</th>\n",
       "      <th>SibSp</th>\n",
       "      <th>Parch</th>\n",
       "      <th>Fare</th>\n",
       "      <th>Cabin</th>\n",
       "      <th>Embarked</th>\n",
       "    </tr>\n",
       "  </thead>\n",
       "  <tbody>\n",
       "    <tr>\n",
       "      <th>0</th>\n",
       "      <td>0</td>\n",
       "      <td>3</td>\n",
       "      <td>Braund, Mr. Owen Harris</td>\n",
       "      <td>male</td>\n",
       "      <td>22.0</td>\n",
       "      <td>1</td>\n",
       "      <td>0</td>\n",
       "      <td>7.2500</td>\n",
       "      <td>NaN</td>\n",
       "      <td>S</td>\n",
       "    </tr>\n",
       "    <tr>\n",
       "      <th>1</th>\n",
       "      <td>1</td>\n",
       "      <td>1</td>\n",
       "      <td>Cumings, Mrs. John Bradley (Florence Briggs Th...</td>\n",
       "      <td>female</td>\n",
       "      <td>38.0</td>\n",
       "      <td>1</td>\n",
       "      <td>0</td>\n",
       "      <td>71.2833</td>\n",
       "      <td>C85</td>\n",
       "      <td>C</td>\n",
       "    </tr>\n",
       "    <tr>\n",
       "      <th>2</th>\n",
       "      <td>1</td>\n",
       "      <td>3</td>\n",
       "      <td>Heikkinen, Miss. Laina</td>\n",
       "      <td>female</td>\n",
       "      <td>26.0</td>\n",
       "      <td>0</td>\n",
       "      <td>0</td>\n",
       "      <td>7.9250</td>\n",
       "      <td>NaN</td>\n",
       "      <td>S</td>\n",
       "    </tr>\n",
       "    <tr>\n",
       "      <th>3</th>\n",
       "      <td>1</td>\n",
       "      <td>1</td>\n",
       "      <td>Futrelle, Mrs. Jacques Heath (Lily May Peel)</td>\n",
       "      <td>female</td>\n",
       "      <td>35.0</td>\n",
       "      <td>1</td>\n",
       "      <td>0</td>\n",
       "      <td>53.1000</td>\n",
       "      <td>C123</td>\n",
       "      <td>S</td>\n",
       "    </tr>\n",
       "    <tr>\n",
       "      <th>4</th>\n",
       "      <td>0</td>\n",
       "      <td>3</td>\n",
       "      <td>Allen, Mr. William Henry</td>\n",
       "      <td>male</td>\n",
       "      <td>35.0</td>\n",
       "      <td>0</td>\n",
       "      <td>0</td>\n",
       "      <td>8.0500</td>\n",
       "      <td>NaN</td>\n",
       "      <td>S</td>\n",
       "    </tr>\n",
       "  </tbody>\n",
       "</table>\n",
       "</div>"
      ],
      "text/plain": [
       "   Survived  Pclass                                               Name  \\\n",
       "0         0       3                            Braund, Mr. Owen Harris   \n",
       "1         1       1  Cumings, Mrs. John Bradley (Florence Briggs Th...   \n",
       "2         1       3                             Heikkinen, Miss. Laina   \n",
       "3         1       1       Futrelle, Mrs. Jacques Heath (Lily May Peel)   \n",
       "4         0       3                           Allen, Mr. William Henry   \n",
       "\n",
       "      Sex   Age  SibSp  Parch     Fare Cabin Embarked  \n",
       "0    male  22.0      1      0   7.2500   NaN        S  \n",
       "1  female  38.0      1      0  71.2833   C85        C  \n",
       "2  female  26.0      0      0   7.9250   NaN        S  \n",
       "3  female  35.0      1      0  53.1000  C123        S  \n",
       "4    male  35.0      0      0   8.0500   NaN        S  "
      ]
     },
     "execution_count": 4,
     "metadata": {},
     "output_type": "execute_result"
    }
   ],
   "source": [
    "import pandas as pd\n",
    "\n",
    "df_train = pd.read_csv(download_folder / \"train.csv\")\n",
    "df_ids = df_train.pop(\"PassengerId\")  # set aside PassengerId\n",
    "\n",
    "df_train.sample(10)\n",
    "\n",
    "df_train = df_train.drop(columns=[\"Ticket\"])\n",
    "df_train.head()"
   ]
  },
  {
   "cell_type": "markdown",
   "id": "799355dc-ec05-4c0f-84c0-b4e46b390d45",
   "metadata": {
    "editable": false,
    "slideshow": {
     "slide_type": "slide"
    },
    "tags": []
   },
   "source": [
    "Quick regex match on the titles"
   ]
  },
  {
   "cell_type": "code",
   "execution_count": 5,
   "id": "98cde473-4115-4b1c-8f56-f5d2a3d66997",
   "metadata": {
    "editable": true,
    "slideshow": {
     "slide_type": "subslide"
    },
    "tags": []
   },
   "outputs": [
    {
     "data": {
      "text/html": [
       "<div>\n",
       "<style scoped>\n",
       "    .dataframe tbody tr th:only-of-type {\n",
       "        vertical-align: middle;\n",
       "    }\n",
       "\n",
       "    .dataframe tbody tr th {\n",
       "        vertical-align: top;\n",
       "    }\n",
       "\n",
       "    .dataframe thead th {\n",
       "        text-align: right;\n",
       "    }\n",
       "</style>\n",
       "<table border=\"1\" class=\"dataframe\">\n",
       "  <thead>\n",
       "    <tr style=\"text-align: right;\">\n",
       "      <th></th>\n",
       "      <th>Survived</th>\n",
       "      <th>Pclass</th>\n",
       "      <th>Name</th>\n",
       "      <th>Sex</th>\n",
       "      <th>Age</th>\n",
       "      <th>SibSp</th>\n",
       "      <th>Parch</th>\n",
       "      <th>Fare</th>\n",
       "      <th>Cabin</th>\n",
       "      <th>Embarked</th>\n",
       "      <th>Title</th>\n",
       "    </tr>\n",
       "  </thead>\n",
       "  <tbody>\n",
       "    <tr>\n",
       "      <th>152</th>\n",
       "      <td>0</td>\n",
       "      <td>3</td>\n",
       "      <td>Meo, Mr. Alfonzo</td>\n",
       "      <td>male</td>\n",
       "      <td>55.5</td>\n",
       "      <td>0</td>\n",
       "      <td>0</td>\n",
       "      <td>8.0500</td>\n",
       "      <td>NaN</td>\n",
       "      <td>S</td>\n",
       "      <td>Mr</td>\n",
       "    </tr>\n",
       "    <tr>\n",
       "      <th>648</th>\n",
       "      <td>0</td>\n",
       "      <td>3</td>\n",
       "      <td>Willey, Mr. Edward</td>\n",
       "      <td>male</td>\n",
       "      <td>NaN</td>\n",
       "      <td>0</td>\n",
       "      <td>0</td>\n",
       "      <td>7.5500</td>\n",
       "      <td>NaN</td>\n",
       "      <td>S</td>\n",
       "      <td>Mr</td>\n",
       "    </tr>\n",
       "    <tr>\n",
       "      <th>322</th>\n",
       "      <td>1</td>\n",
       "      <td>2</td>\n",
       "      <td>Slayter, Miss. Hilda Mary</td>\n",
       "      <td>female</td>\n",
       "      <td>30.0</td>\n",
       "      <td>0</td>\n",
       "      <td>0</td>\n",
       "      <td>12.3500</td>\n",
       "      <td>NaN</td>\n",
       "      <td>Q</td>\n",
       "      <td>Miss</td>\n",
       "    </tr>\n",
       "    <tr>\n",
       "      <th>150</th>\n",
       "      <td>0</td>\n",
       "      <td>2</td>\n",
       "      <td>Bateman, Rev. Robert James</td>\n",
       "      <td>male</td>\n",
       "      <td>51.0</td>\n",
       "      <td>0</td>\n",
       "      <td>0</td>\n",
       "      <td>12.5250</td>\n",
       "      <td>NaN</td>\n",
       "      <td>S</td>\n",
       "      <td>Rev</td>\n",
       "    </tr>\n",
       "    <tr>\n",
       "      <th>709</th>\n",
       "      <td>1</td>\n",
       "      <td>3</td>\n",
       "      <td>Moubarek, Master. Halim Gonios (\"William George\")</td>\n",
       "      <td>male</td>\n",
       "      <td>NaN</td>\n",
       "      <td>1</td>\n",
       "      <td>1</td>\n",
       "      <td>15.2458</td>\n",
       "      <td>NaN</td>\n",
       "      <td>C</td>\n",
       "      <td>Master</td>\n",
       "    </tr>\n",
       "  </tbody>\n",
       "</table>\n",
       "</div>"
      ],
      "text/plain": [
       "     Survived  Pclass                                               Name  \\\n",
       "152         0       3                                   Meo, Mr. Alfonzo   \n",
       "648         0       3                                 Willey, Mr. Edward   \n",
       "322         1       2                          Slayter, Miss. Hilda Mary   \n",
       "150         0       2                         Bateman, Rev. Robert James   \n",
       "709         1       3  Moubarek, Master. Halim Gonios (\"William George\")   \n",
       "\n",
       "        Sex   Age  SibSp  Parch     Fare Cabin Embarked   Title  \n",
       "152    male  55.5      0      0   8.0500   NaN        S      Mr  \n",
       "648    male   NaN      0      0   7.5500   NaN        S      Mr  \n",
       "322  female  30.0      0      0  12.3500   NaN        Q    Miss  \n",
       "150    male  51.0      0      0  12.5250   NaN        S     Rev  \n",
       "709    male   NaN      1      1  15.2458   NaN        C  Master  "
      ]
     },
     "execution_count": 5,
     "metadata": {},
     "output_type": "execute_result"
    }
   ],
   "source": [
    "import re\n",
    "def extract_title(name):\n",
    "    match = re.search(r',\\s*([\\w\\s]+)\\.', name)\n",
    "    return match.group(1) if match else None\n",
    "df_train[\"Title\"] = df_train[\"Name\"].apply(extract_title)\n",
    "df_train.sample(5)"
   ]
  },
  {
   "cell_type": "markdown",
   "id": "9117e6a6-9751-401d-ae68-ef89f68b5597",
   "metadata": {
    "editable": false,
    "slideshow": {
     "slide_type": "subslide"
    },
    "tags": []
   },
   "source": [
    "Looks about right:"
   ]
  },
  {
   "cell_type": "code",
   "execution_count": 6,
   "id": "9fdfb560-31d7-42e8-8f6a-8a1f206bad56",
   "metadata": {
    "editable": true,
    "slideshow": {
     "slide_type": "subslide"
    },
    "tags": []
   },
   "outputs": [
    {
     "data": {
      "text/plain": [
       "array(['Mr', 'Mrs', 'Miss', 'Master', 'Don', 'Rev', 'Dr', 'Mme', 'Ms',\n",
       "       'Major', 'Lady', 'Sir', 'Mlle', 'Col', 'Capt', 'the Countess',\n",
       "       'Jonkheer'], dtype=object)"
      ]
     },
     "execution_count": 6,
     "metadata": {},
     "output_type": "execute_result"
    }
   ],
   "source": [
    "df_train[\"Title\"].unique()"
   ]
  },
  {
   "cell_type": "markdown",
   "id": "5363fac1-5136-47f3-9a55-f8163812f8da",
   "metadata": {
    "editable": false,
    "slideshow": {
     "slide_type": "slide"
    },
    "tags": []
   },
   "source": [
    "And for the Cabin we split into deck and cabin number:"
   ]
  },
  {
   "cell_type": "code",
   "execution_count": 7,
   "id": "71d69c1b-7f67-4ff6-bef1-b3314fcff2e1",
   "metadata": {
    "editable": true,
    "slideshow": {
     "slide_type": "subslide"
    },
    "tags": []
   },
   "outputs": [],
   "source": [
    "# pattern to match a letter followed by a number\n",
    "pattern = r'([A-Za-z]+)(\\d+)'\n",
    "\n",
    "# run pattern on Cabin to extract all matches\n",
    "matches = df_train['Cabin'].str.extractall(pattern)\n",
    "matches.reset_index(inplace=True)\n",
    "\n",
    "# create a new column for each letter and number matched\n",
    "result = matches.pivot(index='level_0', columns='match', values=[0, 1])\n",
    "result.columns = [f\"{col[0]}_{col[1]}\" for col in result.columns]\n",
    "\n",
    "# join to original train dataframe\n",
    "df_train = df_train.join(result[[\"0_0\", \"1_0\"]])\n",
    "\n",
    "# fill nans\n",
    "df_train[\"1_0\"] = df_train[\"1_0\"].astype(float)\n",
    "df_train = df_train.fillna({\"0_0\": \"N\", \"1_0\": df_train[\"1_0\"].mean()})\n",
    "df_train[\"1_0\"] = df_train[\"1_0\"].astype(int)\n",
    "\n",
    "# rename new columns and drop old ones\n",
    "df_train = df_train.rename(columns={\"0_0\": \"Deck\", \"1_0\": \"CabinNumber\"})\n",
    "df_train.drop(columns=[\"Cabin\", \"Name\"], axis=1, inplace=True)"
   ]
  },
  {
   "cell_type": "markdown",
   "id": "65b14cc6-b333-497f-922c-a321f50dfb44",
   "metadata": {
    "editable": false,
    "slideshow": {
     "slide_type": "slide"
    },
    "tags": []
   },
   "source": [
    "Fill remaining nans:"
   ]
  },
  {
   "cell_type": "code",
   "execution_count": 8,
   "id": "ff0bf760-97b2-4e78-8eb3-d4e8c118f1fd",
   "metadata": {
    "editable": true,
    "slideshow": {
     "slide_type": "subslide"
    },
    "tags": []
   },
   "outputs": [
    {
     "name": "stdout",
     "output_type": "stream",
     "text": [
      "<class 'pandas.core.frame.DataFrame'>\n",
      "RangeIndex: 891 entries, 0 to 890\n",
      "Data columns (total 11 columns):\n",
      " #   Column       Non-Null Count  Dtype  \n",
      "---  ------       --------------  -----  \n",
      " 0   Survived     891 non-null    int64  \n",
      " 1   Pclass       891 non-null    int64  \n",
      " 2   Sex          891 non-null    object \n",
      " 3   Age          891 non-null    float64\n",
      " 4   SibSp        891 non-null    int64  \n",
      " 5   Parch        891 non-null    int64  \n",
      " 6   Fare         891 non-null    float64\n",
      " 7   Embarked     891 non-null    object \n",
      " 8   Title        891 non-null    object \n",
      " 9   Deck         891 non-null    object \n",
      " 10  CabinNumber  891 non-null    int32  \n",
      "dtypes: float64(2), int32(1), int64(4), object(4)\n",
      "memory usage: 73.2+ KB\n"
     ]
    }
   ],
   "source": [
    "df_train = df_train.fillna({\"Embarked\": \"N\", \"Age\": df_train[\"Age\"].mean()})\n",
    "df_train.info()"
   ]
  },
  {
   "cell_type": "markdown",
   "id": "565124f5-e8ae-4890-856c-bf9368730d7c",
   "metadata": {
    "editable": false,
    "slideshow": {
     "slide_type": "slide"
    },
    "tags": []
   },
   "source": [
    "Get indices for categorical columns now including Title and Deck (CabinNumber is numerical):"
   ]
  },
  {
   "cell_type": "code",
   "execution_count": 9,
   "id": "25939d38-d8f1-409d-99a5-5422918d46b6",
   "metadata": {
    "editable": true,
    "slideshow": {
     "slide_type": "subslide"
    },
    "tags": []
   },
   "outputs": [
    {
     "data": {
      "text/plain": [
       "[0, 1, 6, 8, 7]"
      ]
     },
     "execution_count": 9,
     "metadata": {},
     "output_type": "execute_result"
    }
   ],
   "source": [
    "categorical = [\n",
    "    \"Pclass\", \n",
    "    \"Sex\", \n",
    "    \"Embarked\",\n",
    "    \"Deck\",\n",
    "    \"Title\"\n",
    "]\n",
    "\n",
    "y_train = df_train.pop(\"Survived\")\n",
    "X_train = df_train\n",
    "\n",
    "categorical_indices = [X_train.columns.get_loc(col) for col in categorical if col in X_train.columns]\n",
    "categorical_indices"
   ]
  },
  {
   "cell_type": "markdown",
   "id": "37229885-44d0-479e-81d0-0dcae5bfd507",
   "metadata": {
    "editable": false,
    "slideshow": {
     "slide_type": "slide"
    },
    "tags": []
   },
   "source": [
    "And run the hyperparameter optimization:"
   ]
  },
  {
   "cell_type": "code",
   "execution_count": 11,
   "id": "4891bf8c-64b0-4735-8d2f-03425d886925",
   "metadata": {
    "editable": true,
    "slideshow": {
     "slide_type": "subslide"
    },
    "tags": []
   },
   "outputs": [
    {
     "name": "stdout",
     "output_type": "stream",
     "text": [
      "Best Parameters: {'depth': 4, 'learning_rate': 0.22006324169065175, 'iterations': 163, 'l2_leaf_reg': 0.031900004970318356, 'bagging_temperature': 0.5964381011651683, 'random_strength': 0.0013931822006011051}\n"
     ]
    }
   ],
   "source": [
    "import joblib\n",
    "import optuna\n",
    "from sklearn.model_selection import train_test_split\n",
    "from catboost import CatBoostClassifier, Pool, cv\n",
    "\n",
    "outfolder = Path(\"results\")\n",
    "outfolder.mkdir(parents=True, exist_ok=True)\n",
    "\n",
    "best_params_path = outfolder / \"best_params_v2.pkl\"\n",
    "\n",
    "if not best_params_path.is_file():\n",
    "    X_train_opt, X_val_opt, y_train_opt, y_val_opt = train_test_split(X_train, y_train, test_size=0.25, random_state=42)\n",
    "    \n",
    "    def objective(trial):\n",
    "        params = {\n",
    "            \"depth\": trial.suggest_int(\"depth\", 2, 10),\n",
    "            \"learning_rate\": trial.suggest_float(\"learning_rate\", 1e-4, 0.3),\n",
    "            \"iterations\": trial.suggest_int(\"iterations\", 50, 300),\n",
    "            \"l2_leaf_reg\": trial.suggest_float(\"l2_leaf_reg\", 1e-5, 100.0, log=True),\n",
    "            \"bagging_temperature\": trial.suggest_float(\"bagging_temperature\", 0.01, 1),\n",
    "            \"random_strength\": trial.suggest_float(\"random_strength\", 1e-5, 100.0, log=True)\n",
    "        }\n",
    "        model = CatBoostClassifier(**params, verbose=0)\n",
    "        model.fit(X_train_opt, y_train_opt, eval_set=(X_val_opt, y_val_opt), cat_features=categorical_indices, early_stopping_rounds=50)\n",
    "        return model.get_best_score()[\"validation\"][\"Logloss\"]\n",
    "    study = optuna.create_study(direction=\"minimize\")\n",
    "    study.optimize(objective, n_trials=50)\n",
    "    \n",
    "    joblib.dump(study.best_params, best_params_path)\n",
    "    params = study.best_params\n",
    "else:\n",
    "    params = joblib.load(best_params_path)\n",
    "print(\"Best Parameters:\", params)"
   ]
  },
  {
   "cell_type": "markdown",
   "id": "8af73d1c-bb53-47e5-bc84-293972e6837c",
   "metadata": {
    "editable": false,
    "slideshow": {
     "slide_type": "slide"
    },
    "tags": []
   },
   "source": [
    "Do cross validation again:"
   ]
  },
  {
   "cell_type": "code",
   "execution_count": 12,
   "id": "f54fd995-ebc1-4adc-86c9-595fe90243cc",
   "metadata": {
    "editable": true,
    "scrolled": true,
    "slideshow": {
     "slide_type": "subslide"
    },
    "tags": []
   },
   "outputs": [
    {
     "name": "stdout",
     "output_type": "stream",
     "text": [
      "Training on fold [0/5]\n",
      "0:\tlearn: 0.7471264\ttest: 0.7692308\tbest: 0.7692308 (0)\ttotal: 219ms\tremaining: 35.5s\n",
      "1:\tlearn: 0.7533461\ttest: 0.7938931\tbest: 0.7938931 (1)\ttotal: 277ms\tremaining: 22.3s\n",
      "2:\tlearn: 0.7557252\ttest: 0.7938931\tbest: 0.7938931 (1)\ttotal: 326ms\tremaining: 17.4s\n",
      "3:\tlearn: 0.7600768\ttest: 0.7938931\tbest: 0.7938931 (1)\ttotal: 390ms\tremaining: 15.5s\n",
      "4:\tlearn: 0.7600768\ttest: 0.7938931\tbest: 0.7938931 (1)\ttotal: 453ms\tremaining: 14.3s\n",
      "5:\tlearn: 0.7600768\ttest: 0.7938931\tbest: 0.7938931 (1)\ttotal: 506ms\tremaining: 13.2s\n",
      "6:\tlearn: 0.7635659\ttest: 0.8000000\tbest: 0.8000000 (6)\ttotal: 557ms\tremaining: 12.4s\n",
      "7:\tlearn: 0.7659574\ttest: 0.8000000\tbest: 0.8000000 (6)\ttotal: 612ms\tremaining: 11.9s\n",
      "8:\tlearn: 0.7730769\ttest: 0.7938931\tbest: 0.8000000 (6)\ttotal: 673ms\tremaining: 11.5s\n",
      "9:\tlearn: 0.7760618\ttest: 0.7938931\tbest: 0.8000000 (6)\ttotal: 735ms\tremaining: 11.2s\n",
      "10:\tlearn: 0.7775629\ttest: 0.7938931\tbest: 0.8000000 (6)\ttotal: 796ms\tremaining: 11s\n",
      "11:\tlearn: 0.7755906\ttest: 0.7906977\tbest: 0.8000000 (6)\ttotal: 863ms\tremaining: 10.9s\n",
      "12:\tlearn: 0.7898833\ttest: 0.7906977\tbest: 0.8000000 (6)\ttotal: 928ms\tremaining: 10.7s\n",
      "13:\tlearn: 0.7945736\ttest: 0.7906977\tbest: 0.8000000 (6)\ttotal: 989ms\tremaining: 10.5s\n",
      "14:\tlearn: 0.8084291\ttest: 0.7906977\tbest: 0.8000000 (6)\ttotal: 1.05s\tremaining: 10.4s\n",
      "15:\tlearn: 0.8160920\ttest: 0.7968750\tbest: 0.8000000 (6)\ttotal: 1.13s\tremaining: 10.4s\n",
      "16:\tlearn: 0.8062622\ttest: 0.7840000\tbest: 0.8000000 (6)\ttotal: 1.2s\tremaining: 10.3s\n",
      "17:\tlearn: 0.8201161\ttest: 0.8031496\tbest: 0.8031496 (17)\ttotal: 1.26s\tremaining: 10.2s\n",
      "18:\tlearn: 0.8217054\ttest: 0.8031496\tbest: 0.8031496 (17)\ttotal: 1.31s\tremaining: 9.97s\n",
      "19:\tlearn: 0.8171206\ttest: 0.8031496\tbest: 0.8031496 (17)\ttotal: 1.36s\tremaining: 9.76s\n",
      "20:\tlearn: 0.8171206\ttest: 0.8031496\tbest: 0.8031496 (17)\ttotal: 1.43s\tremaining: 9.65s\n",
      "21:\tlearn: 0.8194175\ttest: 0.8125000\tbest: 0.8125000 (21)\ttotal: 1.49s\tremaining: 9.52s\n",
      "22:\tlearn: 0.8156863\ttest: 0.7840000\tbest: 0.8125000 (21)\ttotal: 1.54s\tremaining: 9.36s\n",
      "23:\tlearn: 0.8156863\ttest: 0.7903226\tbest: 0.8125000 (21)\ttotal: 1.59s\tremaining: 9.2s\n",
      "24:\tlearn: 0.8149606\ttest: 0.7840000\tbest: 0.8125000 (21)\ttotal: 1.64s\tremaining: 9.05s\n",
      "25:\tlearn: 0.8251473\ttest: 0.8095238\tbest: 0.8125000 (21)\ttotal: 1.7s\tremaining: 8.95s\n",
      "26:\tlearn: 0.8219178\ttest: 0.8095238\tbest: 0.8125000 (21)\ttotal: 1.75s\tremaining: 8.82s\n",
      "27:\tlearn: 0.8219178\ttest: 0.8095238\tbest: 0.8125000 (21)\ttotal: 1.8s\tremaining: 8.7s\n",
      "28:\tlearn: 0.8219178\ttest: 0.8095238\tbest: 0.8125000 (21)\ttotal: 1.85s\tremaining: 8.57s\n",
      "29:\tlearn: 0.8260870\ttest: 0.8372093\tbest: 0.8372093 (29)\ttotal: 1.91s\tremaining: 8.49s\n",
      "30:\tlearn: 0.8274510\ttest: 0.8372093\tbest: 0.8372093 (29)\ttotal: 1.96s\tremaining: 8.37s\n",
      "31:\tlearn: 0.8290766\ttest: 0.8372093\tbest: 0.8372093 (29)\ttotal: 2.01s\tremaining: 8.24s\n",
      "32:\tlearn: 0.8258317\ttest: 0.8281250\tbest: 0.8372093 (29)\ttotal: 2.06s\tremaining: 8.14s\n",
      "33:\tlearn: 0.8290766\ttest: 0.8461538\tbest: 0.8461538 (33)\ttotal: 2.13s\tremaining: 8.07s\n",
      "34:\tlearn: 0.8330059\ttest: 0.8461538\tbest: 0.8461538 (33)\ttotal: 2.18s\tremaining: 7.97s\n",
      "35:\tlearn: 0.8414873\ttest: 0.8461538\tbest: 0.8461538 (33)\ttotal: 2.23s\tremaining: 7.88s\n",
      "36:\tlearn: 0.8414873\ttest: 0.8461538\tbest: 0.8461538 (33)\ttotal: 2.29s\tremaining: 7.79s\n",
      "37:\tlearn: 0.8385827\ttest: 0.8461538\tbest: 0.8461538 (33)\ttotal: 2.36s\tremaining: 7.76s\n",
      "38:\tlearn: 0.8425197\ttest: 0.8396947\tbest: 0.8461538 (33)\ttotal: 2.41s\tremaining: 7.66s\n",
      "39:\tlearn: 0.8454012\ttest: 0.8396947\tbest: 0.8461538 (33)\ttotal: 2.46s\tremaining: 7.58s\n",
      "40:\tlearn: 0.8454012\ttest: 0.8307692\tbest: 0.8461538 (33)\ttotal: 2.52s\tremaining: 7.51s\n",
      "41:\tlearn: 0.8476562\ttest: 0.8307692\tbest: 0.8461538 (33)\ttotal: 2.58s\tremaining: 7.43s\n",
      "42:\tlearn: 0.8476562\ttest: 0.8372093\tbest: 0.8461538 (33)\ttotal: 2.64s\tremaining: 7.37s\n",
      "43:\tlearn: 0.8538012\ttest: 0.8372093\tbest: 0.8461538 (33)\ttotal: 2.69s\tremaining: 7.29s\n",
      "44:\tlearn: 0.8593750\ttest: 0.8372093\tbest: 0.8461538 (33)\ttotal: 2.74s\tremaining: 7.19s\n",
      "45:\tlearn: 0.8610568\ttest: 0.8372093\tbest: 0.8461538 (33)\ttotal: 2.79s\tremaining: 7.11s\n",
      "46:\tlearn: 0.8610568\ttest: 0.8281250\tbest: 0.8461538 (33)\ttotal: 2.85s\tremaining: 7.04s\n",
      "47:\tlearn: 0.8610568\ttest: 0.8188976\tbest: 0.8461538 (33)\ttotal: 2.92s\tremaining: 6.98s\n",
      "48:\tlearn: 0.8582677\ttest: 0.8281250\tbest: 0.8461538 (33)\ttotal: 2.97s\tremaining: 6.91s\n",
      "49:\tlearn: 0.8605108\ttest: 0.8000000\tbest: 0.8461538 (33)\ttotal: 3.04s\tremaining: 6.86s\n",
      "50:\tlearn: 0.8610568\ttest: 0.7936508\tbest: 0.8461538 (33)\ttotal: 3.09s\tremaining: 6.79s\n",
      "51:\tlearn: 0.8593750\ttest: 0.8031496\tbest: 0.8461538 (33)\ttotal: 3.14s\tremaining: 6.71s\n",
      "52:\tlearn: 0.8632813\ttest: 0.8125000\tbest: 0.8461538 (33)\ttotal: 3.21s\tremaining: 6.65s\n",
      "53:\tlearn: 0.8615984\ttest: 0.8125000\tbest: 0.8461538 (33)\ttotal: 3.27s\tremaining: 6.61s\n",
      "54:\tlearn: 0.8638132\ttest: 0.8125000\tbest: 0.8461538 (33)\ttotal: 3.34s\tremaining: 6.55s\n",
      "55:\tlearn: 0.8671875\ttest: 0.8031496\tbest: 0.8461538 (33)\ttotal: 3.39s\tremaining: 6.48s\n",
      "56:\tlearn: 0.8715953\ttest: 0.8031496\tbest: 0.8461538 (33)\ttotal: 3.45s\tremaining: 6.41s\n",
      "57:\tlearn: 0.8693957\ttest: 0.8031496\tbest: 0.8461538 (33)\ttotal: 3.51s\tremaining: 6.35s\n",
      "58:\tlearn: 0.8759690\ttest: 0.8125000\tbest: 0.8461538 (33)\ttotal: 3.56s\tremaining: 6.27s\n",
      "59:\tlearn: 0.8759690\ttest: 0.8031496\tbest: 0.8461538 (33)\ttotal: 3.62s\tremaining: 6.21s\n",
      "60:\tlearn: 0.8759690\ttest: 0.7968750\tbest: 0.8461538 (33)\ttotal: 3.67s\tremaining: 6.14s\n",
      "61:\tlearn: 0.8759690\ttest: 0.8031496\tbest: 0.8461538 (33)\ttotal: 3.73s\tremaining: 6.08s\n",
      "62:\tlearn: 0.8781431\ttest: 0.8031496\tbest: 0.8461538 (33)\ttotal: 3.79s\tremaining: 6.01s\n",
      "63:\tlearn: 0.8781431\ttest: 0.8031496\tbest: 0.8461538 (33)\ttotal: 3.84s\tremaining: 5.94s\n",
      "64:\tlearn: 0.8798450\ttest: 0.8031496\tbest: 0.8461538 (33)\ttotal: 3.88s\tremaining: 5.86s\n",
      "65:\tlearn: 0.8798450\ttest: 0.8031496\tbest: 0.8461538 (33)\ttotal: 3.94s\tremaining: 5.8s\n",
      "66:\tlearn: 0.8798450\ttest: 0.8031496\tbest: 0.8461538 (33)\ttotal: 4.01s\tremaining: 5.75s\n",
      "67:\tlearn: 0.8820116\ttest: 0.8031496\tbest: 0.8461538 (33)\ttotal: 4.07s\tremaining: 5.68s\n",
      "68:\tlearn: 0.8820116\ttest: 0.8031496\tbest: 0.8461538 (33)\ttotal: 4.13s\tremaining: 5.62s\n",
      "69:\tlearn: 0.8841699\ttest: 0.8031496\tbest: 0.8461538 (33)\ttotal: 4.18s\tremaining: 5.56s\n",
      "70:\tlearn: 0.8837209\ttest: 0.8031496\tbest: 0.8461538 (33)\ttotal: 4.24s\tremaining: 5.49s\n",
      "71:\tlearn: 0.8880309\ttest: 0.8031496\tbest: 0.8461538 (33)\ttotal: 4.28s\tremaining: 5.42s\n",
      "72:\tlearn: 0.8880309\ttest: 0.8031496\tbest: 0.8461538 (33)\ttotal: 4.33s\tremaining: 5.34s\n",
      "73:\tlearn: 0.8880309\ttest: 0.8031496\tbest: 0.8461538 (33)\ttotal: 4.38s\tremaining: 5.27s\n",
      "74:\tlearn: 0.8932039\ttest: 0.8000000\tbest: 0.8461538 (33)\ttotal: 4.43s\tremaining: 5.2s\n",
      "75:\tlearn: 0.8953488\ttest: 0.8031496\tbest: 0.8461538 (33)\ttotal: 4.48s\tremaining: 5.13s\n",
      "76:\tlearn: 0.8932039\ttest: 0.8031496\tbest: 0.8461538 (33)\ttotal: 4.54s\tremaining: 5.07s\n",
      "77:\tlearn: 0.8932039\ttest: 0.8031496\tbest: 0.8461538 (33)\ttotal: 4.59s\tremaining: 5s\n",
      "78:\tlearn: 0.8953488\ttest: 0.8031496\tbest: 0.8461538 (33)\ttotal: 4.65s\tremaining: 4.95s\n",
      "79:\tlearn: 0.8953488\ttest: 0.8031496\tbest: 0.8461538 (33)\ttotal: 4.71s\tremaining: 4.89s\n",
      "80:\tlearn: 0.8974855\ttest: 0.7936508\tbest: 0.8461538 (33)\ttotal: 4.76s\tremaining: 4.82s\n",
      "81:\tlearn: 0.8974855\ttest: 0.8031496\tbest: 0.8461538 (33)\ttotal: 4.81s\tremaining: 4.75s\n",
      "82:\tlearn: 0.8932039\ttest: 0.8031496\tbest: 0.8461538 (33)\ttotal: 4.88s\tremaining: 4.7s\n",
      "83:\tlearn: 0.8953488\ttest: 0.7936508\tbest: 0.8461538 (33)\ttotal: 4.94s\tremaining: 4.64s\n",
      "84:\tlearn: 0.8974855\ttest: 0.7936508\tbest: 0.8461538 (33)\ttotal: 5s\tremaining: 4.59s\n",
      "85:\tlearn: 0.8974855\ttest: 0.7936508\tbest: 0.8461538 (33)\ttotal: 5.07s\tremaining: 4.54s\n",
      "86:\tlearn: 0.8974855\ttest: 0.7936508\tbest: 0.8461538 (33)\ttotal: 5.13s\tremaining: 4.48s\n",
      "87:\tlearn: 0.9034749\ttest: 0.7874016\tbest: 0.8461538 (33)\ttotal: 5.18s\tremaining: 4.41s\n",
      "88:\tlearn: 0.9034749\ttest: 0.7874016\tbest: 0.8461538 (33)\ttotal: 5.23s\tremaining: 4.34s\n",
      "89:\tlearn: 0.9034749\ttest: 0.7874016\tbest: 0.8461538 (33)\ttotal: 5.28s\tremaining: 4.28s\n",
      "90:\tlearn: 0.9076923\ttest: 0.7968750\tbest: 0.8461538 (33)\ttotal: 5.33s\tremaining: 4.22s\n",
      "91:\tlearn: 0.9076923\ttest: 0.7968750\tbest: 0.8461538 (33)\ttotal: 5.38s\tremaining: 4.16s\n",
      "92:\tlearn: 0.9076923\ttest: 0.7968750\tbest: 0.8461538 (33)\ttotal: 5.44s\tremaining: 4.09s\n",
      "93:\tlearn: 0.9076923\ttest: 0.7968750\tbest: 0.8461538 (33)\ttotal: 5.49s\tremaining: 4.03s\n",
      "94:\tlearn: 0.9076923\ttest: 0.7968750\tbest: 0.8461538 (33)\ttotal: 5.54s\tremaining: 3.97s\n",
      "95:\tlearn: 0.9076923\ttest: 0.7906977\tbest: 0.8461538 (33)\ttotal: 5.6s\tremaining: 3.91s\n",
      "96:\tlearn: 0.9097889\ttest: 0.7968750\tbest: 0.8461538 (33)\ttotal: 5.66s\tremaining: 3.85s\n",
      "97:\tlearn: 0.9097889\ttest: 0.8062016\tbest: 0.8461538 (33)\ttotal: 5.72s\tremaining: 3.79s\n",
      "98:\tlearn: 0.9097889\ttest: 0.8000000\tbest: 0.8461538 (33)\ttotal: 5.77s\tremaining: 3.73s\n",
      "99:\tlearn: 0.9097889\ttest: 0.7906977\tbest: 0.8461538 (33)\ttotal: 5.83s\tremaining: 3.67s\n",
      "100:\tlearn: 0.9118774\ttest: 0.7906977\tbest: 0.8461538 (33)\ttotal: 5.91s\tremaining: 3.63s\n",
      "101:\tlearn: 0.9139579\ttest: 0.7906977\tbest: 0.8461538 (33)\ttotal: 5.96s\tremaining: 3.56s\n",
      "102:\tlearn: 0.9139579\ttest: 0.7906977\tbest: 0.8461538 (33)\ttotal: 6.02s\tremaining: 3.5s\n",
      "103:\tlearn: 0.9160305\ttest: 0.7906977\tbest: 0.8461538 (33)\ttotal: 6.07s\tremaining: 3.44s\n",
      "104:\tlearn: 0.9198473\ttest: 0.7906977\tbest: 0.8461538 (33)\ttotal: 6.12s\tremaining: 3.38s\n",
      "105:\tlearn: 0.9216061\ttest: 0.8000000\tbest: 0.8461538 (33)\ttotal: 6.17s\tremaining: 3.32s\n",
      "106:\tlearn: 0.9216061\ttest: 0.8000000\tbest: 0.8461538 (33)\ttotal: 6.23s\tremaining: 3.26s\n",
      "107:\tlearn: 0.9216061\ttest: 0.8062016\tbest: 0.8461538 (33)\ttotal: 6.3s\tremaining: 3.21s\n",
      "108:\tlearn: 0.9216061\ttest: 0.8062016\tbest: 0.8461538 (33)\ttotal: 6.37s\tremaining: 3.15s\n",
      "109:\tlearn: 0.9236641\ttest: 0.8062016\tbest: 0.8461538 (33)\ttotal: 6.42s\tremaining: 3.09s\n",
      "110:\tlearn: 0.9195402\ttest: 0.8062016\tbest: 0.8461538 (33)\ttotal: 6.48s\tremaining: 3.04s\n",
      "111:\tlearn: 0.9236641\ttest: 0.8062016\tbest: 0.8461538 (33)\ttotal: 6.54s\tremaining: 2.98s\n",
      "112:\tlearn: 0.9236641\ttest: 0.8062016\tbest: 0.8461538 (33)\ttotal: 6.61s\tremaining: 2.92s\n",
      "113:\tlearn: 0.9236641\ttest: 0.8062016\tbest: 0.8461538 (33)\ttotal: 6.67s\tremaining: 2.87s\n",
      "114:\tlearn: 0.9257143\ttest: 0.8062016\tbest: 0.8461538 (33)\ttotal: 6.73s\tremaining: 2.81s\n",
      "115:\tlearn: 0.9257143\ttest: 0.8062016\tbest: 0.8461538 (33)\ttotal: 6.79s\tremaining: 2.75s\n",
      "116:\tlearn: 0.9257143\ttest: 0.8062016\tbest: 0.8461538 (33)\ttotal: 6.84s\tremaining: 2.69s\n",
      "117:\tlearn: 0.9257143\ttest: 0.8062016\tbest: 0.8461538 (33)\ttotal: 6.89s\tremaining: 2.63s\n",
      "118:\tlearn: 0.9318182\ttest: 0.8062016\tbest: 0.8461538 (33)\ttotal: 6.94s\tremaining: 2.57s\n",
      "119:\tlearn: 0.9318182\ttest: 0.8062016\tbest: 0.8461538 (33)\ttotal: 7s\tremaining: 2.51s\n",
      "120:\tlearn: 0.9335863\ttest: 0.7968750\tbest: 0.8461538 (33)\ttotal: 7.07s\tremaining: 2.45s\n",
      "121:\tlearn: 0.9353612\ttest: 0.8062016\tbest: 0.8461538 (33)\ttotal: 7.12s\tremaining: 2.39s\n",
      "122:\tlearn: 0.9335863\ttest: 0.8062016\tbest: 0.8461538 (33)\ttotal: 7.17s\tremaining: 2.33s\n",
      "123:\tlearn: 0.9353612\ttest: 0.8153846\tbest: 0.8461538 (33)\ttotal: 7.22s\tremaining: 2.27s\n",
      "124:\tlearn: 0.9353612\ttest: 0.8153846\tbest: 0.8461538 (33)\ttotal: 7.27s\tremaining: 2.21s\n",
      "125:\tlearn: 0.9353612\ttest: 0.8062016\tbest: 0.8461538 (33)\ttotal: 7.35s\tremaining: 2.16s\n",
      "126:\tlearn: 0.9373814\ttest: 0.8153846\tbest: 0.8461538 (33)\ttotal: 7.4s\tremaining: 2.1s\n",
      "127:\tlearn: 0.9393939\ttest: 0.8153846\tbest: 0.8461538 (33)\ttotal: 7.46s\tremaining: 2.04s\n",
      "128:\tlearn: 0.9431818\ttest: 0.8244275\tbest: 0.8461538 (33)\ttotal: 7.54s\tremaining: 1.99s\n",
      "129:\tlearn: 0.9431818\ttest: 0.8244275\tbest: 0.8461538 (33)\ttotal: 7.6s\tremaining: 1.93s\n",
      "130:\tlearn: 0.9471698\ttest: 0.8244275\tbest: 0.8461538 (33)\ttotal: 7.65s\tremaining: 1.87s\n",
      "131:\tlearn: 0.9491525\ttest: 0.8244275\tbest: 0.8461538 (33)\ttotal: 7.72s\tremaining: 1.81s\n",
      "132:\tlearn: 0.9491525\ttest: 0.8244275\tbest: 0.8461538 (33)\ttotal: 7.77s\tremaining: 1.75s\n",
      "133:\tlearn: 0.9509434\ttest: 0.8244275\tbest: 0.8461538 (33)\ttotal: 7.82s\tremaining: 1.69s\n",
      "134:\tlearn: 0.9529190\ttest: 0.8244275\tbest: 0.8461538 (33)\ttotal: 7.87s\tremaining: 1.63s\n",
      "135:\tlearn: 0.9547170\ttest: 0.8244275\tbest: 0.8461538 (33)\ttotal: 7.94s\tremaining: 1.57s\n",
      "136:\tlearn: 0.9527410\ttest: 0.8244275\tbest: 0.8461538 (33)\ttotal: 7.99s\tremaining: 1.51s\n",
      "137:\tlearn: 0.9547170\ttest: 0.8244275\tbest: 0.8461538 (33)\ttotal: 8.04s\tremaining: 1.46s\n",
      "138:\tlearn: 0.9566855\ttest: 0.8091603\tbest: 0.8461538 (33)\ttotal: 8.09s\tremaining: 1.4s\n",
      "139:\tlearn: 0.9566855\ttest: 0.8091603\tbest: 0.8461538 (33)\ttotal: 8.14s\tremaining: 1.34s\n",
      "140:\tlearn: 0.9489603\ttest: 0.8091603\tbest: 0.8461538 (33)\ttotal: 8.2s\tremaining: 1.28s\n",
      "141:\tlearn: 0.9586466\ttest: 0.8091603\tbest: 0.8461538 (33)\ttotal: 8.25s\tremaining: 1.22s\n",
      "142:\tlearn: 0.9566855\ttest: 0.8091603\tbest: 0.8461538 (33)\ttotal: 8.31s\tremaining: 1.16s\n",
      "143:\tlearn: 0.9547170\ttest: 0.8091603\tbest: 0.8461538 (33)\ttotal: 8.36s\tremaining: 1.1s\n",
      "144:\tlearn: 0.9547170\ttest: 0.8091603\tbest: 0.8461538 (33)\ttotal: 8.42s\tremaining: 1.04s\n",
      "145:\tlearn: 0.9547170\ttest: 0.8153846\tbest: 0.8461538 (33)\ttotal: 8.47s\tremaining: 986ms\n",
      "146:\tlearn: 0.9547170\ttest: 0.8091603\tbest: 0.8461538 (33)\ttotal: 8.53s\tremaining: 929ms\n",
      "147:\tlearn: 0.9566855\ttest: 0.8091603\tbest: 0.8461538 (33)\ttotal: 8.59s\tremaining: 870ms\n",
      "148:\tlearn: 0.9586466\ttest: 0.8091603\tbest: 0.8461538 (33)\ttotal: 8.64s\tremaining: 812ms\n",
      "149:\tlearn: 0.9586466\ttest: 0.8091603\tbest: 0.8461538 (33)\ttotal: 8.69s\tremaining: 753ms\n",
      "150:\tlearn: 0.9566855\ttest: 0.8091603\tbest: 0.8461538 (33)\ttotal: 8.75s\tremaining: 695ms\n",
      "151:\tlearn: 0.9566855\ttest: 0.8091603\tbest: 0.8461538 (33)\ttotal: 8.81s\tremaining: 638ms\n",
      "152:\tlearn: 0.9566855\ttest: 0.8091603\tbest: 0.8461538 (33)\ttotal: 8.86s\tremaining: 579ms\n",
      "153:\tlearn: 0.9604520\ttest: 0.8091603\tbest: 0.8461538 (33)\ttotal: 8.91s\tremaining: 521ms\n",
      "154:\tlearn: 0.9662921\ttest: 0.8000000\tbest: 0.8461538 (33)\ttotal: 8.96s\tremaining: 463ms\n",
      "155:\tlearn: 0.9662921\ttest: 0.8091603\tbest: 0.8461538 (33)\ttotal: 9.01s\tremaining: 404ms\n",
      "156:\tlearn: 0.9662921\ttest: 0.8000000\tbest: 0.8461538 (33)\ttotal: 9.07s\tremaining: 347ms\n",
      "157:\tlearn: 0.9662921\ttest: 0.8091603\tbest: 0.8461538 (33)\ttotal: 9.15s\tremaining: 290ms\n",
      "158:\tlearn: 0.9662921\ttest: 0.8091603\tbest: 0.8461538 (33)\ttotal: 9.2s\tremaining: 231ms\n",
      "159:\tlearn: 0.9662921\ttest: 0.8091603\tbest: 0.8461538 (33)\ttotal: 9.26s\tremaining: 174ms\n",
      "160:\tlearn: 0.9662921\ttest: 0.8091603\tbest: 0.8461538 (33)\ttotal: 9.31s\tremaining: 116ms\n",
      "161:\tlearn: 0.9662921\ttest: 0.8091603\tbest: 0.8461538 (33)\ttotal: 9.36s\tremaining: 57.8ms\n",
      "162:\tlearn: 0.9662921\ttest: 0.8091603\tbest: 0.8461538 (33)\ttotal: 9.41s\tremaining: 0us\n",
      "\n",
      "bestTest = 0.8461538462\n",
      "bestIteration = 33\n",
      "\n",
      "Training on fold [1/5]\n",
      "0:\tlearn: 0.7653846\ttest: 0.7022901\tbest: 0.7022901 (0)\ttotal: 46.9ms\tremaining: 7.6s\n",
      "1:\tlearn: 0.7868217\ttest: 0.6821705\tbest: 0.7022901 (0)\ttotal: 103ms\tremaining: 8.29s\n",
      "2:\tlearn: 0.7929688\ttest: 0.6929134\tbest: 0.7022901 (0)\ttotal: 153ms\tremaining: 8.17s\n",
      "3:\tlearn: 0.7969052\ttest: 0.6821705\tbest: 0.7022901 (0)\ttotal: 202ms\tremaining: 8.03s\n",
      "4:\tlearn: 0.8167939\ttest: 0.6717557\tbest: 0.7022901 (0)\ttotal: 261ms\tremaining: 8.25s\n",
      "5:\tlearn: 0.8190476\ttest: 0.6716418\tbest: 0.7022901 (0)\ttotal: 333ms\tremaining: 8.71s\n",
      "6:\tlearn: 0.8167939\ttest: 0.6716418\tbest: 0.7022901 (0)\ttotal: 404ms\tremaining: 9s\n",
      "7:\tlearn: 0.8129771\ttest: 0.6716418\tbest: 0.7022901 (0)\ttotal: 469ms\tremaining: 9.08s\n",
      "8:\tlearn: 0.8129771\ttest: 0.6716418\tbest: 0.7022901 (0)\ttotal: 543ms\tremaining: 9.29s\n",
      "9:\tlearn: 0.8122605\ttest: 0.6716418\tbest: 0.7022901 (0)\ttotal: 602ms\tremaining: 9.22s\n",
      "10:\tlearn: 0.8174905\ttest: 0.6716418\tbest: 0.7022901 (0)\ttotal: 653ms\tremaining: 9.03s\n",
      "11:\tlearn: 0.8212928\ttest: 0.7014925\tbest: 0.7022901 (0)\ttotal: 702ms\tremaining: 8.84s\n",
      "12:\tlearn: 0.8250951\ttest: 0.7014925\tbest: 0.7022901 (0)\ttotal: 763ms\tremaining: 8.8s\n",
      "13:\tlearn: 0.8320611\ttest: 0.6917293\tbest: 0.7022901 (0)\ttotal: 816ms\tremaining: 8.68s\n",
      "14:\tlearn: 0.8352490\ttest: 0.6969697\tbest: 0.7022901 (0)\ttotal: 875ms\tremaining: 8.63s\n",
      "15:\tlearn: 0.8421053\ttest: 0.6923077\tbest: 0.7022901 (0)\ttotal: 945ms\tremaining: 8.68s\n",
      "16:\tlearn: 0.8476562\ttest: 0.6771654\tbest: 0.7022901 (0)\ttotal: 1.01s\tremaining: 8.69s\n",
      "17:\tlearn: 0.8437500\ttest: 0.6720000\tbest: 0.7022901 (0)\ttotal: 1.08s\tremaining: 8.68s\n",
      "18:\tlearn: 0.8515625\ttest: 0.6720000\tbest: 0.7022901 (0)\ttotal: 1.14s\tremaining: 8.66s\n",
      "19:\tlearn: 0.8521401\ttest: 0.6771654\tbest: 0.7022901 (0)\ttotal: 1.2s\tremaining: 8.62s\n",
      "20:\tlearn: 0.8532290\ttest: 0.6875000\tbest: 0.7022901 (0)\ttotal: 1.27s\tremaining: 8.59s\n",
      "21:\tlearn: 0.8554688\ttest: 0.6875000\tbest: 0.7022901 (0)\ttotal: 1.34s\tremaining: 8.58s\n",
      "22:\tlearn: 0.8554688\ttest: 0.6875000\tbest: 0.7022901 (0)\ttotal: 1.4s\tremaining: 8.52s\n",
      "23:\tlearn: 0.8554688\ttest: 0.6875000\tbest: 0.7022901 (0)\ttotal: 1.46s\tremaining: 8.43s\n",
      "24:\tlearn: 0.8554688\ttest: 0.6875000\tbest: 0.7022901 (0)\ttotal: 1.52s\tremaining: 8.38s\n",
      "25:\tlearn: 0.8554688\ttest: 0.6875000\tbest: 0.7022901 (0)\ttotal: 1.58s\tremaining: 8.32s\n",
      "26:\tlearn: 0.8554688\ttest: 0.6875000\tbest: 0.7022901 (0)\ttotal: 1.63s\tremaining: 8.23s\n",
      "27:\tlearn: 0.8554688\ttest: 0.6875000\tbest: 0.7022901 (0)\ttotal: 1.69s\tremaining: 8.14s\n",
      "28:\tlearn: 0.8682171\ttest: 0.6821705\tbest: 0.7022901 (0)\ttotal: 1.75s\tremaining: 8.11s\n",
      "29:\tlearn: 0.8682171\ttest: 0.6821705\tbest: 0.7022901 (0)\ttotal: 1.8s\tremaining: 8s\n",
      "30:\tlearn: 0.8682171\ttest: 0.6821705\tbest: 0.7022901 (0)\ttotal: 1.85s\tremaining: 7.9s\n",
      "31:\tlearn: 0.8682171\ttest: 0.6875000\tbest: 0.7022901 (0)\ttotal: 1.91s\tremaining: 7.8s\n",
      "32:\tlearn: 0.8682171\ttest: 0.6821705\tbest: 0.7022901 (0)\ttotal: 1.96s\tremaining: 7.74s\n",
      "33:\tlearn: 0.8704062\ttest: 0.6875000\tbest: 0.7022901 (0)\ttotal: 2.01s\tremaining: 7.64s\n",
      "34:\tlearn: 0.8742747\ttest: 0.6771654\tbest: 0.7022901 (0)\ttotal: 2.07s\tremaining: 7.56s\n",
      "35:\tlearn: 0.8742747\ttest: 0.6771654\tbest: 0.7022901 (0)\ttotal: 2.12s\tremaining: 7.49s\n",
      "36:\tlearn: 0.8742747\ttest: 0.6771654\tbest: 0.7022901 (0)\ttotal: 2.17s\tremaining: 7.4s\n",
      "37:\tlearn: 0.8786127\ttest: 0.6771654\tbest: 0.7022901 (0)\ttotal: 2.23s\tremaining: 7.32s\n",
      "38:\tlearn: 0.8769231\ttest: 0.6825397\tbest: 0.7022901 (0)\ttotal: 2.29s\tremaining: 7.28s\n",
      "39:\tlearn: 0.8769231\ttest: 0.6825397\tbest: 0.7022901 (0)\ttotal: 2.35s\tremaining: 7.23s\n",
      "40:\tlearn: 0.8790787\ttest: 0.6825397\tbest: 0.7022901 (0)\ttotal: 2.42s\tremaining: 7.19s\n",
      "41:\tlearn: 0.8769231\ttest: 0.6825397\tbest: 0.7022901 (0)\ttotal: 2.49s\tremaining: 7.17s\n",
      "42:\tlearn: 0.8884615\ttest: 0.6720000\tbest: 0.7022901 (0)\ttotal: 2.55s\tremaining: 7.11s\n",
      "43:\tlearn: 0.8923077\ttest: 0.6771654\tbest: 0.7022901 (0)\ttotal: 2.6s\tremaining: 7.03s\n",
      "44:\tlearn: 0.8940270\ttest: 0.6771654\tbest: 0.7022901 (0)\ttotal: 2.65s\tremaining: 6.95s\n",
      "45:\tlearn: 0.9034749\ttest: 0.6771654\tbest: 0.7022901 (0)\ttotal: 2.7s\tremaining: 6.86s\n",
      "46:\tlearn: 0.8996139\ttest: 0.6771654\tbest: 0.7022901 (0)\ttotal: 2.75s\tremaining: 6.78s\n",
      "47:\tlearn: 0.9013540\ttest: 0.6666667\tbest: 0.7022901 (0)\ttotal: 2.8s\tremaining: 6.7s\n",
      "48:\tlearn: 0.9069767\ttest: 0.6771654\tbest: 0.7022901 (0)\ttotal: 2.86s\tremaining: 6.64s\n",
      "49:\tlearn: 0.9031008\ttest: 0.6666667\tbest: 0.7022901 (0)\ttotal: 2.91s\tremaining: 6.58s\n",
      "50:\tlearn: 0.9031008\ttest: 0.6666667\tbest: 0.7022901 (0)\ttotal: 2.96s\tremaining: 6.51s\n",
      "51:\tlearn: 0.9031008\ttest: 0.6666667\tbest: 0.7022901 (0)\ttotal: 3.01s\tremaining: 6.43s\n",
      "52:\tlearn: 0.9013540\ttest: 0.6666667\tbest: 0.7022901 (0)\ttotal: 3.06s\tremaining: 6.36s\n",
      "53:\tlearn: 0.9052224\ttest: 0.6771654\tbest: 0.7022901 (0)\ttotal: 3.12s\tremaining: 6.29s\n",
      "54:\tlearn: 0.9090909\ttest: 0.6771654\tbest: 0.7022901 (0)\ttotal: 3.17s\tremaining: 6.22s\n",
      "55:\tlearn: 0.9090909\ttest: 0.6771654\tbest: 0.7022901 (0)\ttotal: 3.23s\tremaining: 6.16s\n",
      "56:\tlearn: 0.9111969\ttest: 0.6771654\tbest: 0.7022901 (0)\ttotal: 3.29s\tremaining: 6.12s\n",
      "57:\tlearn: 0.9153846\ttest: 0.6718750\tbest: 0.7022901 (0)\ttotal: 3.35s\tremaining: 6.07s\n",
      "58:\tlearn: 0.9153846\ttest: 0.6771654\tbest: 0.7022901 (0)\ttotal: 3.41s\tremaining: 6.02s\n",
      "59:\tlearn: 0.9174664\ttest: 0.6771654\tbest: 0.7022901 (0)\ttotal: 3.46s\tremaining: 5.95s\n",
      "60:\tlearn: 0.9174664\ttest: 0.6718750\tbest: 0.7022901 (0)\ttotal: 3.52s\tremaining: 5.88s\n",
      "61:\tlearn: 0.9174664\ttest: 0.6718750\tbest: 0.7022901 (0)\ttotal: 3.57s\tremaining: 5.82s\n",
      "62:\tlearn: 0.9174664\ttest: 0.6718750\tbest: 0.7022901 (0)\ttotal: 3.63s\tremaining: 5.76s\n",
      "63:\tlearn: 0.9174664\ttest: 0.6718750\tbest: 0.7022901 (0)\ttotal: 3.68s\tremaining: 5.69s\n",
      "64:\tlearn: 0.9174664\ttest: 0.6666667\tbest: 0.7022901 (0)\ttotal: 3.73s\tremaining: 5.62s\n",
      "65:\tlearn: 0.9192308\ttest: 0.6718750\tbest: 0.7022901 (0)\ttotal: 3.79s\tremaining: 5.57s\n",
      "66:\tlearn: 0.9210019\ttest: 0.6666667\tbest: 0.7022901 (0)\ttotal: 3.84s\tremaining: 5.5s\n",
      "67:\tlearn: 0.9210019\ttest: 0.6666667\tbest: 0.7022901 (0)\ttotal: 3.89s\tremaining: 5.44s\n",
      "68:\tlearn: 0.9210019\ttest: 0.6718750\tbest: 0.7022901 (0)\ttotal: 3.95s\tremaining: 5.38s\n",
      "69:\tlearn: 0.9227799\ttest: 0.6718750\tbest: 0.7022901 (0)\ttotal: 4s\tremaining: 5.32s\n",
      "70:\tlearn: 0.9227799\ttest: 0.6666667\tbest: 0.7022901 (0)\ttotal: 4.05s\tremaining: 5.25s\n",
      "71:\tlearn: 0.9269231\ttest: 0.6666667\tbest: 0.7022901 (0)\ttotal: 4.11s\tremaining: 5.2s\n",
      "72:\tlearn: 0.9269231\ttest: 0.6718750\tbest: 0.7022901 (0)\ttotal: 4.17s\tremaining: 5.14s\n",
      "73:\tlearn: 0.9269231\ttest: 0.6718750\tbest: 0.7022901 (0)\ttotal: 4.23s\tremaining: 5.09s\n",
      "74:\tlearn: 0.9289827\ttest: 0.6718750\tbest: 0.7022901 (0)\ttotal: 4.29s\tremaining: 5.03s\n",
      "75:\tlearn: 0.9310345\ttest: 0.6718750\tbest: 0.7022901 (0)\ttotal: 4.34s\tremaining: 4.97s\n",
      "76:\tlearn: 0.9330784\ttest: 0.6821705\tbest: 0.7022901 (0)\ttotal: 4.39s\tremaining: 4.91s\n",
      "77:\tlearn: 0.9289827\ttest: 0.6718750\tbest: 0.7022901 (0)\ttotal: 4.46s\tremaining: 4.86s\n",
      "78:\tlearn: 0.9348659\ttest: 0.6614173\tbest: 0.7022901 (0)\ttotal: 4.51s\tremaining: 4.8s\n",
      "79:\tlearn: 0.9348659\ttest: 0.6718750\tbest: 0.7022901 (0)\ttotal: 4.56s\tremaining: 4.73s\n",
      "80:\tlearn: 0.9348659\ttest: 0.6718750\tbest: 0.7022901 (0)\ttotal: 4.61s\tremaining: 4.67s\n",
      "81:\tlearn: 0.9348659\ttest: 0.6666667\tbest: 0.7022901 (0)\ttotal: 4.66s\tremaining: 4.6s\n",
      "82:\tlearn: 0.9369025\ttest: 0.6666667\tbest: 0.7022901 (0)\ttotal: 4.72s\tremaining: 4.55s\n",
      "83:\tlearn: 0.9389313\ttest: 0.6666667\tbest: 0.7022901 (0)\ttotal: 4.77s\tremaining: 4.49s\n",
      "84:\tlearn: 0.9407266\ttest: 0.6666667\tbest: 0.7022901 (0)\ttotal: 4.83s\tremaining: 4.43s\n",
      "85:\tlearn: 0.9389313\ttest: 0.6564885\tbest: 0.7022901 (0)\ttotal: 4.89s\tremaining: 4.38s\n",
      "86:\tlearn: 0.9389313\ttest: 0.6564885\tbest: 0.7022901 (0)\ttotal: 4.94s\tremaining: 4.31s\n",
      "87:\tlearn: 0.9389313\ttest: 0.6564885\tbest: 0.7022901 (0)\ttotal: 4.99s\tremaining: 4.25s\n",
      "88:\tlearn: 0.9389313\ttest: 0.6564885\tbest: 0.7022901 (0)\ttotal: 5.05s\tremaining: 4.2s\n",
      "89:\tlearn: 0.9427481\ttest: 0.6615385\tbest: 0.7022901 (0)\ttotal: 5.12s\tremaining: 4.15s\n",
      "90:\tlearn: 0.9389313\ttest: 0.6666667\tbest: 0.7022901 (0)\ttotal: 5.18s\tremaining: 4.1s\n",
      "91:\tlearn: 0.9407266\ttest: 0.6562500\tbest: 0.7022901 (0)\ttotal: 5.24s\tremaining: 4.04s\n",
      "92:\tlearn: 0.9427481\ttest: 0.6562500\tbest: 0.7022901 (0)\ttotal: 5.3s\tremaining: 3.99s\n",
      "93:\tlearn: 0.9467681\ttest: 0.6511628\tbest: 0.7022901 (0)\ttotal: 5.35s\tremaining: 3.93s\n",
      "94:\tlearn: 0.9467681\ttest: 0.6614173\tbest: 0.7022901 (0)\ttotal: 5.4s\tremaining: 3.87s\n",
      "95:\tlearn: 0.9487666\ttest: 0.6614173\tbest: 0.7022901 (0)\ttotal: 5.45s\tremaining: 3.81s\n",
      "96:\tlearn: 0.9487666\ttest: 0.6562500\tbest: 0.7022901 (0)\ttotal: 5.51s\tremaining: 3.75s\n",
      "97:\tlearn: 0.9487666\ttest: 0.6511628\tbest: 0.7022901 (0)\ttotal: 5.57s\tremaining: 3.69s\n",
      "98:\tlearn: 0.9487666\ttest: 0.6511628\tbest: 0.7022901 (0)\ttotal: 5.63s\tremaining: 3.64s\n",
      "99:\tlearn: 0.9487666\ttest: 0.6511628\tbest: 0.7022901 (0)\ttotal: 5.68s\tremaining: 3.58s\n",
      "100:\tlearn: 0.9469697\ttest: 0.6511628\tbest: 0.7022901 (0)\ttotal: 5.73s\tremaining: 3.52s\n",
      "101:\tlearn: 0.9487666\ttest: 0.6562500\tbest: 0.7022901 (0)\ttotal: 5.8s\tremaining: 3.47s\n",
      "102:\tlearn: 0.9487666\ttest: 0.6562500\tbest: 0.7022901 (0)\ttotal: 5.86s\tremaining: 3.42s\n",
      "103:\tlearn: 0.9487666\ttest: 0.6562500\tbest: 0.7022901 (0)\ttotal: 5.92s\tremaining: 3.36s\n",
      "104:\tlearn: 0.9487666\ttest: 0.6511628\tbest: 0.7022901 (0)\ttotal: 5.98s\tremaining: 3.3s\n",
      "105:\tlearn: 0.9487666\ttest: 0.6615385\tbest: 0.7022901 (0)\ttotal: 6.03s\tremaining: 3.24s\n",
      "106:\tlearn: 0.9507576\ttest: 0.6615385\tbest: 0.7022901 (0)\ttotal: 6.09s\tremaining: 3.19s\n",
      "107:\tlearn: 0.9507576\ttest: 0.6564885\tbest: 0.7022901 (0)\ttotal: 6.16s\tremaining: 3.14s\n",
      "108:\tlearn: 0.9507576\ttest: 0.6564885\tbest: 0.7022901 (0)\ttotal: 6.22s\tremaining: 3.08s\n",
      "109:\tlearn: 0.9507576\ttest: 0.6564885\tbest: 0.7022901 (0)\ttotal: 6.29s\tremaining: 3.03s\n",
      "110:\tlearn: 0.9507576\ttest: 0.6461538\tbest: 0.7022901 (0)\ttotal: 6.35s\tremaining: 2.97s\n",
      "111:\tlearn: 0.9507576\ttest: 0.6461538\tbest: 0.7022901 (0)\ttotal: 6.4s\tremaining: 2.91s\n",
      "112:\tlearn: 0.9527410\ttest: 0.6461538\tbest: 0.7022901 (0)\ttotal: 6.45s\tremaining: 2.85s\n",
      "113:\tlearn: 0.9547170\ttest: 0.6511628\tbest: 0.7022901 (0)\ttotal: 6.5s\tremaining: 2.79s\n",
      "114:\tlearn: 0.9547170\ttest: 0.6511628\tbest: 0.7022901 (0)\ttotal: 6.55s\tremaining: 2.73s\n",
      "115:\tlearn: 0.9547170\ttest: 0.6511628\tbest: 0.7022901 (0)\ttotal: 6.61s\tremaining: 2.68s\n",
      "116:\tlearn: 0.9547170\ttest: 0.6511628\tbest: 0.7022901 (0)\ttotal: 6.66s\tremaining: 2.62s\n",
      "117:\tlearn: 0.9547170\ttest: 0.6511628\tbest: 0.7022901 (0)\ttotal: 6.72s\tremaining: 2.56s\n",
      "118:\tlearn: 0.9547170\ttest: 0.6615385\tbest: 0.7022901 (0)\ttotal: 6.76s\tremaining: 2.5s\n",
      "119:\tlearn: 0.9547170\ttest: 0.6564885\tbest: 0.7022901 (0)\ttotal: 6.81s\tremaining: 2.44s\n",
      "120:\tlearn: 0.9547170\ttest: 0.6564885\tbest: 0.7022901 (0)\ttotal: 6.86s\tremaining: 2.38s\n",
      "121:\tlearn: 0.9547170\ttest: 0.6461538\tbest: 0.7022901 (0)\ttotal: 6.91s\tremaining: 2.32s\n",
      "122:\tlearn: 0.9547170\ttest: 0.6461538\tbest: 0.7022901 (0)\ttotal: 6.96s\tremaining: 2.26s\n",
      "123:\tlearn: 0.9547170\ttest: 0.6461538\tbest: 0.7022901 (0)\ttotal: 7.01s\tremaining: 2.2s\n",
      "124:\tlearn: 0.9547170\ttest: 0.6461538\tbest: 0.7022901 (0)\ttotal: 7.07s\tremaining: 2.15s\n",
      "125:\tlearn: 0.9547170\ttest: 0.6461538\tbest: 0.7022901 (0)\ttotal: 7.13s\tremaining: 2.09s\n",
      "126:\tlearn: 0.9547170\ttest: 0.6511628\tbest: 0.7022901 (0)\ttotal: 7.18s\tremaining: 2.04s\n",
      "127:\tlearn: 0.9547170\ttest: 0.6615385\tbest: 0.7022901 (0)\ttotal: 7.24s\tremaining: 1.98s\n",
      "128:\tlearn: 0.9547170\ttest: 0.6615385\tbest: 0.7022901 (0)\ttotal: 7.3s\tremaining: 1.92s\n",
      "129:\tlearn: 0.9547170\ttest: 0.6615385\tbest: 0.7022901 (0)\ttotal: 7.37s\tremaining: 1.87s\n",
      "130:\tlearn: 0.9566855\ttest: 0.6615385\tbest: 0.7022901 (0)\ttotal: 7.42s\tremaining: 1.81s\n",
      "131:\tlearn: 0.9566855\ttest: 0.6615385\tbest: 0.7022901 (0)\ttotal: 7.47s\tremaining: 1.75s\n",
      "132:\tlearn: 0.9566855\ttest: 0.6511628\tbest: 0.7022901 (0)\ttotal: 7.53s\tremaining: 1.7s\n",
      "133:\tlearn: 0.9586466\ttest: 0.6615385\tbest: 0.7022901 (0)\ttotal: 7.58s\tremaining: 1.64s\n",
      "134:\tlearn: 0.9586466\ttest: 0.6615385\tbest: 0.7022901 (0)\ttotal: 7.63s\tremaining: 1.58s\n",
      "135:\tlearn: 0.9606004\ttest: 0.6615385\tbest: 0.7022901 (0)\ttotal: 7.69s\tremaining: 1.53s\n",
      "136:\tlearn: 0.9606004\ttest: 0.6666667\tbest: 0.7022901 (0)\ttotal: 7.75s\tremaining: 1.47s\n",
      "137:\tlearn: 0.9606004\ttest: 0.6666667\tbest: 0.7022901 (0)\ttotal: 7.82s\tremaining: 1.42s\n",
      "138:\tlearn: 0.9625468\ttest: 0.6666667\tbest: 0.7022901 (0)\ttotal: 7.88s\tremaining: 1.36s\n",
      "139:\tlearn: 0.9643527\ttest: 0.6718750\tbest: 0.7022901 (0)\ttotal: 7.94s\tremaining: 1.3s\n",
      "140:\tlearn: 0.9662921\ttest: 0.6718750\tbest: 0.7022901 (0)\ttotal: 8s\tremaining: 1.25s\n",
      "141:\tlearn: 0.9662921\ttest: 0.6718750\tbest: 0.7022901 (0)\ttotal: 8.06s\tremaining: 1.19s\n",
      "142:\tlearn: 0.9643527\ttest: 0.6718750\tbest: 0.7022901 (0)\ttotal: 8.11s\tremaining: 1.13s\n",
      "143:\tlearn: 0.9643527\ttest: 0.6666667\tbest: 0.7022901 (0)\ttotal: 8.16s\tremaining: 1.08s\n",
      "144:\tlearn: 0.9643527\ttest: 0.6666667\tbest: 0.7022901 (0)\ttotal: 8.21s\tremaining: 1.02s\n",
      "145:\tlearn: 0.9643527\ttest: 0.6666667\tbest: 0.7022901 (0)\ttotal: 8.27s\tremaining: 963ms\n",
      "146:\tlearn: 0.9643527\ttest: 0.6666667\tbest: 0.7022901 (0)\ttotal: 8.32s\tremaining: 905ms\n",
      "147:\tlearn: 0.9644860\ttest: 0.6666667\tbest: 0.7022901 (0)\ttotal: 8.37s\tremaining: 848ms\n",
      "148:\tlearn: 0.9662921\ttest: 0.6718750\tbest: 0.7022901 (0)\ttotal: 8.42s\tremaining: 791ms\n",
      "149:\tlearn: 0.9644860\ttest: 0.6718750\tbest: 0.7022901 (0)\ttotal: 8.47s\tremaining: 734ms\n",
      "150:\tlearn: 0.9644860\ttest: 0.6666667\tbest: 0.7022901 (0)\ttotal: 8.53s\tremaining: 678ms\n",
      "151:\tlearn: 0.9682243\ttest: 0.6615385\tbest: 0.7022901 (0)\ttotal: 8.59s\tremaining: 622ms\n",
      "152:\tlearn: 0.9682243\ttest: 0.6666667\tbest: 0.7022901 (0)\ttotal: 8.65s\tremaining: 565ms\n",
      "153:\tlearn: 0.9682243\ttest: 0.6666667\tbest: 0.7022901 (0)\ttotal: 8.71s\tremaining: 509ms\n",
      "154:\tlearn: 0.9700375\ttest: 0.6666667\tbest: 0.7022901 (0)\ttotal: 8.76s\tremaining: 452ms\n",
      "155:\tlearn: 0.9700375\ttest: 0.6615385\tbest: 0.7022901 (0)\ttotal: 8.81s\tremaining: 395ms\n",
      "156:\tlearn: 0.9700375\ttest: 0.6615385\tbest: 0.7022901 (0)\ttotal: 8.86s\tremaining: 339ms\n",
      "157:\tlearn: 0.9700375\ttest: 0.6718750\tbest: 0.7022901 (0)\ttotal: 8.91s\tremaining: 282ms\n",
      "158:\tlearn: 0.9700375\ttest: 0.6718750\tbest: 0.7022901 (0)\ttotal: 8.97s\tremaining: 226ms\n",
      "159:\tlearn: 0.9700375\ttest: 0.6718750\tbest: 0.7022901 (0)\ttotal: 9.03s\tremaining: 169ms\n",
      "160:\tlearn: 0.9700375\ttest: 0.6666667\tbest: 0.7022901 (0)\ttotal: 9.08s\tremaining: 113ms\n",
      "161:\tlearn: 0.9700375\ttest: 0.6666667\tbest: 0.7022901 (0)\ttotal: 9.13s\tremaining: 56.4ms\n",
      "162:\tlearn: 0.9700375\ttest: 0.6666667\tbest: 0.7022901 (0)\ttotal: 9.18s\tremaining: 0us\n",
      "\n",
      "bestTest = 0.7022900763\n",
      "bestIteration = 0\n",
      "\n",
      "Training on fold [2/5]\n",
      "0:\tlearn: 0.7639155\ttest: 0.6969697\tbest: 0.6969697 (0)\ttotal: 46.2ms\tremaining: 7.49s\n",
      "1:\tlearn: 0.7715931\ttest: 0.6717557\tbest: 0.6969697 (0)\ttotal: 91.9ms\tremaining: 7.39s\n",
      "2:\tlearn: 0.7707129\ttest: 0.6821705\tbest: 0.6969697 (0)\ttotal: 132ms\tremaining: 7.05s\n",
      "3:\tlearn: 0.7730769\ttest: 0.6821705\tbest: 0.6969697 (0)\ttotal: 183ms\tremaining: 7.29s\n",
      "4:\tlearn: 0.7844660\ttest: 0.6829268\tbest: 0.6969697 (0)\ttotal: 232ms\tremaining: 7.34s\n",
      "5:\tlearn: 0.7844660\ttest: 0.6829268\tbest: 0.6969697 (0)\ttotal: 281ms\tremaining: 7.34s\n",
      "6:\tlearn: 0.7852998\ttest: 0.6829268\tbest: 0.6969697 (0)\ttotal: 329ms\tremaining: 7.34s\n",
      "7:\tlearn: 0.7868217\ttest: 0.6829268\tbest: 0.6969697 (0)\ttotal: 397ms\tremaining: 7.69s\n",
      "8:\tlearn: 0.7868217\ttest: 0.6829268\tbest: 0.6969697 (0)\ttotal: 447ms\tremaining: 7.66s\n",
      "9:\tlearn: 0.7944664\ttest: 0.6890756\tbest: 0.6969697 (0)\ttotal: 498ms\tremaining: 7.61s\n",
      "10:\tlearn: 0.8183633\ttest: 0.7008547\tbest: 0.7008547 (10)\ttotal: 546ms\tremaining: 7.54s\n",
      "11:\tlearn: 0.8198020\ttest: 0.7166667\tbest: 0.7166667 (11)\ttotal: 597ms\tremaining: 7.51s\n",
      "12:\tlearn: 0.8190855\ttest: 0.7226891\tbest: 0.7226891 (12)\ttotal: 647ms\tremaining: 7.46s\n",
      "13:\tlearn: 0.8228346\ttest: 0.7226891\tbest: 0.7226891 (12)\ttotal: 706ms\tremaining: 7.51s\n",
      "14:\tlearn: 0.8297456\ttest: 0.7272727\tbest: 0.7272727 (14)\ttotal: 769ms\tremaining: 7.59s\n",
      "15:\tlearn: 0.8443580\ttest: 0.7272727\tbest: 0.7272727 (14)\ttotal: 832ms\tremaining: 7.65s\n",
      "16:\tlearn: 0.8571429\ttest: 0.7107438\tbest: 0.7272727 (14)\ttotal: 891ms\tremaining: 7.65s\n",
      "17:\tlearn: 0.8598848\ttest: 0.7154472\tbest: 0.7272727 (14)\ttotal: 946ms\tremaining: 7.62s\n",
      "18:\tlearn: 0.8582524\ttest: 0.7096774\tbest: 0.7272727 (14)\ttotal: 1s\tremaining: 7.6s\n",
      "19:\tlearn: 0.8571429\ttest: 0.7049180\tbest: 0.7272727 (14)\ttotal: 1.06s\tremaining: 7.58s\n",
      "20:\tlearn: 0.8532819\ttest: 0.7154472\tbest: 0.7272727 (14)\ttotal: 1.11s\tremaining: 7.53s\n",
      "21:\tlearn: 0.8576923\ttest: 0.7107438\tbest: 0.7272727 (14)\ttotal: 1.19s\tremaining: 7.65s\n",
      "22:\tlearn: 0.8615385\ttest: 0.7040000\tbest: 0.7272727 (14)\ttotal: 1.26s\tremaining: 7.67s\n",
      "23:\tlearn: 0.8615385\ttest: 0.7142857\tbest: 0.7272727 (14)\ttotal: 1.31s\tremaining: 7.59s\n",
      "24:\tlearn: 0.8598848\ttest: 0.7096774\tbest: 0.7272727 (14)\ttotal: 1.36s\tremaining: 7.52s\n",
      "25:\tlearn: 0.8593156\ttest: 0.7154472\tbest: 0.7272727 (14)\ttotal: 1.41s\tremaining: 7.43s\n",
      "26:\tlearn: 0.8571429\ttest: 0.7154472\tbest: 0.7272727 (14)\ttotal: 1.46s\tremaining: 7.35s\n",
      "27:\tlearn: 0.8609524\ttest: 0.7096774\tbest: 0.7272727 (14)\ttotal: 1.51s\tremaining: 7.27s\n",
      "28:\tlearn: 0.8625954\ttest: 0.7096774\tbest: 0.7272727 (14)\ttotal: 1.56s\tremaining: 7.2s\n",
      "29:\tlearn: 0.8631179\ttest: 0.7154472\tbest: 0.7272727 (14)\ttotal: 1.61s\tremaining: 7.15s\n",
      "30:\tlearn: 0.8647619\ttest: 0.7040000\tbest: 0.7272727 (14)\ttotal: 1.66s\tremaining: 7.08s\n",
      "31:\tlearn: 0.8690702\ttest: 0.7040000\tbest: 0.7272727 (14)\ttotal: 1.72s\tremaining: 7.06s\n",
      "32:\tlearn: 0.8690702\ttest: 0.7040000\tbest: 0.7272727 (14)\ttotal: 1.78s\tremaining: 7.02s\n",
      "33:\tlearn: 0.8728653\ttest: 0.7142857\tbest: 0.7272727 (14)\ttotal: 1.84s\tremaining: 6.98s\n",
      "34:\tlearn: 0.8690702\ttest: 0.7142857\tbest: 0.7272727 (14)\ttotal: 1.9s\tremaining: 6.95s\n",
      "35:\tlearn: 0.8680688\ttest: 0.7040000\tbest: 0.7272727 (14)\ttotal: 1.95s\tremaining: 6.89s\n",
      "36:\tlearn: 0.8702290\ttest: 0.7040000\tbest: 0.7272727 (14)\ttotal: 2.01s\tremaining: 6.85s\n",
      "37:\tlearn: 0.8702290\ttest: 0.7142857\tbest: 0.7272727 (14)\ttotal: 2.08s\tremaining: 6.83s\n",
      "38:\tlearn: 0.8702290\ttest: 0.7301587\tbest: 0.7301587 (38)\ttotal: 2.13s\tremaining: 6.77s\n",
      "39:\tlearn: 0.8740458\ttest: 0.7301587\tbest: 0.7301587 (38)\ttotal: 2.18s\tremaining: 6.71s\n",
      "40:\tlearn: 0.8761905\ttest: 0.7301587\tbest: 0.7301587 (38)\ttotal: 2.24s\tremaining: 6.68s\n",
      "41:\tlearn: 0.8761905\ttest: 0.7301587\tbest: 0.7301587 (38)\ttotal: 2.29s\tremaining: 6.61s\n",
      "42:\tlearn: 0.8761905\ttest: 0.7360000\tbest: 0.7360000 (42)\ttotal: 2.35s\tremaining: 6.55s\n",
      "43:\tlearn: 0.8783270\ttest: 0.7401575\tbest: 0.7401575 (43)\ttotal: 2.4s\tremaining: 6.51s\n",
      "44:\tlearn: 0.8783270\ttest: 0.7343750\tbest: 0.7401575 (43)\ttotal: 2.46s\tremaining: 6.45s\n",
      "45:\tlearn: 0.8761905\ttest: 0.7244094\tbest: 0.7401575 (43)\ttotal: 2.51s\tremaining: 6.38s\n",
      "46:\tlearn: 0.8783270\ttest: 0.7301587\tbest: 0.7401575 (43)\ttotal: 2.57s\tremaining: 6.35s\n",
      "47:\tlearn: 0.8761905\ttest: 0.7301587\tbest: 0.7401575 (43)\ttotal: 2.62s\tremaining: 6.28s\n",
      "48:\tlearn: 0.8761905\ttest: 0.7301587\tbest: 0.7401575 (43)\ttotal: 2.67s\tremaining: 6.22s\n",
      "49:\tlearn: 0.8783270\ttest: 0.7200000\tbest: 0.7401575 (43)\ttotal: 2.72s\tremaining: 6.16s\n",
      "50:\tlearn: 0.8783270\ttest: 0.7301587\tbest: 0.7401575 (43)\ttotal: 2.78s\tremaining: 6.1s\n",
      "51:\tlearn: 0.8761905\ttest: 0.7301587\tbest: 0.7401575 (43)\ttotal: 2.83s\tremaining: 6.04s\n",
      "52:\tlearn: 0.8761905\ttest: 0.7301587\tbest: 0.7401575 (43)\ttotal: 2.89s\tremaining: 6s\n",
      "53:\tlearn: 0.8816794\ttest: 0.7301587\tbest: 0.7401575 (43)\ttotal: 2.96s\tremaining: 5.97s\n",
      "54:\tlearn: 0.8816794\ttest: 0.7301587\tbest: 0.7401575 (43)\ttotal: 3.01s\tremaining: 5.91s\n",
      "55:\tlearn: 0.8816794\ttest: 0.7301587\tbest: 0.7401575 (43)\ttotal: 3.07s\tremaining: 5.87s\n",
      "56:\tlearn: 0.8816794\ttest: 0.7301587\tbest: 0.7401575 (43)\ttotal: 3.12s\tremaining: 5.81s\n",
      "57:\tlearn: 0.8833652\ttest: 0.7419355\tbest: 0.7419355 (57)\ttotal: 3.17s\tremaining: 5.75s\n",
      "58:\tlearn: 0.8795411\ttest: 0.7360000\tbest: 0.7419355 (57)\ttotal: 3.23s\tremaining: 5.69s\n",
      "59:\tlearn: 0.8816794\ttest: 0.7360000\tbest: 0.7419355 (57)\ttotal: 3.28s\tremaining: 5.62s\n",
      "60:\tlearn: 0.8838095\ttest: 0.7360000\tbest: 0.7419355 (57)\ttotal: 3.34s\tremaining: 5.58s\n",
      "61:\tlearn: 0.8821293\ttest: 0.7360000\tbest: 0.7419355 (57)\ttotal: 3.39s\tremaining: 5.52s\n",
      "62:\tlearn: 0.8854962\ttest: 0.7360000\tbest: 0.7419355 (57)\ttotal: 3.44s\tremaining: 5.46s\n",
      "63:\tlearn: 0.8876190\ttest: 0.7360000\tbest: 0.7419355 (57)\ttotal: 3.49s\tremaining: 5.39s\n",
      "64:\tlearn: 0.8939394\ttest: 0.7360000\tbest: 0.7419355 (57)\ttotal: 3.55s\tremaining: 5.35s\n",
      "65:\tlearn: 0.8973384\ttest: 0.7360000\tbest: 0.7419355 (57)\ttotal: 3.61s\tremaining: 5.31s\n",
      "66:\tlearn: 0.8973384\ttest: 0.7360000\tbest: 0.7419355 (57)\ttotal: 3.67s\tremaining: 5.26s\n",
      "67:\tlearn: 0.8973384\ttest: 0.7360000\tbest: 0.7419355 (57)\ttotal: 3.74s\tremaining: 5.22s\n",
      "68:\tlearn: 0.8994307\ttest: 0.7360000\tbest: 0.7419355 (57)\ttotal: 3.79s\tremaining: 5.16s\n",
      "69:\tlearn: 0.9015152\ttest: 0.7360000\tbest: 0.7419355 (57)\ttotal: 3.85s\tremaining: 5.11s\n",
      "70:\tlearn: 0.9032258\ttest: 0.7360000\tbest: 0.7419355 (57)\ttotal: 3.9s\tremaining: 5.05s\n",
      "71:\tlearn: 0.9032258\ttest: 0.7559055\tbest: 0.7559055 (71)\ttotal: 3.94s\tremaining: 4.99s\n",
      "72:\tlearn: 0.9049430\ttest: 0.7656250\tbest: 0.7656250 (72)\ttotal: 4.01s\tremaining: 4.94s\n",
      "73:\tlearn: 0.9070209\ttest: 0.7559055\tbest: 0.7656250 (72)\ttotal: 4.06s\tremaining: 4.89s\n",
      "74:\tlearn: 0.9104762\ttest: 0.7360000\tbest: 0.7656250 (72)\ttotal: 4.12s\tremaining: 4.83s\n",
      "75:\tlearn: 0.9104762\ttest: 0.7460317\tbest: 0.7656250 (72)\ttotal: 4.18s\tremaining: 4.79s\n",
      "76:\tlearn: 0.9125475\ttest: 0.7460317\tbest: 0.7656250 (72)\ttotal: 4.25s\tremaining: 4.75s\n",
      "77:\tlearn: 0.9125475\ttest: 0.7559055\tbest: 0.7656250 (72)\ttotal: 4.31s\tremaining: 4.7s\n",
      "78:\tlearn: 0.9125475\ttest: 0.7559055\tbest: 0.7656250 (72)\ttotal: 4.38s\tremaining: 4.66s\n",
      "79:\tlearn: 0.9160305\ttest: 0.7460317\tbest: 0.7656250 (72)\ttotal: 4.44s\tremaining: 4.61s\n",
      "80:\tlearn: 0.9142857\ttest: 0.7559055\tbest: 0.7656250 (72)\ttotal: 4.5s\tremaining: 4.56s\n",
      "81:\tlearn: 0.9142857\ttest: 0.7559055\tbest: 0.7656250 (72)\ttotal: 4.55s\tremaining: 4.5s\n",
      "82:\tlearn: 0.9142857\ttest: 0.7460317\tbest: 0.7656250 (72)\ttotal: 4.62s\tremaining: 4.45s\n",
      "83:\tlearn: 0.9142857\ttest: 0.7460317\tbest: 0.7656250 (72)\ttotal: 4.67s\tremaining: 4.39s\n",
      "84:\tlearn: 0.9163498\ttest: 0.7460317\tbest: 0.7656250 (72)\ttotal: 4.72s\tremaining: 4.33s\n",
      "85:\tlearn: 0.9142857\ttest: 0.7520000\tbest: 0.7656250 (72)\ttotal: 4.77s\tremaining: 4.27s\n",
      "86:\tlearn: 0.9184061\ttest: 0.7460317\tbest: 0.7656250 (72)\ttotal: 4.83s\tremaining: 4.22s\n",
      "87:\tlearn: 0.9201521\ttest: 0.7460317\tbest: 0.7656250 (72)\ttotal: 4.88s\tremaining: 4.16s\n",
      "88:\tlearn: 0.9280303\ttest: 0.7460317\tbest: 0.7656250 (72)\ttotal: 4.93s\tremaining: 4.1s\n",
      "89:\tlearn: 0.9283019\ttest: 0.7460317\tbest: 0.7656250 (72)\ttotal: 4.98s\tremaining: 4.04s\n",
      "90:\tlearn: 0.9283019\ttest: 0.7460317\tbest: 0.7656250 (72)\ttotal: 5.04s\tremaining: 3.99s\n",
      "91:\tlearn: 0.9283019\ttest: 0.7460317\tbest: 0.7656250 (72)\ttotal: 5.09s\tremaining: 3.93s\n",
      "92:\tlearn: 0.9318182\ttest: 0.7460317\tbest: 0.7656250 (72)\ttotal: 5.15s\tremaining: 3.87s\n",
      "93:\tlearn: 0.9283019\ttest: 0.7401575\tbest: 0.7656250 (72)\ttotal: 5.2s\tremaining: 3.81s\n",
      "94:\tlearn: 0.9335863\ttest: 0.7401575\tbest: 0.7656250 (72)\ttotal: 5.25s\tremaining: 3.76s\n",
      "95:\tlearn: 0.9335863\ttest: 0.7401575\tbest: 0.7656250 (72)\ttotal: 5.3s\tremaining: 3.7s\n",
      "96:\tlearn: 0.9335863\ttest: 0.7301587\tbest: 0.7656250 (72)\ttotal: 5.35s\tremaining: 3.64s\n",
      "97:\tlearn: 0.9318182\ttest: 0.7301587\tbest: 0.7656250 (72)\ttotal: 5.4s\tremaining: 3.58s\n",
      "98:\tlearn: 0.9318182\ttest: 0.7244094\tbest: 0.7656250 (72)\ttotal: 5.45s\tremaining: 3.52s\n",
      "99:\tlearn: 0.9335863\ttest: 0.7244094\tbest: 0.7656250 (72)\ttotal: 5.5s\tremaining: 3.46s\n",
      "100:\tlearn: 0.9356061\ttest: 0.7187500\tbest: 0.7656250 (72)\ttotal: 5.54s\tremaining: 3.4s\n",
      "101:\tlearn: 0.9376181\ttest: 0.7244094\tbest: 0.7656250 (72)\ttotal: 5.59s\tremaining: 3.35s\n",
      "102:\tlearn: 0.9396226\ttest: 0.7244094\tbest: 0.7656250 (72)\ttotal: 5.66s\tremaining: 3.29s\n",
      "103:\tlearn: 0.9396226\ttest: 0.7343750\tbest: 0.7656250 (72)\ttotal: 5.72s\tremaining: 3.25s\n",
      "104:\tlearn: 0.9396226\ttest: 0.7286822\tbest: 0.7656250 (72)\ttotal: 5.78s\tremaining: 3.19s\n",
      "105:\tlearn: 0.9396226\ttest: 0.7286822\tbest: 0.7656250 (72)\ttotal: 5.83s\tremaining: 3.13s\n",
      "106:\tlearn: 0.9396226\ttest: 0.7343750\tbest: 0.7656250 (72)\ttotal: 5.88s\tremaining: 3.08s\n",
      "107:\tlearn: 0.9396226\ttest: 0.7343750\tbest: 0.7656250 (72)\ttotal: 5.93s\tremaining: 3.02s\n",
      "108:\tlearn: 0.9396226\ttest: 0.7343750\tbest: 0.7656250 (72)\ttotal: 5.98s\tremaining: 2.96s\n",
      "109:\tlearn: 0.9396226\ttest: 0.7441860\tbest: 0.7656250 (72)\ttotal: 6.04s\tremaining: 2.91s\n",
      "110:\tlearn: 0.9396226\ttest: 0.7441860\tbest: 0.7656250 (72)\ttotal: 6.09s\tremaining: 2.85s\n",
      "111:\tlearn: 0.9396226\ttest: 0.7441860\tbest: 0.7656250 (72)\ttotal: 6.15s\tremaining: 2.8s\n",
      "112:\tlearn: 0.9416196\ttest: 0.7384615\tbest: 0.7656250 (72)\ttotal: 6.21s\tremaining: 2.75s\n",
      "113:\tlearn: 0.9416196\ttest: 0.7384615\tbest: 0.7656250 (72)\ttotal: 6.26s\tremaining: 2.69s\n",
      "114:\tlearn: 0.9416196\ttest: 0.7384615\tbest: 0.7656250 (72)\ttotal: 6.31s\tremaining: 2.63s\n",
      "115:\tlearn: 0.9436090\ttest: 0.7441860\tbest: 0.7656250 (72)\ttotal: 6.36s\tremaining: 2.58s\n",
      "116:\tlearn: 0.9436090\ttest: 0.7500000\tbest: 0.7656250 (72)\ttotal: 6.42s\tremaining: 2.53s\n",
      "117:\tlearn: 0.9436090\ttest: 0.7441860\tbest: 0.7656250 (72)\ttotal: 6.49s\tremaining: 2.47s\n",
      "118:\tlearn: 0.9436090\ttest: 0.7401575\tbest: 0.7656250 (72)\ttotal: 6.54s\tremaining: 2.42s\n",
      "119:\tlearn: 0.9475655\ttest: 0.7401575\tbest: 0.7656250 (72)\ttotal: 6.6s\tremaining: 2.37s\n",
      "120:\tlearn: 0.9475655\ttest: 0.7401575\tbest: 0.7656250 (72)\ttotal: 6.67s\tremaining: 2.31s\n",
      "121:\tlearn: 0.9495327\ttest: 0.7401575\tbest: 0.7656250 (72)\ttotal: 6.72s\tremaining: 2.26s\n",
      "122:\tlearn: 0.9495327\ttest: 0.7401575\tbest: 0.7656250 (72)\ttotal: 6.77s\tremaining: 2.2s\n",
      "123:\tlearn: 0.9495327\ttest: 0.7401575\tbest: 0.7656250 (72)\ttotal: 6.83s\tremaining: 2.15s\n",
      "124:\tlearn: 0.9514925\ttest: 0.7401575\tbest: 0.7656250 (72)\ttotal: 6.88s\tremaining: 2.09s\n",
      "125:\tlearn: 0.9514925\ttest: 0.7401575\tbest: 0.7656250 (72)\ttotal: 6.93s\tremaining: 2.03s\n",
      "126:\tlearn: 0.9532710\ttest: 0.7401575\tbest: 0.7656250 (72)\ttotal: 6.98s\tremaining: 1.98s\n",
      "127:\tlearn: 0.9513109\ttest: 0.7401575\tbest: 0.7656250 (72)\ttotal: 7.03s\tremaining: 1.92s\n",
      "128:\tlearn: 0.9513109\ttest: 0.7460317\tbest: 0.7656250 (72)\ttotal: 7.09s\tremaining: 1.87s\n",
      "129:\tlearn: 0.9493433\ttest: 0.7460317\tbest: 0.7656250 (72)\ttotal: 7.14s\tremaining: 1.81s\n",
      "130:\tlearn: 0.9532710\ttest: 0.7460317\tbest: 0.7656250 (72)\ttotal: 7.19s\tremaining: 1.76s\n",
      "131:\tlearn: 0.9532710\ttest: 0.7460317\tbest: 0.7656250 (72)\ttotal: 7.26s\tremaining: 1.71s\n",
      "132:\tlearn: 0.9532710\ttest: 0.7460317\tbest: 0.7656250 (72)\ttotal: 7.32s\tremaining: 1.65s\n",
      "133:\tlearn: 0.9513109\ttest: 0.7460317\tbest: 0.7656250 (72)\ttotal: 7.38s\tremaining: 1.6s\n",
      "134:\tlearn: 0.9513109\ttest: 0.7401575\tbest: 0.7656250 (72)\ttotal: 7.44s\tremaining: 1.54s\n",
      "135:\tlearn: 0.9513109\ttest: 0.7460317\tbest: 0.7656250 (72)\ttotal: 7.49s\tremaining: 1.49s\n",
      "136:\tlearn: 0.9513109\ttest: 0.7460317\tbest: 0.7656250 (72)\ttotal: 7.54s\tremaining: 1.43s\n",
      "137:\tlearn: 0.9513109\ttest: 0.7460317\tbest: 0.7656250 (72)\ttotal: 7.59s\tremaining: 1.37s\n",
      "138:\tlearn: 0.9513109\ttest: 0.7401575\tbest: 0.7656250 (72)\ttotal: 7.64s\tremaining: 1.32s\n",
      "139:\tlearn: 0.9513109\ttest: 0.7401575\tbest: 0.7656250 (72)\ttotal: 7.69s\tremaining: 1.26s\n",
      "140:\tlearn: 0.9513109\ttest: 0.7401575\tbest: 0.7656250 (72)\ttotal: 7.74s\tremaining: 1.21s\n",
      "141:\tlearn: 0.9530957\ttest: 0.7401575\tbest: 0.7656250 (72)\ttotal: 7.8s\tremaining: 1.15s\n",
      "142:\tlearn: 0.9530957\ttest: 0.7401575\tbest: 0.7656250 (72)\ttotal: 7.85s\tremaining: 1.1s\n",
      "143:\tlearn: 0.9530957\ttest: 0.7401575\tbest: 0.7656250 (72)\ttotal: 7.9s\tremaining: 1.04s\n",
      "144:\tlearn: 0.9530957\ttest: 0.7401575\tbest: 0.7656250 (72)\ttotal: 7.95s\tremaining: 987ms\n",
      "145:\tlearn: 0.9530957\ttest: 0.7401575\tbest: 0.7656250 (72)\ttotal: 8s\tremaining: 931ms\n",
      "146:\tlearn: 0.9530957\ttest: 0.7401575\tbest: 0.7656250 (72)\ttotal: 8.06s\tremaining: 877ms\n",
      "147:\tlearn: 0.9530957\ttest: 0.7401575\tbest: 0.7656250 (72)\ttotal: 8.13s\tremaining: 824ms\n",
      "148:\tlearn: 0.9530957\ttest: 0.7401575\tbest: 0.7656250 (72)\ttotal: 8.18s\tremaining: 769ms\n",
      "149:\tlearn: 0.9550562\ttest: 0.7401575\tbest: 0.7656250 (72)\ttotal: 8.23s\tremaining: 714ms\n",
      "150:\tlearn: 0.9568480\ttest: 0.7401575\tbest: 0.7656250 (72)\ttotal: 8.28s\tremaining: 658ms\n",
      "151:\tlearn: 0.9588015\ttest: 0.7401575\tbest: 0.7656250 (72)\ttotal: 8.33s\tremaining: 603ms\n",
      "152:\tlearn: 0.9588015\ttest: 0.7401575\tbest: 0.7656250 (72)\ttotal: 8.38s\tremaining: 548ms\n",
      "153:\tlearn: 0.9588015\ttest: 0.7520000\tbest: 0.7656250 (72)\ttotal: 8.43s\tremaining: 493ms\n",
      "154:\tlearn: 0.9568480\ttest: 0.7520000\tbest: 0.7656250 (72)\ttotal: 8.48s\tremaining: 438ms\n",
      "155:\tlearn: 0.9588015\ttest: 0.7520000\tbest: 0.7656250 (72)\ttotal: 8.55s\tremaining: 384ms\n",
      "156:\tlearn: 0.9568480\ttest: 0.7520000\tbest: 0.7656250 (72)\ttotal: 8.62s\tremaining: 329ms\n",
      "157:\tlearn: 0.9568480\ttest: 0.7520000\tbest: 0.7656250 (72)\ttotal: 8.7s\tremaining: 275ms\n",
      "158:\tlearn: 0.9568480\ttest: 0.7460317\tbest: 0.7656250 (72)\ttotal: 8.77s\tremaining: 221ms\n",
      "159:\tlearn: 0.9588015\ttest: 0.7460317\tbest: 0.7656250 (72)\ttotal: 8.84s\tremaining: 166ms\n",
      "160:\tlearn: 0.9588015\ttest: 0.7360000\tbest: 0.7656250 (72)\ttotal: 8.89s\tremaining: 110ms\n",
      "161:\tlearn: 0.9607477\ttest: 0.7360000\tbest: 0.7656250 (72)\ttotal: 8.94s\tremaining: 55.2ms\n",
      "162:\tlearn: 0.9607477\ttest: 0.7360000\tbest: 0.7656250 (72)\ttotal: 9s\tremaining: 0us\n",
      "\n",
      "bestTest = 0.765625\n",
      "bestIteration = 72\n",
      "\n",
      "Training on fold [3/5]\n",
      "0:\tlearn: 0.7286822\ttest: 0.8091603\tbest: 0.8091603 (0)\ttotal: 48ms\tremaining: 7.77s\n",
      "1:\tlearn: 0.7407407\ttest: 0.8062016\tbest: 0.8091603 (0)\ttotal: 91.1ms\tremaining: 7.33s\n",
      "2:\tlearn: 0.7599244\ttest: 0.8030303\tbest: 0.8091603 (0)\ttotal: 130ms\tremaining: 6.94s\n",
      "3:\tlearn: 0.7745665\ttest: 0.8120301\tbest: 0.8120301 (3)\ttotal: 191ms\tremaining: 7.6s\n",
      "4:\tlearn: 0.7751938\ttest: 0.8120301\tbest: 0.8120301 (3)\ttotal: 250ms\tremaining: 7.92s\n",
      "5:\tlearn: 0.7837838\ttest: 0.8088235\tbest: 0.8120301 (3)\ttotal: 311ms\tremaining: 8.15s\n",
      "6:\tlearn: 0.7766990\ttest: 0.8148148\tbest: 0.8148148 (6)\ttotal: 364ms\tremaining: 8.11s\n",
      "7:\tlearn: 0.7837838\ttest: 0.7971014\tbest: 0.8148148 (6)\ttotal: 414ms\tremaining: 8.02s\n",
      "8:\tlearn: 0.7884615\ttest: 0.7971014\tbest: 0.8148148 (6)\ttotal: 472ms\tremaining: 8.07s\n",
      "9:\tlearn: 0.8023483\ttest: 0.7969925\tbest: 0.8148148 (6)\ttotal: 524ms\tremaining: 8.02s\n",
      "10:\tlearn: 0.8093385\ttest: 0.7969925\tbest: 0.8148148 (6)\ttotal: 587ms\tremaining: 8.12s\n",
      "11:\tlearn: 0.8139535\ttest: 0.7969925\tbest: 0.8148148 (6)\ttotal: 637ms\tremaining: 8.02s\n",
      "12:\tlearn: 0.8208092\ttest: 0.7969925\tbest: 0.8148148 (6)\ttotal: 697ms\tremaining: 8.04s\n",
      "13:\tlearn: 0.8210117\ttest: 0.8059701\tbest: 0.8148148 (6)\ttotal: 750ms\tremaining: 7.98s\n",
      "14:\tlearn: 0.8219178\ttest: 0.8059701\tbest: 0.8148148 (6)\ttotal: 800ms\tremaining: 7.89s\n",
      "15:\tlearn: 0.8126233\ttest: 0.8030303\tbest: 0.8148148 (6)\ttotal: 851ms\tremaining: 7.82s\n",
      "16:\tlearn: 0.8165680\ttest: 0.7969925\tbest: 0.8148148 (6)\ttotal: 909ms\tremaining: 7.81s\n",
      "17:\tlearn: 0.8274510\ttest: 0.8000000\tbest: 0.8148148 (6)\ttotal: 960ms\tremaining: 7.73s\n",
      "18:\tlearn: 0.8320313\ttest: 0.8000000\tbest: 0.8148148 (6)\ttotal: 1.02s\tremaining: 7.71s\n",
      "19:\tlearn: 0.8343080\ttest: 0.8000000\tbest: 0.8148148 (6)\ttotal: 1.07s\tremaining: 7.63s\n",
      "20:\tlearn: 0.8365759\ttest: 0.8000000\tbest: 0.8148148 (6)\ttotal: 1.12s\tremaining: 7.57s\n",
      "21:\tlearn: 0.8388350\ttest: 0.8000000\tbest: 0.8148148 (6)\ttotal: 1.17s\tremaining: 7.48s\n",
      "22:\tlearn: 0.8427184\ttest: 0.7819549\tbest: 0.8148148 (6)\ttotal: 1.24s\tremaining: 7.55s\n",
      "23:\tlearn: 0.8476563\ttest: 0.7969925\tbest: 0.8148148 (6)\ttotal: 1.3s\tremaining: 7.51s\n",
      "24:\tlearn: 0.8526523\ttest: 0.8000000\tbest: 0.8148148 (6)\ttotal: 1.35s\tremaining: 7.47s\n",
      "25:\tlearn: 0.8599606\ttest: 0.7910448\tbest: 0.8148148 (6)\ttotal: 1.41s\tremaining: 7.43s\n",
      "26:\tlearn: 0.8582677\ttest: 0.7910448\tbest: 0.8148148 (6)\ttotal: 1.46s\tremaining: 7.35s\n",
      "27:\tlearn: 0.8588235\ttest: 0.8000000\tbest: 0.8148148 (6)\ttotal: 1.51s\tremaining: 7.27s\n",
      "28:\tlearn: 0.8605108\ttest: 0.8000000\tbest: 0.8148148 (6)\ttotal: 1.56s\tremaining: 7.19s\n",
      "29:\tlearn: 0.8688845\ttest: 0.7851852\tbest: 0.8148148 (6)\ttotal: 1.62s\tremaining: 7.19s\n",
      "30:\tlearn: 0.8693957\ttest: 0.7910448\tbest: 0.8148148 (6)\ttotal: 1.69s\tremaining: 7.18s\n",
      "31:\tlearn: 0.8699029\ttest: 0.7969925\tbest: 0.8148148 (6)\ttotal: 1.74s\tremaining: 7.14s\n",
      "32:\tlearn: 0.8720930\ttest: 0.7969925\tbest: 0.8148148 (6)\ttotal: 1.81s\tremaining: 7.12s\n",
      "33:\tlearn: 0.8720930\ttest: 0.7969925\tbest: 0.8148148 (6)\ttotal: 1.86s\tremaining: 7.05s\n",
      "34:\tlearn: 0.8699029\ttest: 0.7969925\tbest: 0.8148148 (6)\ttotal: 1.91s\tremaining: 6.97s\n",
      "35:\tlearn: 0.8742747\ttest: 0.7910448\tbest: 0.8148148 (6)\ttotal: 1.98s\tremaining: 6.97s\n",
      "36:\tlearn: 0.8803089\ttest: 0.7910448\tbest: 0.8148148 (6)\ttotal: 2.04s\tremaining: 6.93s\n",
      "37:\tlearn: 0.8841699\ttest: 0.7969925\tbest: 0.8148148 (6)\ttotal: 2.09s\tremaining: 6.87s\n",
      "38:\tlearn: 0.8841699\ttest: 0.7878788\tbest: 0.8148148 (6)\ttotal: 2.14s\tremaining: 6.79s\n",
      "39:\tlearn: 0.8820116\ttest: 0.7969925\tbest: 0.8148148 (6)\ttotal: 2.19s\tremaining: 6.72s\n",
      "40:\tlearn: 0.8820116\ttest: 0.7969925\tbest: 0.8148148 (6)\ttotal: 2.23s\tremaining: 6.65s\n",
      "41:\tlearn: 0.8863198\ttest: 0.7969925\tbest: 0.8148148 (6)\ttotal: 2.29s\tremaining: 6.58s\n",
      "42:\tlearn: 0.8858801\ttest: 0.7969925\tbest: 0.8148148 (6)\ttotal: 2.33s\tremaining: 6.51s\n",
      "43:\tlearn: 0.8880309\ttest: 0.7910448\tbest: 0.8148148 (6)\ttotal: 2.39s\tremaining: 6.48s\n",
      "44:\tlearn: 0.8880309\ttest: 0.7910448\tbest: 0.8148148 (6)\ttotal: 2.45s\tremaining: 6.42s\n",
      "45:\tlearn: 0.8897485\ttest: 0.7727273\tbest: 0.8148148 (6)\ttotal: 2.5s\tremaining: 6.35s\n",
      "46:\tlearn: 0.8897485\ttest: 0.7969925\tbest: 0.8148148 (6)\ttotal: 2.55s\tremaining: 6.29s\n",
      "47:\tlearn: 0.8914729\ttest: 0.7878788\tbest: 0.8148148 (6)\ttotal: 2.6s\tremaining: 6.22s\n",
      "48:\tlearn: 0.8914729\ttest: 0.8030303\tbest: 0.8148148 (6)\ttotal: 2.65s\tremaining: 6.17s\n",
      "49:\tlearn: 0.8914729\ttest: 0.7938931\tbest: 0.8148148 (6)\ttotal: 2.71s\tremaining: 6.13s\n",
      "50:\tlearn: 0.8914729\ttest: 0.7878788\tbest: 0.8148148 (6)\ttotal: 2.77s\tremaining: 6.08s\n",
      "51:\tlearn: 0.8936170\ttest: 0.7969925\tbest: 0.8148148 (6)\ttotal: 2.82s\tremaining: 6.02s\n",
      "52:\tlearn: 0.8957529\ttest: 0.7969925\tbest: 0.8148148 (6)\ttotal: 2.88s\tremaining: 5.99s\n",
      "53:\tlearn: 0.8957529\ttest: 0.7969925\tbest: 0.8148148 (6)\ttotal: 2.93s\tremaining: 5.92s\n",
      "54:\tlearn: 0.8970874\ttest: 0.8030303\tbest: 0.8148148 (6)\ttotal: 3s\tremaining: 5.88s\n",
      "55:\tlearn: 0.9009709\ttest: 0.7969925\tbest: 0.8148148 (6)\ttotal: 3.05s\tremaining: 5.83s\n",
      "56:\tlearn: 0.9009709\ttest: 0.7969925\tbest: 0.8148148 (6)\ttotal: 3.13s\tremaining: 5.82s\n",
      "57:\tlearn: 0.9009709\ttest: 0.8120301\tbest: 0.8148148 (6)\ttotal: 3.19s\tremaining: 5.78s\n",
      "58:\tlearn: 0.8957529\ttest: 0.8030303\tbest: 0.8148148 (6)\ttotal: 3.25s\tremaining: 5.72s\n",
      "59:\tlearn: 0.8992248\ttest: 0.8120301\tbest: 0.8148148 (6)\ttotal: 3.3s\tremaining: 5.66s\n",
      "60:\tlearn: 0.8996139\ttest: 0.8208955\tbest: 0.8208955 (60)\ttotal: 3.35s\tremaining: 5.59s\n",
      "61:\tlearn: 0.9073359\ttest: 0.8000000\tbest: 0.8208955 (60)\ttotal: 3.4s\tremaining: 5.53s\n",
      "62:\tlearn: 0.9055877\ttest: 0.8000000\tbest: 0.8208955 (60)\ttotal: 3.46s\tremaining: 5.49s\n",
      "63:\tlearn: 0.9076923\ttest: 0.8208955\tbest: 0.8208955 (60)\ttotal: 3.52s\tremaining: 5.44s\n",
      "64:\tlearn: 0.9076923\ttest: 0.8208955\tbest: 0.8208955 (60)\ttotal: 3.56s\tremaining: 5.37s\n",
      "65:\tlearn: 0.9097889\ttest: 0.8208955\tbest: 0.8208955 (60)\ttotal: 3.61s\tremaining: 5.31s\n",
      "66:\tlearn: 0.9097889\ttest: 0.8208955\tbest: 0.8208955 (60)\ttotal: 3.68s\tremaining: 5.27s\n",
      "67:\tlearn: 0.9097889\ttest: 0.8148148\tbest: 0.8208955 (60)\ttotal: 3.74s\tremaining: 5.23s\n",
      "68:\tlearn: 0.9097889\ttest: 0.8148148\tbest: 0.8208955 (60)\ttotal: 3.79s\tremaining: 5.16s\n",
      "69:\tlearn: 0.9097889\ttest: 0.8148148\tbest: 0.8208955 (60)\ttotal: 3.84s\tremaining: 5.1s\n",
      "70:\tlearn: 0.9118774\ttest: 0.8148148\tbest: 0.8208955 (60)\ttotal: 3.89s\tremaining: 5.04s\n",
      "71:\tlearn: 0.9118774\ttest: 0.8059701\tbest: 0.8208955 (60)\ttotal: 3.94s\tremaining: 4.98s\n",
      "72:\tlearn: 0.9094412\ttest: 0.7969925\tbest: 0.8208955 (60)\ttotal: 4s\tremaining: 4.93s\n",
      "73:\tlearn: 0.9115385\ttest: 0.7969925\tbest: 0.8208955 (60)\ttotal: 4.07s\tremaining: 4.89s\n",
      "74:\tlearn: 0.9115385\ttest: 0.7878788\tbest: 0.8208955 (60)\ttotal: 4.12s\tremaining: 4.83s\n",
      "75:\tlearn: 0.9136276\ttest: 0.7878788\tbest: 0.8208955 (60)\ttotal: 4.18s\tremaining: 4.78s\n",
      "76:\tlearn: 0.9136276\ttest: 0.7878788\tbest: 0.8208955 (60)\ttotal: 4.23s\tremaining: 4.72s\n",
      "77:\tlearn: 0.9174664\ttest: 0.7878788\tbest: 0.8208955 (60)\ttotal: 4.28s\tremaining: 4.66s\n",
      "78:\tlearn: 0.9174664\ttest: 0.7878788\tbest: 0.8208955 (60)\ttotal: 4.33s\tremaining: 4.6s\n",
      "79:\tlearn: 0.9195402\ttest: 0.7878788\tbest: 0.8208955 (60)\ttotal: 4.39s\tremaining: 4.55s\n",
      "80:\tlearn: 0.9195402\ttest: 0.7878788\tbest: 0.8208955 (60)\ttotal: 4.45s\tremaining: 4.5s\n",
      "81:\tlearn: 0.9195402\ttest: 0.7786260\tbest: 0.8208955 (60)\ttotal: 4.5s\tremaining: 4.44s\n",
      "82:\tlearn: 0.9201521\ttest: 0.7786260\tbest: 0.8208955 (60)\ttotal: 4.56s\tremaining: 4.4s\n",
      "83:\tlearn: 0.9242424\ttest: 0.7786260\tbest: 0.8208955 (60)\ttotal: 4.62s\tremaining: 4.34s\n",
      "84:\tlearn: 0.9262760\ttest: 0.7786260\tbest: 0.8208955 (60)\ttotal: 4.68s\tremaining: 4.3s\n",
      "85:\tlearn: 0.9245283\ttest: 0.7786260\tbest: 0.8208955 (60)\ttotal: 4.73s\tremaining: 4.24s\n",
      "86:\tlearn: 0.9283019\ttest: 0.7786260\tbest: 0.8208955 (60)\ttotal: 4.78s\tremaining: 4.18s\n",
      "87:\tlearn: 0.9283019\ttest: 0.7878788\tbest: 0.8208955 (60)\ttotal: 4.84s\tremaining: 4.12s\n",
      "88:\tlearn: 0.9303202\ttest: 0.7878788\tbest: 0.8208955 (60)\ttotal: 4.89s\tremaining: 4.07s\n",
      "89:\tlearn: 0.9303202\ttest: 0.7786260\tbest: 0.8208955 (60)\ttotal: 4.96s\tremaining: 4.02s\n",
      "90:\tlearn: 0.9303202\ttest: 0.7786260\tbest: 0.8208955 (60)\ttotal: 5.01s\tremaining: 3.97s\n",
      "91:\tlearn: 0.9303202\ttest: 0.7786260\tbest: 0.8208955 (60)\ttotal: 5.07s\tremaining: 3.92s\n",
      "92:\tlearn: 0.9303202\ttest: 0.7786260\tbest: 0.8208955 (60)\ttotal: 5.13s\tremaining: 3.86s\n",
      "93:\tlearn: 0.9303202\ttest: 0.7786260\tbest: 0.8208955 (60)\ttotal: 5.18s\tremaining: 3.81s\n",
      "94:\tlearn: 0.9303202\ttest: 0.7786260\tbest: 0.8208955 (60)\ttotal: 5.25s\tremaining: 3.75s\n",
      "95:\tlearn: 0.9303202\ttest: 0.7786260\tbest: 0.8208955 (60)\ttotal: 5.3s\tremaining: 3.7s\n",
      "96:\tlearn: 0.9323308\ttest: 0.7786260\tbest: 0.8208955 (60)\ttotal: 5.36s\tremaining: 3.64s\n",
      "97:\tlearn: 0.9323308\ttest: 0.7786260\tbest: 0.8208955 (60)\ttotal: 5.41s\tremaining: 3.59s\n",
      "98:\tlearn: 0.9363296\ttest: 0.7786260\tbest: 0.8208955 (60)\ttotal: 5.46s\tremaining: 3.53s\n",
      "99:\tlearn: 0.9380863\ttest: 0.7786260\tbest: 0.8208955 (60)\ttotal: 5.52s\tremaining: 3.48s\n",
      "100:\tlearn: 0.9380863\ttest: 0.7786260\tbest: 0.8208955 (60)\ttotal: 5.58s\tremaining: 3.42s\n",
      "101:\tlearn: 0.9380863\ttest: 0.7846154\tbest: 0.8208955 (60)\ttotal: 5.62s\tremaining: 3.36s\n",
      "102:\tlearn: 0.9380863\ttest: 0.7938931\tbest: 0.8208955 (60)\ttotal: 5.67s\tremaining: 3.31s\n",
      "103:\tlearn: 0.9380863\ttest: 0.7938931\tbest: 0.8208955 (60)\ttotal: 5.72s\tremaining: 3.25s\n",
      "104:\tlearn: 0.9398496\ttest: 0.7938931\tbest: 0.8208955 (60)\ttotal: 5.78s\tremaining: 3.19s\n",
      "105:\tlearn: 0.9398496\ttest: 0.8000000\tbest: 0.8208955 (60)\ttotal: 5.82s\tremaining: 3.13s\n",
      "106:\tlearn: 0.9416196\ttest: 0.8000000\tbest: 0.8208955 (60)\ttotal: 5.87s\tremaining: 3.07s\n",
      "107:\tlearn: 0.9416196\ttest: 0.8000000\tbest: 0.8208955 (60)\ttotal: 5.93s\tremaining: 3.02s\n",
      "108:\tlearn: 0.9416196\ttest: 0.8000000\tbest: 0.8208955 (60)\ttotal: 5.99s\tremaining: 2.97s\n",
      "109:\tlearn: 0.9416196\ttest: 0.8000000\tbest: 0.8208955 (60)\ttotal: 6.07s\tremaining: 2.92s\n",
      "110:\tlearn: 0.9398496\ttest: 0.8000000\tbest: 0.8208955 (60)\ttotal: 6.12s\tremaining: 2.87s\n",
      "111:\tlearn: 0.9398496\ttest: 0.8000000\tbest: 0.8208955 (60)\ttotal: 6.17s\tremaining: 2.81s\n",
      "112:\tlearn: 0.9398496\ttest: 0.8000000\tbest: 0.8208955 (60)\ttotal: 6.24s\tremaining: 2.76s\n",
      "113:\tlearn: 0.9398496\ttest: 0.7938931\tbest: 0.8208955 (60)\ttotal: 6.29s\tremaining: 2.71s\n",
      "114:\tlearn: 0.9398496\ttest: 0.8000000\tbest: 0.8208955 (60)\ttotal: 6.34s\tremaining: 2.65s\n",
      "115:\tlearn: 0.9398496\ttest: 0.8000000\tbest: 0.8208955 (60)\ttotal: 6.39s\tremaining: 2.59s\n",
      "116:\tlearn: 0.9398496\ttest: 0.8000000\tbest: 0.8208955 (60)\ttotal: 6.44s\tremaining: 2.53s\n",
      "117:\tlearn: 0.9398496\ttest: 0.8000000\tbest: 0.8208955 (60)\ttotal: 6.5s\tremaining: 2.48s\n",
      "118:\tlearn: 0.9398496\ttest: 0.8000000\tbest: 0.8208955 (60)\ttotal: 6.56s\tremaining: 2.42s\n",
      "119:\tlearn: 0.9418386\ttest: 0.8000000\tbest: 0.8208955 (60)\ttotal: 6.61s\tremaining: 2.37s\n",
      "120:\tlearn: 0.9418386\ttest: 0.8000000\tbest: 0.8208955 (60)\ttotal: 6.67s\tremaining: 2.31s\n",
      "121:\tlearn: 0.9418386\ttest: 0.8000000\tbest: 0.8208955 (60)\ttotal: 6.72s\tremaining: 2.26s\n",
      "122:\tlearn: 0.9418386\ttest: 0.8000000\tbest: 0.8208955 (60)\ttotal: 6.77s\tremaining: 2.2s\n",
      "123:\tlearn: 0.9418386\ttest: 0.8000000\tbest: 0.8208955 (60)\ttotal: 6.84s\tremaining: 2.15s\n",
      "124:\tlearn: 0.9455910\ttest: 0.8000000\tbest: 0.8208955 (60)\ttotal: 6.9s\tremaining: 2.1s\n",
      "125:\tlearn: 0.9455910\ttest: 0.8000000\tbest: 0.8208955 (60)\ttotal: 6.95s\tremaining: 2.04s\n",
      "126:\tlearn: 0.9455910\ttest: 0.8000000\tbest: 0.8208955 (60)\ttotal: 7.01s\tremaining: 1.99s\n",
      "127:\tlearn: 0.9455910\ttest: 0.8000000\tbest: 0.8208955 (60)\ttotal: 7.06s\tremaining: 1.93s\n",
      "128:\tlearn: 0.9475655\ttest: 0.8000000\tbest: 0.8208955 (60)\ttotal: 7.11s\tremaining: 1.87s\n",
      "129:\tlearn: 0.9455910\ttest: 0.8000000\tbest: 0.8208955 (60)\ttotal: 7.17s\tremaining: 1.82s\n",
      "130:\tlearn: 0.9475655\ttest: 0.7906977\tbest: 0.8208955 (60)\ttotal: 7.23s\tremaining: 1.77s\n",
      "131:\tlearn: 0.9475655\ttest: 0.7906977\tbest: 0.8208955 (60)\ttotal: 7.29s\tremaining: 1.71s\n",
      "132:\tlearn: 0.9475655\ttest: 0.7906977\tbest: 0.8208955 (60)\ttotal: 7.34s\tremaining: 1.66s\n",
      "133:\tlearn: 0.9475655\ttest: 0.7906977\tbest: 0.8208955 (60)\ttotal: 7.39s\tremaining: 1.6s\n",
      "134:\tlearn: 0.9475655\ttest: 0.7906977\tbest: 0.8208955 (60)\ttotal: 7.45s\tremaining: 1.54s\n",
      "135:\tlearn: 0.9475655\ttest: 0.7906977\tbest: 0.8208955 (60)\ttotal: 7.5s\tremaining: 1.49s\n",
      "136:\tlearn: 0.9475655\ttest: 0.7906977\tbest: 0.8208955 (60)\ttotal: 7.55s\tremaining: 1.43s\n",
      "137:\tlearn: 0.9475655\ttest: 0.8000000\tbest: 0.8208955 (60)\ttotal: 7.61s\tremaining: 1.38s\n",
      "138:\tlearn: 0.9495327\ttest: 0.7938931\tbest: 0.8208955 (60)\ttotal: 7.67s\tremaining: 1.32s\n",
      "139:\tlearn: 0.9493433\ttest: 0.7938931\tbest: 0.8208955 (60)\ttotal: 7.72s\tremaining: 1.27s\n",
      "140:\tlearn: 0.9475655\ttest: 0.7938931\tbest: 0.8208955 (60)\ttotal: 7.77s\tremaining: 1.21s\n",
      "141:\tlearn: 0.9475655\ttest: 0.7938931\tbest: 0.8208955 (60)\ttotal: 7.83s\tremaining: 1.16s\n",
      "142:\tlearn: 0.9455910\ttest: 0.7938931\tbest: 0.8208955 (60)\ttotal: 7.9s\tremaining: 1.1s\n",
      "143:\tlearn: 0.9475655\ttest: 0.7938931\tbest: 0.8208955 (60)\ttotal: 7.95s\tremaining: 1.05s\n",
      "144:\tlearn: 0.9511278\ttest: 0.7938931\tbest: 0.8208955 (60)\ttotal: 8s\tremaining: 993ms\n",
      "145:\tlearn: 0.9511278\ttest: 0.7938931\tbest: 0.8208955 (60)\ttotal: 8.05s\tremaining: 938ms\n",
      "146:\tlearn: 0.9511278\ttest: 0.7938931\tbest: 0.8208955 (60)\ttotal: 8.1s\tremaining: 882ms\n",
      "147:\tlearn: 0.9532710\ttest: 0.7938931\tbest: 0.8208955 (60)\ttotal: 8.15s\tremaining: 826ms\n",
      "148:\tlearn: 0.9532710\ttest: 0.7938931\tbest: 0.8208955 (60)\ttotal: 8.2s\tremaining: 771ms\n",
      "149:\tlearn: 0.9532710\ttest: 0.7938931\tbest: 0.8208955 (60)\ttotal: 8.25s\tremaining: 715ms\n",
      "150:\tlearn: 0.9532710\ttest: 0.7938931\tbest: 0.8208955 (60)\ttotal: 8.3s\tremaining: 660ms\n",
      "151:\tlearn: 0.9513109\ttest: 0.7938931\tbest: 0.8208955 (60)\ttotal: 8.35s\tremaining: 604ms\n",
      "152:\tlearn: 0.9532710\ttest: 0.8030303\tbest: 0.8208955 (60)\ttotal: 8.4s\tremaining: 549ms\n",
      "153:\tlearn: 0.9532710\ttest: 0.8030303\tbest: 0.8208955 (60)\ttotal: 8.45s\tremaining: 494ms\n",
      "154:\tlearn: 0.9532710\ttest: 0.8030303\tbest: 0.8208955 (60)\ttotal: 8.5s\tremaining: 439ms\n",
      "155:\tlearn: 0.9532710\ttest: 0.8030303\tbest: 0.8208955 (60)\ttotal: 8.56s\tremaining: 384ms\n",
      "156:\tlearn: 0.9532710\ttest: 0.8030303\tbest: 0.8208955 (60)\ttotal: 8.61s\tremaining: 329ms\n",
      "157:\tlearn: 0.9552239\ttest: 0.8030303\tbest: 0.8208955 (60)\ttotal: 8.67s\tremaining: 274ms\n",
      "158:\tlearn: 0.9552239\ttest: 0.8030303\tbest: 0.8208955 (60)\ttotal: 8.72s\tremaining: 219ms\n",
      "159:\tlearn: 0.9552239\ttest: 0.7938931\tbest: 0.8208955 (60)\ttotal: 8.78s\tremaining: 165ms\n",
      "160:\tlearn: 0.9552239\ttest: 0.7938931\tbest: 0.8208955 (60)\ttotal: 8.83s\tremaining: 110ms\n",
      "161:\tlearn: 0.9552239\ttest: 0.7938931\tbest: 0.8208955 (60)\ttotal: 8.88s\tremaining: 54.9ms\n",
      "162:\tlearn: 0.9571695\ttest: 0.7938931\tbest: 0.8208955 (60)\ttotal: 8.93s\tremaining: 0us\n",
      "\n",
      "bestTest = 0.8208955224\n",
      "bestIteration = 60\n",
      "\n",
      "Training on fold [4/5]\n",
      "0:\tlearn: 0.7490494\ttest: 0.7343750\tbest: 0.7343750 (0)\ttotal: 47ms\tremaining: 7.61s\n",
      "1:\tlearn: 0.7620890\ttest: 0.7401575\tbest: 0.7401575 (1)\ttotal: 90.6ms\tremaining: 7.29s\n",
      "2:\tlearn: 0.7641326\ttest: 0.7401575\tbest: 0.7401575 (1)\ttotal: 140ms\tremaining: 7.46s\n",
      "3:\tlearn: 0.7656250\ttest: 0.7401575\tbest: 0.7401575 (1)\ttotal: 192ms\tremaining: 7.62s\n",
      "4:\tlearn: 0.7710372\ttest: 0.7401575\tbest: 0.7401575 (1)\ttotal: 240ms\tremaining: 7.57s\n",
      "5:\tlearn: 0.7734375\ttest: 0.7401575\tbest: 0.7401575 (1)\ttotal: 300ms\tremaining: 7.84s\n",
      "6:\tlearn: 0.7890625\ttest: 0.7401575\tbest: 0.7401575 (1)\ttotal: 351ms\tremaining: 7.83s\n",
      "7:\tlearn: 0.7976190\ttest: 0.7540984\tbest: 0.7540984 (7)\ttotal: 424ms\tremaining: 8.21s\n",
      "8:\tlearn: 0.7953216\ttest: 0.7401575\tbest: 0.7540984 (7)\ttotal: 485ms\tremaining: 8.29s\n",
      "9:\tlearn: 0.7976190\ttest: 0.7360000\tbest: 0.7540984 (7)\ttotal: 547ms\tremaining: 8.38s\n",
      "10:\tlearn: 0.8023715\ttest: 0.7301587\tbest: 0.7540984 (7)\ttotal: 602ms\tremaining: 8.32s\n",
      "11:\tlearn: 0.8070866\ttest: 0.7244094\tbest: 0.7540984 (7)\ttotal: 661ms\tremaining: 8.32s\n",
      "12:\tlearn: 0.8233010\ttest: 0.7244094\tbest: 0.7540984 (7)\ttotal: 711ms\tremaining: 8.2s\n",
      "13:\tlearn: 0.8281250\ttest: 0.7301587\tbest: 0.7540984 (7)\ttotal: 761ms\tremaining: 8.1s\n",
      "14:\tlearn: 0.8493151\ttest: 0.7244094\tbest: 0.7540984 (7)\ttotal: 812ms\tremaining: 8.01s\n",
      "15:\tlearn: 0.8515625\ttest: 0.7244094\tbest: 0.7540984 (7)\ttotal: 862ms\tremaining: 7.92s\n",
      "16:\tlearn: 0.8498024\ttest: 0.7187500\tbest: 0.7540984 (7)\ttotal: 911ms\tremaining: 7.82s\n",
      "17:\tlearn: 0.8508946\ttest: 0.7244094\tbest: 0.7540984 (7)\ttotal: 972ms\tremaining: 7.83s\n",
      "18:\tlearn: 0.8475248\ttest: 0.7301587\tbest: 0.7540984 (7)\ttotal: 1.03s\tremaining: 7.8s\n",
      "19:\tlearn: 0.8543307\ttest: 0.7301587\tbest: 0.7540984 (7)\ttotal: 1.1s\tremaining: 7.91s\n",
      "20:\tlearn: 0.8593750\ttest: 0.7258065\tbest: 0.7540984 (7)\ttotal: 1.18s\tremaining: 7.95s\n",
      "21:\tlearn: 0.8615984\ttest: 0.7258065\tbest: 0.7540984 (7)\ttotal: 1.24s\tremaining: 7.96s\n",
      "22:\tlearn: 0.8677043\ttest: 0.7258065\tbest: 0.7540984 (7)\ttotal: 1.3s\tremaining: 7.9s\n",
      "23:\tlearn: 0.8720930\ttest: 0.7258065\tbest: 0.7540984 (7)\ttotal: 1.35s\tremaining: 7.84s\n",
      "24:\tlearn: 0.8764479\ttest: 0.7086614\tbest: 0.7540984 (7)\ttotal: 1.41s\tremaining: 7.77s\n",
      "25:\tlearn: 0.8781431\ttest: 0.7187500\tbest: 0.7540984 (7)\ttotal: 1.46s\tremaining: 7.69s\n",
      "26:\tlearn: 0.8837209\ttest: 0.7187500\tbest: 0.7540984 (7)\ttotal: 1.51s\tremaining: 7.62s\n",
      "27:\tlearn: 0.8815534\ttest: 0.7187500\tbest: 0.7540984 (7)\ttotal: 1.57s\tremaining: 7.56s\n",
      "28:\tlearn: 0.8841699\ttest: 0.7131783\tbest: 0.7540984 (7)\ttotal: 1.63s\tremaining: 7.54s\n",
      "29:\tlearn: 0.8829175\ttest: 0.6929134\tbest: 0.7540984 (7)\ttotal: 1.71s\tremaining: 7.58s\n",
      "30:\tlearn: 0.8850575\ttest: 0.6929134\tbest: 0.7540984 (7)\ttotal: 1.77s\tremaining: 7.55s\n",
      "31:\tlearn: 0.8871893\ttest: 0.6929134\tbest: 0.7540984 (7)\ttotal: 1.84s\tremaining: 7.55s\n",
      "32:\tlearn: 0.8871893\ttest: 0.7086614\tbest: 0.7540984 (7)\ttotal: 1.9s\tremaining: 7.48s\n",
      "33:\tlearn: 0.8931298\ttest: 0.7086614\tbest: 0.7540984 (7)\ttotal: 1.96s\tremaining: 7.43s\n",
      "34:\tlearn: 0.8905950\ttest: 0.7286822\tbest: 0.7540984 (7)\ttotal: 2.04s\tremaining: 7.47s\n",
      "35:\tlearn: 0.8948375\ttest: 0.7286822\tbest: 0.7540984 (7)\ttotal: 2.11s\tremaining: 7.43s\n",
      "36:\tlearn: 0.8923077\ttest: 0.7384615\tbest: 0.7540984 (7)\ttotal: 2.19s\tremaining: 7.44s\n",
      "37:\tlearn: 0.8923077\ttest: 0.7286822\tbest: 0.7540984 (7)\ttotal: 2.24s\tremaining: 7.36s\n",
      "38:\tlearn: 0.8905950\ttest: 0.7441860\tbest: 0.7540984 (7)\ttotal: 2.29s\tremaining: 7.27s\n",
      "39:\tlearn: 0.8905950\ttest: 0.7441860\tbest: 0.7540984 (7)\ttotal: 2.34s\tremaining: 7.18s\n",
      "40:\tlearn: 0.8961538\ttest: 0.7244094\tbest: 0.7540984 (7)\ttotal: 2.4s\tremaining: 7.14s\n",
      "41:\tlearn: 0.8923077\ttest: 0.7343750\tbest: 0.7540984 (7)\ttotal: 2.45s\tremaining: 7.07s\n",
      "42:\tlearn: 0.8901734\ttest: 0.7040000\tbest: 0.7540984 (7)\ttotal: 2.5s\tremaining: 6.99s\n",
      "43:\tlearn: 0.8901734\ttest: 0.7040000\tbest: 0.7540984 (7)\ttotal: 2.55s\tremaining: 6.91s\n",
      "44:\tlearn: 0.8961538\ttest: 0.7040000\tbest: 0.7540984 (7)\ttotal: 2.61s\tremaining: 6.83s\n",
      "45:\tlearn: 0.8940270\ttest: 0.7040000\tbest: 0.7540984 (7)\ttotal: 2.66s\tremaining: 6.76s\n",
      "46:\tlearn: 0.9003831\ttest: 0.7343750\tbest: 0.7540984 (7)\ttotal: 2.71s\tremaining: 6.68s\n",
      "47:\tlearn: 0.9003831\ttest: 0.7343750\tbest: 0.7540984 (7)\ttotal: 2.76s\tremaining: 6.62s\n",
      "48:\tlearn: 0.9038462\ttest: 0.7244094\tbest: 0.7540984 (7)\ttotal: 2.83s\tremaining: 6.6s\n",
      "49:\tlearn: 0.9021113\ttest: 0.7244094\tbest: 0.7540984 (7)\ttotal: 2.89s\tremaining: 6.53s\n",
      "50:\tlearn: 0.9045802\ttest: 0.7244094\tbest: 0.7540984 (7)\ttotal: 2.94s\tremaining: 6.47s\n",
      "51:\tlearn: 0.9042146\ttest: 0.7343750\tbest: 0.7540984 (7)\ttotal: 3.01s\tremaining: 6.43s\n",
      "52:\tlearn: 0.9042146\ttest: 0.7343750\tbest: 0.7540984 (7)\ttotal: 3.08s\tremaining: 6.38s\n",
      "53:\tlearn: 0.9042146\ttest: 0.7343750\tbest: 0.7540984 (7)\ttotal: 3.13s\tremaining: 6.32s\n",
      "54:\tlearn: 0.9080460\ttest: 0.7040000\tbest: 0.7540984 (7)\ttotal: 3.19s\tremaining: 6.26s\n",
      "55:\tlearn: 0.9080460\ttest: 0.7040000\tbest: 0.7540984 (7)\ttotal: 3.24s\tremaining: 6.18s\n",
      "56:\tlearn: 0.9080460\ttest: 0.7040000\tbest: 0.7540984 (7)\ttotal: 3.32s\tremaining: 6.18s\n",
      "57:\tlearn: 0.9059501\ttest: 0.7040000\tbest: 0.7540984 (7)\ttotal: 3.39s\tremaining: 6.13s\n",
      "58:\tlearn: 0.9055877\ttest: 0.7096774\tbest: 0.7540984 (7)\ttotal: 3.46s\tremaining: 6.09s\n",
      "59:\tlearn: 0.9055877\ttest: 0.7154472\tbest: 0.7540984 (7)\ttotal: 3.51s\tremaining: 6.03s\n",
      "60:\tlearn: 0.9076923\ttest: 0.7096774\tbest: 0.7540984 (7)\ttotal: 3.57s\tremaining: 5.96s\n",
      "61:\tlearn: 0.9115385\ttest: 0.7154472\tbest: 0.7540984 (7)\ttotal: 3.63s\tremaining: 5.91s\n",
      "62:\tlearn: 0.9115385\ttest: 0.7154472\tbest: 0.7540984 (7)\ttotal: 3.69s\tremaining: 5.85s\n",
      "63:\tlearn: 0.9136276\ttest: 0.7096774\tbest: 0.7540984 (7)\ttotal: 3.74s\tremaining: 5.79s\n",
      "64:\tlearn: 0.9136276\ttest: 0.7154472\tbest: 0.7540984 (7)\ttotal: 3.81s\tremaining: 5.74s\n",
      "65:\tlearn: 0.9174664\ttest: 0.7258065\tbest: 0.7540984 (7)\ttotal: 3.89s\tremaining: 5.72s\n",
      "66:\tlearn: 0.9177820\ttest: 0.7258065\tbest: 0.7540984 (7)\ttotal: 3.96s\tremaining: 5.67s\n",
      "67:\tlearn: 0.9239544\ttest: 0.7154472\tbest: 0.7540984 (7)\ttotal: 4.02s\tremaining: 5.62s\n",
      "68:\tlearn: 0.9219048\ttest: 0.7096774\tbest: 0.7540984 (7)\ttotal: 4.1s\tremaining: 5.59s\n",
      "69:\tlearn: 0.9198473\ttest: 0.7213115\tbest: 0.7540984 (7)\ttotal: 4.16s\tremaining: 5.53s\n",
      "70:\tlearn: 0.9239544\ttest: 0.7154472\tbest: 0.7540984 (7)\ttotal: 4.22s\tremaining: 5.46s\n",
      "71:\tlearn: 0.9259962\ttest: 0.7272727\tbest: 0.7540984 (7)\ttotal: 4.27s\tremaining: 5.4s\n",
      "72:\tlearn: 0.9239544\ttest: 0.7213115\tbest: 0.7540984 (7)\ttotal: 4.33s\tremaining: 5.34s\n",
      "73:\tlearn: 0.9259962\ttest: 0.7107438\tbest: 0.7540984 (7)\ttotal: 4.4s\tremaining: 5.29s\n",
      "74:\tlearn: 0.9259962\ttest: 0.7213115\tbest: 0.7540984 (7)\ttotal: 4.45s\tremaining: 5.22s\n",
      "75:\tlearn: 0.9280303\ttest: 0.7166667\tbest: 0.7540984 (7)\ttotal: 4.5s\tremaining: 5.15s\n",
      "76:\tlearn: 0.9259962\ttest: 0.7166667\tbest: 0.7540984 (7)\ttotal: 4.55s\tremaining: 5.08s\n",
      "77:\tlearn: 0.9303202\ttest: 0.7272727\tbest: 0.7540984 (7)\ttotal: 4.6s\tremaining: 5.01s\n",
      "78:\tlearn: 0.9303202\ttest: 0.7377049\tbest: 0.7540984 (7)\ttotal: 4.66s\tremaining: 4.96s\n",
      "79:\tlearn: 0.9323308\ttest: 0.7377049\tbest: 0.7540984 (7)\ttotal: 4.73s\tremaining: 4.91s\n",
      "80:\tlearn: 0.9363296\ttest: 0.7377049\tbest: 0.7540984 (7)\ttotal: 4.78s\tremaining: 4.84s\n",
      "81:\tlearn: 0.9343340\ttest: 0.7377049\tbest: 0.7540984 (7)\ttotal: 4.83s\tremaining: 4.77s\n",
      "82:\tlearn: 0.9360902\ttest: 0.7272727\tbest: 0.7540984 (7)\ttotal: 4.88s\tremaining: 4.71s\n",
      "83:\tlearn: 0.9380863\ttest: 0.7213115\tbest: 0.7540984 (7)\ttotal: 4.95s\tremaining: 4.65s\n",
      "84:\tlearn: 0.9380863\ttest: 0.7213115\tbest: 0.7540984 (7)\ttotal: 5.01s\tremaining: 4.6s\n",
      "85:\tlearn: 0.9360902\ttest: 0.7107438\tbest: 0.7540984 (7)\ttotal: 5.08s\tremaining: 4.55s\n",
      "86:\tlearn: 0.9340866\ttest: 0.7107438\tbest: 0.7540984 (7)\ttotal: 5.14s\tremaining: 4.49s\n",
      "87:\tlearn: 0.9360902\ttest: 0.7107438\tbest: 0.7540984 (7)\ttotal: 5.2s\tremaining: 4.43s\n",
      "88:\tlearn: 0.9360902\ttest: 0.7049180\tbest: 0.7540984 (7)\ttotal: 5.24s\tremaining: 4.36s\n",
      "89:\tlearn: 0.9360902\ttest: 0.6991870\tbest: 0.7540984 (7)\ttotal: 5.29s\tremaining: 4.29s\n",
      "90:\tlearn: 0.9380863\ttest: 0.6991870\tbest: 0.7540984 (7)\ttotal: 5.35s\tremaining: 4.23s\n",
      "91:\tlearn: 0.9400749\ttest: 0.6991870\tbest: 0.7540984 (7)\ttotal: 5.41s\tremaining: 4.18s\n",
      "92:\tlearn: 0.9418386\ttest: 0.6991870\tbest: 0.7540984 (7)\ttotal: 5.47s\tremaining: 4.11s\n",
      "93:\tlearn: 0.9418386\ttest: 0.7049180\tbest: 0.7540984 (7)\ttotal: 5.52s\tremaining: 4.05s\n",
      "94:\tlearn: 0.9418386\ttest: 0.6991870\tbest: 0.7540984 (7)\ttotal: 5.58s\tremaining: 3.99s\n",
      "95:\tlearn: 0.9418386\ttest: 0.6935484\tbest: 0.7540984 (7)\ttotal: 5.62s\tremaining: 3.92s\n",
      "96:\tlearn: 0.9418386\ttest: 0.6991870\tbest: 0.7540984 (7)\ttotal: 5.68s\tremaining: 3.87s\n",
      "97:\tlearn: 0.9418386\ttest: 0.6880000\tbest: 0.7540984 (7)\ttotal: 5.74s\tremaining: 3.81s\n",
      "98:\tlearn: 0.9416196\ttest: 0.6991870\tbest: 0.7540984 (7)\ttotal: 5.8s\tremaining: 3.75s\n",
      "99:\tlearn: 0.9416196\ttest: 0.6935484\tbest: 0.7540984 (7)\ttotal: 5.87s\tremaining: 3.69s\n",
      "100:\tlearn: 0.9453861\ttest: 0.6935484\tbest: 0.7540984 (7)\ttotal: 5.92s\tremaining: 3.63s\n",
      "101:\tlearn: 0.9453861\ttest: 0.6880000\tbest: 0.7540984 (7)\ttotal: 5.97s\tremaining: 3.57s\n",
      "102:\tlearn: 0.9493433\ttest: 0.6825397\tbest: 0.7540984 (7)\ttotal: 6.02s\tremaining: 3.5s\n",
      "103:\tlearn: 0.9495327\ttest: 0.6825397\tbest: 0.7540984 (7)\ttotal: 6.07s\tremaining: 3.44s\n",
      "104:\tlearn: 0.9495327\ttest: 0.6825397\tbest: 0.7540984 (7)\ttotal: 6.12s\tremaining: 3.38s\n",
      "105:\tlearn: 0.9495327\ttest: 0.6825397\tbest: 0.7540984 (7)\ttotal: 6.17s\tremaining: 3.32s\n",
      "106:\tlearn: 0.9495327\ttest: 0.6825397\tbest: 0.7540984 (7)\ttotal: 6.22s\tremaining: 3.26s\n",
      "107:\tlearn: 0.9513109\ttest: 0.6880000\tbest: 0.7540984 (7)\ttotal: 6.27s\tremaining: 3.19s\n",
      "108:\tlearn: 0.9513109\ttest: 0.6880000\tbest: 0.7540984 (7)\ttotal: 6.33s\tremaining: 3.14s\n",
      "109:\tlearn: 0.9513109\ttest: 0.6991870\tbest: 0.7540984 (7)\ttotal: 6.38s\tremaining: 3.08s\n",
      "110:\tlearn: 0.9532710\ttest: 0.6991870\tbest: 0.7540984 (7)\ttotal: 6.43s\tremaining: 3.01s\n",
      "111:\tlearn: 0.9532710\ttest: 0.6991870\tbest: 0.7540984 (7)\ttotal: 6.5s\tremaining: 2.96s\n",
      "112:\tlearn: 0.9532710\ttest: 0.6991870\tbest: 0.7540984 (7)\ttotal: 6.56s\tremaining: 2.9s\n",
      "113:\tlearn: 0.9532710\ttest: 0.6991870\tbest: 0.7540984 (7)\ttotal: 6.62s\tremaining: 2.85s\n",
      "114:\tlearn: 0.9532710\ttest: 0.6935484\tbest: 0.7540984 (7)\ttotal: 6.68s\tremaining: 2.79s\n",
      "115:\tlearn: 0.9532710\ttest: 0.6991870\tbest: 0.7540984 (7)\ttotal: 6.74s\tremaining: 2.73s\n",
      "116:\tlearn: 0.9552239\ttest: 0.6880000\tbest: 0.7540984 (7)\ttotal: 6.79s\tremaining: 2.67s\n",
      "117:\tlearn: 0.9532710\ttest: 0.6935484\tbest: 0.7540984 (7)\ttotal: 6.83s\tremaining: 2.61s\n",
      "118:\tlearn: 0.9532710\ttest: 0.6935484\tbest: 0.7540984 (7)\ttotal: 6.88s\tremaining: 2.54s\n",
      "119:\tlearn: 0.9532710\ttest: 0.6935484\tbest: 0.7540984 (7)\ttotal: 6.95s\tremaining: 2.49s\n",
      "120:\tlearn: 0.9532710\ttest: 0.6935484\tbest: 0.7540984 (7)\ttotal: 7.01s\tremaining: 2.43s\n",
      "121:\tlearn: 0.9532710\ttest: 0.6935484\tbest: 0.7540984 (7)\ttotal: 7.06s\tremaining: 2.37s\n",
      "122:\tlearn: 0.9532710\ttest: 0.6935484\tbest: 0.7540984 (7)\ttotal: 7.11s\tremaining: 2.31s\n",
      "123:\tlearn: 0.9552239\ttest: 0.6935484\tbest: 0.7540984 (7)\ttotal: 7.16s\tremaining: 2.25s\n",
      "124:\tlearn: 0.9552239\ttest: 0.6935484\tbest: 0.7540984 (7)\ttotal: 7.21s\tremaining: 2.19s\n",
      "125:\tlearn: 0.9552239\ttest: 0.6991870\tbest: 0.7540984 (7)\ttotal: 7.27s\tremaining: 2.13s\n",
      "126:\tlearn: 0.9552239\ttest: 0.6991870\tbest: 0.7540984 (7)\ttotal: 7.33s\tremaining: 2.08s\n",
      "127:\tlearn: 0.9552239\ttest: 0.6991870\tbest: 0.7540984 (7)\ttotal: 7.38s\tremaining: 2.02s\n",
      "128:\tlearn: 0.9552239\ttest: 0.6991870\tbest: 0.7540984 (7)\ttotal: 7.43s\tremaining: 1.96s\n",
      "129:\tlearn: 0.9552239\ttest: 0.6991870\tbest: 0.7540984 (7)\ttotal: 7.48s\tremaining: 1.9s\n",
      "130:\tlearn: 0.9571695\ttest: 0.6991870\tbest: 0.7540984 (7)\ttotal: 7.53s\tremaining: 1.84s\n",
      "131:\tlearn: 0.9571695\ttest: 0.6991870\tbest: 0.7540984 (7)\ttotal: 7.58s\tremaining: 1.78s\n",
      "132:\tlearn: 0.9571695\ttest: 0.6991870\tbest: 0.7540984 (7)\ttotal: 7.63s\tremaining: 1.72s\n",
      "133:\tlearn: 0.9591078\ttest: 0.6991870\tbest: 0.7540984 (7)\ttotal: 7.68s\tremaining: 1.66s\n",
      "134:\tlearn: 0.9591078\ttest: 0.6935484\tbest: 0.7540984 (7)\ttotal: 7.73s\tremaining: 1.6s\n",
      "135:\tlearn: 0.9552239\ttest: 0.6935484\tbest: 0.7540984 (7)\ttotal: 7.79s\tremaining: 1.55s\n",
      "136:\tlearn: 0.9571695\ttest: 0.6935484\tbest: 0.7540984 (7)\ttotal: 7.85s\tremaining: 1.49s\n",
      "137:\tlearn: 0.9571695\ttest: 0.6935484\tbest: 0.7540984 (7)\ttotal: 7.92s\tremaining: 1.43s\n",
      "138:\tlearn: 0.9571695\ttest: 0.6991870\tbest: 0.7540984 (7)\ttotal: 8s\tremaining: 1.38s\n",
      "139:\tlearn: 0.9552239\ttest: 0.6991870\tbest: 0.7540984 (7)\ttotal: 8.05s\tremaining: 1.32s\n",
      "140:\tlearn: 0.9571695\ttest: 0.6935484\tbest: 0.7540984 (7)\ttotal: 8.11s\tremaining: 1.26s\n",
      "141:\tlearn: 0.9571695\ttest: 0.6935484\tbest: 0.7540984 (7)\ttotal: 8.16s\tremaining: 1.21s\n",
      "142:\tlearn: 0.9571695\ttest: 0.7040000\tbest: 0.7540984 (7)\ttotal: 8.22s\tremaining: 1.15s\n",
      "143:\tlearn: 0.9591078\ttest: 0.7096774\tbest: 0.7540984 (7)\ttotal: 8.28s\tremaining: 1.09s\n",
      "144:\tlearn: 0.9571695\ttest: 0.7096774\tbest: 0.7540984 (7)\ttotal: 8.33s\tremaining: 1.03s\n",
      "145:\tlearn: 0.9571695\ttest: 0.7096774\tbest: 0.7540984 (7)\ttotal: 8.4s\tremaining: 978ms\n",
      "146:\tlearn: 0.9571695\ttest: 0.7096774\tbest: 0.7540984 (7)\ttotal: 8.45s\tremaining: 920ms\n",
      "147:\tlearn: 0.9571695\ttest: 0.7096774\tbest: 0.7540984 (7)\ttotal: 8.5s\tremaining: 862ms\n",
      "148:\tlearn: 0.9591078\ttest: 0.7154472\tbest: 0.7540984 (7)\ttotal: 8.57s\tremaining: 805ms\n",
      "149:\tlearn: 0.9610390\ttest: 0.7154472\tbest: 0.7540984 (7)\ttotal: 8.64s\tremaining: 749ms\n",
      "150:\tlearn: 0.9628253\ttest: 0.7154472\tbest: 0.7540984 (7)\ttotal: 8.69s\tremaining: 690ms\n",
      "151:\tlearn: 0.9628253\ttest: 0.7154472\tbest: 0.7540984 (7)\ttotal: 8.76s\tremaining: 634ms\n",
      "152:\tlearn: 0.9628253\ttest: 0.7154472\tbest: 0.7540984 (7)\ttotal: 8.81s\tremaining: 576ms\n",
      "153:\tlearn: 0.9628253\ttest: 0.7154472\tbest: 0.7540984 (7)\ttotal: 8.87s\tremaining: 518ms\n",
      "154:\tlearn: 0.9628253\ttest: 0.7154472\tbest: 0.7540984 (7)\ttotal: 8.93s\tremaining: 461ms\n",
      "155:\tlearn: 0.9628253\ttest: 0.7154472\tbest: 0.7540984 (7)\ttotal: 8.98s\tremaining: 403ms\n",
      "156:\tlearn: 0.9628253\ttest: 0.7154472\tbest: 0.7540984 (7)\ttotal: 9.04s\tremaining: 346ms\n",
      "157:\tlearn: 0.9628253\ttest: 0.7154472\tbest: 0.7540984 (7)\ttotal: 9.1s\tremaining: 288ms\n",
      "158:\tlearn: 0.9628253\ttest: 0.7154472\tbest: 0.7540984 (7)\ttotal: 9.16s\tremaining: 230ms\n",
      "159:\tlearn: 0.9628253\ttest: 0.7258065\tbest: 0.7540984 (7)\ttotal: 9.22s\tremaining: 173ms\n",
      "160:\tlearn: 0.9628253\ttest: 0.7258065\tbest: 0.7540984 (7)\ttotal: 9.27s\tremaining: 115ms\n",
      "161:\tlearn: 0.9666667\ttest: 0.7258065\tbest: 0.7540984 (7)\ttotal: 9.33s\tremaining: 57.6ms\n",
      "162:\tlearn: 0.9666667\ttest: 0.7258065\tbest: 0.7540984 (7)\ttotal: 9.38s\tremaining: 0us\n",
      "\n",
      "bestTest = 0.7540983607\n",
      "bestIteration = 7\n",
      "\n"
     ]
    }
   ],
   "source": [
    "params[\"eval_metric\"] = \"F1\"\n",
    "params[\"loss_function\"] = \"Logloss\"\n",
    "\n",
    "model = CatBoostClassifier(\n",
    "    **params,\n",
    "    verbose=True\n",
    ")\n",
    "\n",
    "data = Pool(X_train, y_train, cat_features=categorical_indices)\n",
    "\n",
    "cv_results = cv(\n",
    "    params=params,\n",
    "    pool=data,\n",
    "    fold_count=5,\n",
    "    partition_random_seed=42,\n",
    "    shuffle=True,\n",
    ")\n",
    "\n",
    "cv_results.to_csv(outfolder / \"cv_results_v2.csv\", index=False)"
   ]
  },
  {
   "cell_type": "markdown",
   "id": "9c2f4247-6cbf-4528-ba59-bf4f375dad64",
   "metadata": {
    "editable": false,
    "slideshow": {
     "slide_type": "slide"
    },
    "tags": []
   },
   "source": [
    "And get the performance plots:"
   ]
  },
  {
   "cell_type": "code",
   "execution_count": 13,
   "id": "d9ccf0db-b9f1-4d33-a3a2-8136c6df261d",
   "metadata": {
    "editable": true,
    "slideshow": {
     "slide_type": "subslide"
    },
    "tags": []
   },
   "outputs": [
    {
     "data": {
      "application/vnd.plotly.v1+json": {
       "config": {
        "plotlyServerURL": "https://plot.ly"
       },
       "data": [
        {
         "line": {
          "color": "blue"
         },
         "mode": "lines",
         "name": "Mean F1 Score",
         "type": "scatter",
         "x": [
          0,
          1,
          2,
          3,
          4,
          5,
          6,
          7,
          8,
          9,
          10,
          11,
          12,
          13,
          14,
          15,
          16,
          17,
          18,
          19,
          20,
          21,
          22,
          23,
          24,
          25,
          26,
          27,
          28,
          29,
          30,
          31,
          32,
          33,
          34,
          35,
          36,
          37,
          38,
          39,
          40,
          41,
          42,
          43,
          44,
          45,
          46,
          47,
          48,
          49,
          50,
          51,
          52,
          53,
          54,
          55,
          56,
          57,
          58,
          59,
          60,
          61,
          62,
          63,
          64,
          65,
          66,
          67,
          68,
          69,
          70,
          71,
          72,
          73,
          74,
          75,
          76,
          77,
          78,
          79,
          80,
          81,
          82,
          83,
          84,
          85,
          86,
          87,
          88,
          89,
          90,
          91,
          92,
          93,
          94,
          95,
          96,
          97,
          98,
          99,
          100,
          101,
          102,
          103,
          104,
          105,
          106,
          107,
          108,
          109,
          110,
          111,
          112,
          113,
          114,
          115,
          116,
          117,
          118,
          119,
          120,
          121,
          122,
          123,
          124,
          125,
          126,
          127,
          128,
          129,
          130,
          131,
          132,
          133,
          134,
          135,
          136,
          137,
          138,
          139,
          140,
          141,
          142,
          143,
          144,
          145,
          146,
          147,
          148,
          149,
          150,
          151,
          152,
          153,
          154,
          155,
          156,
          157,
          158,
          159,
          160,
          161,
          162
         ],
         "y": [
          0.7424051695759711,
          0.7388356856600097,
          0.7424329683157375,
          0.7420843541090482,
          0.7401526479466111,
          0.7394885519621573,
          0.7419081830885689,
          0.7411536860488337,
          0.7371441359348768,
          0.7375206064541754,
          0.7387081666064415,
          0.7460517616841218,
          0.7472562434768389,
          0.7482489905539178,
          0.7490639393467317,
          0.7487790342859242,
          0.7375303274373218,
          0.743001241917931,
          0.7429971511625564,
          0.7430783447151074,
          0.746380642476732,
          0.747310050653159,
          0.7366522677661895,
          0.7429814455493572,
          0.7379677673355346,
          0.7444531480229515,
          0.7444531480229515,
          0.7450902457757296,
          0.7429100132175901,
          0.7425851140889483,
          0.7414676013814829,
          0.7437230338710722,
          0.7439898882323002,
          0.7507186917930804,
          0.7526559133031825,
          0.7494092294293186,
          0.7513651030130992,
          0.7526559133031825,
          0.7568915807154757,
          0.7587143193803196,
          0.7529739146979098,
          0.7549670249341303,
          0.7492403567057178,
          0.7499153826181308,
          0.7487588865551386,
          0.7431022756404921,
          0.7533633131384893,
          0.7475953644998921,
          0.752577767267728,
          0.7409938490513113,
          0.7405528854347752,
          0.7462684968655233,
          0.7481385756056808,
          0.7502383131384892,
          0.7453708775039484,
          0.7422932343983317,
          0.7422932343983317,
          0.7465980330716299,
          0.7476746153431701,
          0.7487584380578871,
          0.7470645883485796,
          0.7452943521541514,
          0.7452943521541514,
          0.7483195096084222,
          0.7484317899650967,
          0.751545316060035,
          0.7505036493933684,
          0.7472156484504479,
          0.7471033680937732,
          0.7494301793047727,
          0.7472156484504479,
          0.7517929322606725,
          0.7517907125824111,
          0.7477332801932273,
          0.7434130526577248,
          0.7451203613752826,
          0.7471794699024145,
          0.7492163266523504,
          0.7492112293712914,
          0.7493280116485067,
          0.7494030022746785,
          0.7484105314016327,
          0.7443493400937653,
          0.7412573271915032,
          0.7412573271915032,
          0.7383018198240962,
          0.7371081690304454,
          0.7377088919969793,
          0.7365437382237779,
          0.7345569456883498,
          0.7374772717533611,
          0.7353939384200276,
          0.7353939384200276,
          0.7343478515995987,
          0.7352525498435998,
          0.7328893637726918,
          0.7322193352454245,
          0.730829805088495,
          0.7306770371169928,
          0.7276888510460848,
          0.7265569612823054,
          0.7287945015705773,
          0.7295579871096354,
          0.731551097345856,
          0.729395089593918,
          0.7345520629241559,
          0.7356906288156289,
          0.7370130200011834,
          0.7370130200011834,
          0.7412126276774929,
          0.7391456869845979,
          0.7391456869845979,
          0.73800078537458,
          0.7377812002375441,
          0.7378748533287167,
          0.7401474758933635,
          0.7390728682170542,
          0.7390197549387347,
          0.7402891758675587,
          0.7392791934835306,
          0.737413883406011,
          0.7372122527906356,
          0.7372122527906356,
          0.7390488657900394,
          0.7390488657900394,
          0.7383399737452645,
          0.7411783756534338,
          0.7432535098215912,
          0.7462369360712313,
          0.7462369360712313,
          0.7443764709549523,
          0.7443764709549523,
          0.7423013367867949,
          0.7443764709549523,
          0.7420738968569663,
          0.7432487500003233,
          0.7442743910259646,
          0.7461348561422435,
          0.74181291479321,
          0.7428545814598766,
          0.7417268605052477,
          0.7417268605052477,
          0.7438171830858928,
          0.743911000290194,
          0.743911000290194,
          0.7451558622984147,
          0.743911000290194,
          0.743911000290194,
          0.7461066139802017,
          0.7461066139802017,
          0.7450649473135351,
          0.7440393062878942,
          0.7468923819653973,
          0.7492608859024051,
          0.7474288248337029,
          0.7482352448767642,
          0.7464031838080618,
          0.7503025525690719,
          0.7491089017754211,
          0.7493533265518306,
          0.7463053106788148,
          0.7463053106788148,
          0.7463053106788148
         ]
        },
        {
         "fill": "toself",
         "fillcolor": "rgba(0, 0, 255, 0.2)",
         "line": {
          "color": "rgba(255, 255, 255, 0)"
         },
         "showlegend": false,
         "type": "scatter",
         "x": [
          0,
          1,
          2,
          3,
          4,
          5,
          6,
          7,
          8,
          9,
          10,
          11,
          12,
          13,
          14,
          15,
          16,
          17,
          18,
          19,
          20,
          21,
          22,
          23,
          24,
          25,
          26,
          27,
          28,
          29,
          30,
          31,
          32,
          33,
          34,
          35,
          36,
          37,
          38,
          39,
          40,
          41,
          42,
          43,
          44,
          45,
          46,
          47,
          48,
          49,
          50,
          51,
          52,
          53,
          54,
          55,
          56,
          57,
          58,
          59,
          60,
          61,
          62,
          63,
          64,
          65,
          66,
          67,
          68,
          69,
          70,
          71,
          72,
          73,
          74,
          75,
          76,
          77,
          78,
          79,
          80,
          81,
          82,
          83,
          84,
          85,
          86,
          87,
          88,
          89,
          90,
          91,
          92,
          93,
          94,
          95,
          96,
          97,
          98,
          99,
          100,
          101,
          102,
          103,
          104,
          105,
          106,
          107,
          108,
          109,
          110,
          111,
          112,
          113,
          114,
          115,
          116,
          117,
          118,
          119,
          120,
          121,
          122,
          123,
          124,
          125,
          126,
          127,
          128,
          129,
          130,
          131,
          132,
          133,
          134,
          135,
          136,
          137,
          138,
          139,
          140,
          141,
          142,
          143,
          144,
          145,
          146,
          147,
          148,
          149,
          150,
          151,
          152,
          153,
          154,
          155,
          156,
          157,
          158,
          159,
          160,
          161,
          162,
          162,
          161,
          160,
          159,
          158,
          157,
          156,
          155,
          154,
          153,
          152,
          151,
          150,
          149,
          148,
          147,
          146,
          145,
          144,
          143,
          142,
          141,
          140,
          139,
          138,
          137,
          136,
          135,
          134,
          133,
          132,
          131,
          130,
          129,
          128,
          127,
          126,
          125,
          124,
          123,
          122,
          121,
          120,
          119,
          118,
          117,
          116,
          115,
          114,
          113,
          112,
          111,
          110,
          109,
          108,
          107,
          106,
          105,
          104,
          103,
          102,
          101,
          100,
          99,
          98,
          97,
          96,
          95,
          94,
          93,
          92,
          91,
          90,
          89,
          88,
          87,
          86,
          85,
          84,
          83,
          82,
          81,
          80,
          79,
          78,
          77,
          76,
          75,
          74,
          73,
          72,
          71,
          70,
          69,
          68,
          67,
          66,
          65,
          64,
          63,
          62,
          61,
          60,
          59,
          58,
          57,
          56,
          55,
          54,
          53,
          52,
          51,
          50,
          49,
          48,
          47,
          46,
          45,
          44,
          43,
          42,
          41,
          40,
          39,
          38,
          37,
          36,
          35,
          34,
          33,
          32,
          31,
          30,
          29,
          28,
          27,
          26,
          25,
          24,
          23,
          22,
          21,
          20,
          19,
          18,
          17,
          16,
          15,
          14,
          13,
          12,
          11,
          10,
          9,
          8,
          7,
          6,
          5,
          4,
          3,
          2,
          1,
          0
         ],
         "y": [
          0.7896120214309137,
          0.8006456536145292,
          0.7981310653116855,
          0.8028288921062953,
          0.8034127011452292,
          0.8018785673707031,
          0.8073093815700643,
          0.8023559651607391,
          0.7964199351641023,
          0.7954084539573423,
          0.7944897001803634,
          0.7905085171349397,
          0.7907898219806135,
          0.7964896955682587,
          0.7958832610464662,
          0.7975177059962493,
          0.7885433817444096,
          0.8000379472491705,
          0.8004063570649212,
          0.7996828486366959,
          0.7986894821289056,
          0.8029937505903565,
          0.7810760306126361,
          0.791342047422829,
          0.7883988237719787,
          0.797251422963416,
          0.797251422963416,
          0.800838067431375,
          0.8007337283440088,
          0.8089593804530261,
          0.8102095895182546,
          0.8124578243715425,
          0.8083267272155211,
          0.8184348483810095,
          0.8205776176933266,
          0.8179727514181977,
          0.8193263786598477,
          0.8205776176933266,
          0.8165171562386968,
          0.8196489161969653,
          0.8127384271949375,
          0.8136980139666414,
          0.8167067750411698,
          0.8147379501810976,
          0.8138500927212996,
          0.8062684458793146,
          0.8129408923146412,
          0.8061936510871547,
          0.8142947466018035,
          0.7969410871885451,
          0.7927231624912062,
          0.8022725467626552,
          0.8066182298541771,
          0.8051404113396062,
          0.805424771554946,
          0.7983083313764373,
          0.7983083313764373,
          0.8076293693425843,
          0.8064500823556308,
          0.8065504968574975,
          0.808517382521719,
          0.801658302957455,
          0.801658302957455,
          0.8110936317439443,
          0.8120185474493148,
          0.8122164771342409,
          0.8129046903680253,
          0.8091055130892566,
          0.8081552202813291,
          0.8089002651868297,
          0.8091055130892566,
          0.8097526459991906,
          0.8069899616143787,
          0.8040514026081786,
          0.7954716981041757,
          0.798437813093871,
          0.7970482971088448,
          0.8014454663200646,
          0.8046402543255424,
          0.8006306847863215,
          0.7984641173797716,
          0.8002810008572475,
          0.7966976842086357,
          0.7915710637057408,
          0.7915710637057408,
          0.7938221773610628,
          0.7923237194037068,
          0.7933405178718391,
          0.7929371057943906,
          0.7880570298960694,
          0.7917330791482979,
          0.7931364639951348,
          0.7931364639951348,
          0.7928495931020075,
          0.7910535402715371,
          0.7879857045841442,
          0.7896663781792036,
          0.7943653219011468,
          0.7907981499404736,
          0.7859925043845268,
          0.7849949768999377,
          0.7877311169864314,
          0.7917841097004054,
          0.7937306660467409,
          0.7931019065510819,
          0.7990454623385652,
          0.8001046962337179,
          0.8034356027498363,
          0.8034356027498363,
          0.8056965014506613,
          0.8070966274302968,
          0.8070966274302968,
          0.8058937711433183,
          0.8026322171946084,
          0.8049796836200058,
          0.8064004209272915,
          0.8074000172202725,
          0.8061859033230858,
          0.8041174950515656,
          0.8046855902459326,
          0.800527402393673,
          0.8059666441672626,
          0.8059666441672626,
          0.8101881564252718,
          0.8101881564252718,
          0.8062400729025578,
          0.8097962916449667,
          0.8085448818708858,
          0.8140451201027562,
          0.8140451201027562,
          0.8104460987080903,
          0.8104460987080903,
          0.8117021766947042,
          0.8104460987080903,
          0.8091386764426906,
          0.8103230169767738,
          0.809808377840723,
          0.8134247686731663,
          0.8024649720170524,
          0.801917294216829,
          0.8018756339799799,
          0.8018756339799799,
          0.802023289430533,
          0.8028779383364012,
          0.8028779383364012,
          0.8058840612010003,
          0.8028779383364012,
          0.8028779383364012,
          0.8025535940783401,
          0.8025535940783401,
          0.8032456864302047,
          0.8039665900087273,
          0.8070984595051409,
          0.8093686368546216,
          0.8053544277856027,
          0.8101220889667925,
          0.8061335582564704,
          0.8086401730138828,
          0.8074641635053283,
          0.8044193053518193,
          0.8034981143160153,
          0.8034981143160153,
          0.8034981143160153,
          0.6951983177210286,
          0.6770257177054901,
          0.6867348713197894,
          0.681339816111801,
          0.6768925947479929,
          0.6770985365536116,
          0.6765069846070735,
          0.6799514069369282,
          0.6778683367056514,
          0.6796327589510085,
          0.6829266330325195,
          0.7015950062333038,
          0.7037226649730643,
          0.700008285539577,
          0.7022446176469971,
          0.7000403625755991,
          0.686517273130234,
          0.6859645365866915,
          0.6855879452601915,
          0.6864738407935188,
          0.6940718028245584,
          0.6916263507159616,
          0.692228504919743,
          0.6946208436758854,
          0.6875367108990905,
          0.691654873082487,
          0.691654873082487,
          0.6893424241200842,
          0.6850862980911714,
          0.6762108477248706,
          0.6727256132447113,
          0.6749882433706019,
          0.6796530492490792,
          0.6830025352051512,
          0.6847342089130384,
          0.6808457074404396,
          0.6834038273663507,
          0.6847342089130384,
          0.6972660051922546,
          0.6977797225636739,
          0.693209402200882,
          0.6962360359016191,
          0.6817739383702657,
          0.6850928150551641,
          0.6836676803889775,
          0.6799361054016697,
          0.6937857339623373,
          0.6889970779126294,
          0.6908607879336525,
          0.6850466109140775,
          0.6883826083783441,
          0.6902644469683914,
          0.6896589213571844,
          0.6953362149373722,
          0.6853169834529508,
          0.6862781374202261,
          0.6862781374202261,
          0.6855666968006754,
          0.6888991483307095,
          0.6909663792582768,
          0.6856117941754402,
          0.6889304013508478,
          0.6889304013508478,
          0.6855453874729001,
          0.6848450324808787,
          0.6908741549858292,
          0.6881026084187116,
          0.6853257838116391,
          0.6860515159062173,
          0.6899600934227158,
          0.6853257838116391,
          0.6938332185221543,
          0.6965914635504435,
          0.6914151577782759,
          0.691354407211274,
          0.6918029096566942,
          0.6973106426959841,
          0.6969871869846361,
          0.6937822044170403,
          0.6980253385106919,
          0.7003418871695853,
          0.6965400619460179,
          0.6920009959788949,
          0.6909435906772655,
          0.6909435906772655,
          0.6827814622871295,
          0.681892618657184,
          0.6820772661221195,
          0.6801503706531653,
          0.6810568614806303,
          0.6832214643584242,
          0.6776514128449205,
          0.6776514128449205,
          0.6758461100971899,
          0.6794515594156625,
          0.6777930229612393,
          0.6747722923116454,
          0.6672942882758433,
          0.6705559242935121,
          0.6693851977076428,
          0.6681189456646731,
          0.6698578861547233,
          0.6673318645188654,
          0.6693715286449711,
          0.665688272636754,
          0.6700586635097465,
          0.6712765613975398,
          0.6705904372525305,
          0.6705904372525305,
          0.6767287539043244,
          0.6711947465388991,
          0.6711947465388991,
          0.6701077996058418,
          0.6729301832804798,
          0.6707700230374276,
          0.6738945308594355,
          0.6707457192138359,
          0.6718536065543836,
          0.6764608566835518,
          0.6738727967211285,
          0.674300364418349,
          0.6684578614140086,
          0.6684578614140086,
          0.667909575154807,
          0.667909575154807,
          0.6704398745879712,
          0.6725604596619009,
          0.6779621377722966,
          0.6784287520397064,
          0.6784287520397064,
          0.6783068432018143,
          0.6783068432018143,
          0.6729004968788855,
          0.6783068432018143,
          0.6750091172712421,
          0.6761744830238728,
          0.6787404042112062,
          0.6788449436113208,
          0.6811608575693676,
          0.6837918687029242,
          0.6815780870305156,
          0.6815780870305156,
          0.6856110767412527,
          0.6849440622439867,
          0.6849440622439867,
          0.6844276633958291,
          0.6849440622439867,
          0.6849440622439867,
          0.6896596338820633,
          0.6896596338820633,
          0.6868842081968656,
          0.684112022567061,
          0.6866863044256537,
          0.6891531349501887,
          0.689503221881803,
          0.6863484007867359,
          0.6866728093596532,
          0.6919649321242609,
          0.6907536400455139,
          0.694287347751842,
          0.6891125070416143,
          0.6891125070416143,
          0.6891125070416143
         ]
        }
       ],
       "layout": {
        "template": {
         "data": {
          "bar": [
           {
            "error_x": {
             "color": "#2a3f5f"
            },
            "error_y": {
             "color": "#2a3f5f"
            },
            "marker": {
             "line": {
              "color": "white",
              "width": 0.5
             },
             "pattern": {
              "fillmode": "overlay",
              "size": 10,
              "solidity": 0.2
             }
            },
            "type": "bar"
           }
          ],
          "barpolar": [
           {
            "marker": {
             "line": {
              "color": "white",
              "width": 0.5
             },
             "pattern": {
              "fillmode": "overlay",
              "size": 10,
              "solidity": 0.2
             }
            },
            "type": "barpolar"
           }
          ],
          "carpet": [
           {
            "aaxis": {
             "endlinecolor": "#2a3f5f",
             "gridcolor": "#C8D4E3",
             "linecolor": "#C8D4E3",
             "minorgridcolor": "#C8D4E3",
             "startlinecolor": "#2a3f5f"
            },
            "baxis": {
             "endlinecolor": "#2a3f5f",
             "gridcolor": "#C8D4E3",
             "linecolor": "#C8D4E3",
             "minorgridcolor": "#C8D4E3",
             "startlinecolor": "#2a3f5f"
            },
            "type": "carpet"
           }
          ],
          "choropleth": [
           {
            "colorbar": {
             "outlinewidth": 0,
             "ticks": ""
            },
            "type": "choropleth"
           }
          ],
          "contour": [
           {
            "colorbar": {
             "outlinewidth": 0,
             "ticks": ""
            },
            "colorscale": [
             [
              0,
              "#0d0887"
             ],
             [
              0.1111111111111111,
              "#46039f"
             ],
             [
              0.2222222222222222,
              "#7201a8"
             ],
             [
              0.3333333333333333,
              "#9c179e"
             ],
             [
              0.4444444444444444,
              "#bd3786"
             ],
             [
              0.5555555555555556,
              "#d8576b"
             ],
             [
              0.6666666666666666,
              "#ed7953"
             ],
             [
              0.7777777777777778,
              "#fb9f3a"
             ],
             [
              0.8888888888888888,
              "#fdca26"
             ],
             [
              1,
              "#f0f921"
             ]
            ],
            "type": "contour"
           }
          ],
          "contourcarpet": [
           {
            "colorbar": {
             "outlinewidth": 0,
             "ticks": ""
            },
            "type": "contourcarpet"
           }
          ],
          "heatmap": [
           {
            "colorbar": {
             "outlinewidth": 0,
             "ticks": ""
            },
            "colorscale": [
             [
              0,
              "#0d0887"
             ],
             [
              0.1111111111111111,
              "#46039f"
             ],
             [
              0.2222222222222222,
              "#7201a8"
             ],
             [
              0.3333333333333333,
              "#9c179e"
             ],
             [
              0.4444444444444444,
              "#bd3786"
             ],
             [
              0.5555555555555556,
              "#d8576b"
             ],
             [
              0.6666666666666666,
              "#ed7953"
             ],
             [
              0.7777777777777778,
              "#fb9f3a"
             ],
             [
              0.8888888888888888,
              "#fdca26"
             ],
             [
              1,
              "#f0f921"
             ]
            ],
            "type": "heatmap"
           }
          ],
          "heatmapgl": [
           {
            "colorbar": {
             "outlinewidth": 0,
             "ticks": ""
            },
            "colorscale": [
             [
              0,
              "#0d0887"
             ],
             [
              0.1111111111111111,
              "#46039f"
             ],
             [
              0.2222222222222222,
              "#7201a8"
             ],
             [
              0.3333333333333333,
              "#9c179e"
             ],
             [
              0.4444444444444444,
              "#bd3786"
             ],
             [
              0.5555555555555556,
              "#d8576b"
             ],
             [
              0.6666666666666666,
              "#ed7953"
             ],
             [
              0.7777777777777778,
              "#fb9f3a"
             ],
             [
              0.8888888888888888,
              "#fdca26"
             ],
             [
              1,
              "#f0f921"
             ]
            ],
            "type": "heatmapgl"
           }
          ],
          "histogram": [
           {
            "marker": {
             "pattern": {
              "fillmode": "overlay",
              "size": 10,
              "solidity": 0.2
             }
            },
            "type": "histogram"
           }
          ],
          "histogram2d": [
           {
            "colorbar": {
             "outlinewidth": 0,
             "ticks": ""
            },
            "colorscale": [
             [
              0,
              "#0d0887"
             ],
             [
              0.1111111111111111,
              "#46039f"
             ],
             [
              0.2222222222222222,
              "#7201a8"
             ],
             [
              0.3333333333333333,
              "#9c179e"
             ],
             [
              0.4444444444444444,
              "#bd3786"
             ],
             [
              0.5555555555555556,
              "#d8576b"
             ],
             [
              0.6666666666666666,
              "#ed7953"
             ],
             [
              0.7777777777777778,
              "#fb9f3a"
             ],
             [
              0.8888888888888888,
              "#fdca26"
             ],
             [
              1,
              "#f0f921"
             ]
            ],
            "type": "histogram2d"
           }
          ],
          "histogram2dcontour": [
           {
            "colorbar": {
             "outlinewidth": 0,
             "ticks": ""
            },
            "colorscale": [
             [
              0,
              "#0d0887"
             ],
             [
              0.1111111111111111,
              "#46039f"
             ],
             [
              0.2222222222222222,
              "#7201a8"
             ],
             [
              0.3333333333333333,
              "#9c179e"
             ],
             [
              0.4444444444444444,
              "#bd3786"
             ],
             [
              0.5555555555555556,
              "#d8576b"
             ],
             [
              0.6666666666666666,
              "#ed7953"
             ],
             [
              0.7777777777777778,
              "#fb9f3a"
             ],
             [
              0.8888888888888888,
              "#fdca26"
             ],
             [
              1,
              "#f0f921"
             ]
            ],
            "type": "histogram2dcontour"
           }
          ],
          "mesh3d": [
           {
            "colorbar": {
             "outlinewidth": 0,
             "ticks": ""
            },
            "type": "mesh3d"
           }
          ],
          "parcoords": [
           {
            "line": {
             "colorbar": {
              "outlinewidth": 0,
              "ticks": ""
             }
            },
            "type": "parcoords"
           }
          ],
          "pie": [
           {
            "automargin": true,
            "type": "pie"
           }
          ],
          "scatter": [
           {
            "fillpattern": {
             "fillmode": "overlay",
             "size": 10,
             "solidity": 0.2
            },
            "type": "scatter"
           }
          ],
          "scatter3d": [
           {
            "line": {
             "colorbar": {
              "outlinewidth": 0,
              "ticks": ""
             }
            },
            "marker": {
             "colorbar": {
              "outlinewidth": 0,
              "ticks": ""
             }
            },
            "type": "scatter3d"
           }
          ],
          "scattercarpet": [
           {
            "marker": {
             "colorbar": {
              "outlinewidth": 0,
              "ticks": ""
             }
            },
            "type": "scattercarpet"
           }
          ],
          "scattergeo": [
           {
            "marker": {
             "colorbar": {
              "outlinewidth": 0,
              "ticks": ""
             }
            },
            "type": "scattergeo"
           }
          ],
          "scattergl": [
           {
            "marker": {
             "colorbar": {
              "outlinewidth": 0,
              "ticks": ""
             }
            },
            "type": "scattergl"
           }
          ],
          "scattermapbox": [
           {
            "marker": {
             "colorbar": {
              "outlinewidth": 0,
              "ticks": ""
             }
            },
            "type": "scattermapbox"
           }
          ],
          "scatterpolar": [
           {
            "marker": {
             "colorbar": {
              "outlinewidth": 0,
              "ticks": ""
             }
            },
            "type": "scatterpolar"
           }
          ],
          "scatterpolargl": [
           {
            "marker": {
             "colorbar": {
              "outlinewidth": 0,
              "ticks": ""
             }
            },
            "type": "scatterpolargl"
           }
          ],
          "scatterternary": [
           {
            "marker": {
             "colorbar": {
              "outlinewidth": 0,
              "ticks": ""
             }
            },
            "type": "scatterternary"
           }
          ],
          "surface": [
           {
            "colorbar": {
             "outlinewidth": 0,
             "ticks": ""
            },
            "colorscale": [
             [
              0,
              "#0d0887"
             ],
             [
              0.1111111111111111,
              "#46039f"
             ],
             [
              0.2222222222222222,
              "#7201a8"
             ],
             [
              0.3333333333333333,
              "#9c179e"
             ],
             [
              0.4444444444444444,
              "#bd3786"
             ],
             [
              0.5555555555555556,
              "#d8576b"
             ],
             [
              0.6666666666666666,
              "#ed7953"
             ],
             [
              0.7777777777777778,
              "#fb9f3a"
             ],
             [
              0.8888888888888888,
              "#fdca26"
             ],
             [
              1,
              "#f0f921"
             ]
            ],
            "type": "surface"
           }
          ],
          "table": [
           {
            "cells": {
             "fill": {
              "color": "#EBF0F8"
             },
             "line": {
              "color": "white"
             }
            },
            "header": {
             "fill": {
              "color": "#C8D4E3"
             },
             "line": {
              "color": "white"
             }
            },
            "type": "table"
           }
          ]
         },
         "layout": {
          "annotationdefaults": {
           "arrowcolor": "#2a3f5f",
           "arrowhead": 0,
           "arrowwidth": 1
          },
          "autotypenumbers": "strict",
          "coloraxis": {
           "colorbar": {
            "outlinewidth": 0,
            "ticks": ""
           }
          },
          "colorscale": {
           "diverging": [
            [
             0,
             "#8e0152"
            ],
            [
             0.1,
             "#c51b7d"
            ],
            [
             0.2,
             "#de77ae"
            ],
            [
             0.3,
             "#f1b6da"
            ],
            [
             0.4,
             "#fde0ef"
            ],
            [
             0.5,
             "#f7f7f7"
            ],
            [
             0.6,
             "#e6f5d0"
            ],
            [
             0.7,
             "#b8e186"
            ],
            [
             0.8,
             "#7fbc41"
            ],
            [
             0.9,
             "#4d9221"
            ],
            [
             1,
             "#276419"
            ]
           ],
           "sequential": [
            [
             0,
             "#0d0887"
            ],
            [
             0.1111111111111111,
             "#46039f"
            ],
            [
             0.2222222222222222,
             "#7201a8"
            ],
            [
             0.3333333333333333,
             "#9c179e"
            ],
            [
             0.4444444444444444,
             "#bd3786"
            ],
            [
             0.5555555555555556,
             "#d8576b"
            ],
            [
             0.6666666666666666,
             "#ed7953"
            ],
            [
             0.7777777777777778,
             "#fb9f3a"
            ],
            [
             0.8888888888888888,
             "#fdca26"
            ],
            [
             1,
             "#f0f921"
            ]
           ],
           "sequentialminus": [
            [
             0,
             "#0d0887"
            ],
            [
             0.1111111111111111,
             "#46039f"
            ],
            [
             0.2222222222222222,
             "#7201a8"
            ],
            [
             0.3333333333333333,
             "#9c179e"
            ],
            [
             0.4444444444444444,
             "#bd3786"
            ],
            [
             0.5555555555555556,
             "#d8576b"
            ],
            [
             0.6666666666666666,
             "#ed7953"
            ],
            [
             0.7777777777777778,
             "#fb9f3a"
            ],
            [
             0.8888888888888888,
             "#fdca26"
            ],
            [
             1,
             "#f0f921"
            ]
           ]
          },
          "colorway": [
           "#636efa",
           "#EF553B",
           "#00cc96",
           "#ab63fa",
           "#FFA15A",
           "#19d3f3",
           "#FF6692",
           "#B6E880",
           "#FF97FF",
           "#FECB52"
          ],
          "font": {
           "color": "#2a3f5f"
          },
          "geo": {
           "bgcolor": "white",
           "lakecolor": "white",
           "landcolor": "white",
           "showlakes": true,
           "showland": true,
           "subunitcolor": "#C8D4E3"
          },
          "hoverlabel": {
           "align": "left"
          },
          "hovermode": "closest",
          "mapbox": {
           "style": "light"
          },
          "paper_bgcolor": "white",
          "plot_bgcolor": "white",
          "polar": {
           "angularaxis": {
            "gridcolor": "#EBF0F8",
            "linecolor": "#EBF0F8",
            "ticks": ""
           },
           "bgcolor": "white",
           "radialaxis": {
            "gridcolor": "#EBF0F8",
            "linecolor": "#EBF0F8",
            "ticks": ""
           }
          },
          "scene": {
           "xaxis": {
            "backgroundcolor": "white",
            "gridcolor": "#DFE8F3",
            "gridwidth": 2,
            "linecolor": "#EBF0F8",
            "showbackground": true,
            "ticks": "",
            "zerolinecolor": "#EBF0F8"
           },
           "yaxis": {
            "backgroundcolor": "white",
            "gridcolor": "#DFE8F3",
            "gridwidth": 2,
            "linecolor": "#EBF0F8",
            "showbackground": true,
            "ticks": "",
            "zerolinecolor": "#EBF0F8"
           },
           "zaxis": {
            "backgroundcolor": "white",
            "gridcolor": "#DFE8F3",
            "gridwidth": 2,
            "linecolor": "#EBF0F8",
            "showbackground": true,
            "ticks": "",
            "zerolinecolor": "#EBF0F8"
           }
          },
          "shapedefaults": {
           "line": {
            "color": "#2a3f5f"
           }
          },
          "ternary": {
           "aaxis": {
            "gridcolor": "#DFE8F3",
            "linecolor": "#A2B1C6",
            "ticks": ""
           },
           "baxis": {
            "gridcolor": "#DFE8F3",
            "linecolor": "#A2B1C6",
            "ticks": ""
           },
           "bgcolor": "white",
           "caxis": {
            "gridcolor": "#DFE8F3",
            "linecolor": "#A2B1C6",
            "ticks": ""
           }
          },
          "title": {
           "x": 0.05
          },
          "xaxis": {
           "automargin": true,
           "gridcolor": "#EBF0F8",
           "linecolor": "#EBF0F8",
           "ticks": "",
           "title": {
            "standoff": 15
           },
           "zerolinecolor": "#EBF0F8",
           "zerolinewidth": 2
          },
          "yaxis": {
           "automargin": true,
           "gridcolor": "#EBF0F8",
           "linecolor": "#EBF0F8",
           "ticks": "",
           "title": {
            "standoff": 15
           },
           "zerolinecolor": "#EBF0F8",
           "zerolinewidth": 2
          }
         }
        },
        "title": {
         "text": "Cross-Validation (N=5) Mean F1 score with Error Bands"
        },
        "xaxis": {
         "title": {
          "text": "Training Steps"
         }
        },
        "yaxis": {
         "range": [
          0.5,
          1
         ],
         "title": {
          "text": "Performance Score"
         }
        }
       }
      }
     },
     "metadata": {},
     "output_type": "display_data"
    }
   ],
   "source": [
    "import plotly.graph_objects as go\n",
    "\n",
    "# Create figure\n",
    "fig = go.Figure()\n",
    "\n",
    "# Add mean performance line\n",
    "fig.add_trace(\n",
    "    go.Scatter(\n",
    "        x=cv_results[\"iterations\"], y=cv_results[\"test-F1-mean\"], mode=\"lines\", name=\"Mean F1 Score\", line=dict(color=\"blue\")\n",
    "    )\n",
    ")\n",
    "\n",
    "# Add shaded error region\n",
    "fig.add_trace(\n",
    "    go.Scatter(\n",
    "        x=pd.concat([cv_results[\"iterations\"], cv_results[\"iterations\"][::-1]]),\n",
    "        y=pd.concat([cv_results[\"test-F1-mean\"]+cv_results[\"test-F1-std\"], \n",
    "                     cv_results[\"test-F1-mean\"]-cv_results[\"test-F1-std\"]]),\n",
    "        fill=\"toself\", \n",
    "        fillcolor=\"rgba(0, 0, 255, 0.2)\",\n",
    "        line=dict(color=\"rgba(255, 255, 255, 0)\"),\n",
    "        showlegend=False\n",
    "    )\n",
    ")\n",
    "\n",
    "# Customize layout\n",
    "fig.update_layout(\n",
    "    title=\"Cross-Validation (N=5) Mean F1 score with Error Bands\",\n",
    "    xaxis_title=\"Training Steps\",\n",
    "    yaxis_title=\"Performance Score\",\n",
    "    template=\"plotly_white\",\n",
    "    yaxis=dict(range=[0.5, 1])\n",
    ")\n",
    "\n",
    "fig.show()\n",
    "\n",
    "fig.write_image(outfolder / \"test_f1_v2.png\")"
   ]
  },
  {
   "cell_type": "code",
   "execution_count": 14,
   "id": "a20450e7-7e20-4a96-b855-d10b14fcb10b",
   "metadata": {
    "editable": true,
    "slideshow": {
     "slide_type": "subslide"
    },
    "tags": []
   },
   "outputs": [
    {
     "data": {
      "application/vnd.plotly.v1+json": {
       "config": {
        "plotlyServerURL": "https://plot.ly"
       },
       "data": [
        {
         "line": {
          "color": "blue"
         },
         "mode": "lines",
         "name": "Mean logloss",
         "type": "scatter",
         "x": [
          0,
          1,
          2,
          3,
          4,
          5,
          6,
          7,
          8,
          9,
          10,
          11,
          12,
          13,
          14,
          15,
          16,
          17,
          18,
          19,
          20,
          21,
          22,
          23,
          24,
          25,
          26,
          27,
          28,
          29,
          30,
          31,
          32,
          33,
          34,
          35,
          36,
          37,
          38,
          39,
          40,
          41,
          42,
          43,
          44,
          45,
          46,
          47,
          48,
          49,
          50,
          51,
          52,
          53,
          54,
          55,
          56,
          57,
          58,
          59,
          60,
          61,
          62,
          63,
          64,
          65,
          66,
          67,
          68,
          69,
          70,
          71,
          72,
          73,
          74,
          75,
          76,
          77,
          78,
          79,
          80,
          81,
          82,
          83,
          84,
          85,
          86,
          87,
          88,
          89,
          90,
          91,
          92,
          93,
          94,
          95,
          96,
          97,
          98,
          99,
          100,
          101,
          102,
          103,
          104,
          105,
          106,
          107,
          108,
          109,
          110,
          111,
          112,
          113,
          114,
          115,
          116,
          117,
          118,
          119,
          120,
          121,
          122,
          123,
          124,
          125,
          126,
          127,
          128,
          129,
          130,
          131,
          132,
          133,
          134,
          135,
          136,
          137,
          138,
          139,
          140,
          141,
          142,
          143,
          144,
          145,
          146,
          147,
          148,
          149,
          150,
          151,
          152,
          153,
          154,
          155,
          156,
          157,
          158,
          159,
          160,
          161,
          162
         ],
         "y": [
          0.5874179505792505,
          0.5310484456648551,
          0.49464965440520964,
          0.4659344250273003,
          0.4500410774302471,
          0.4470019801172752,
          0.43914537486386285,
          0.4407749150771667,
          0.43824754796092985,
          0.4377942920018426,
          0.43644775175236716,
          0.4370772309523295,
          0.43607910253371907,
          0.43497633288861265,
          0.43346419292020516,
          0.4319610858082334,
          0.43564028965268553,
          0.4363525463554622,
          0.43554335759050816,
          0.4349715974389213,
          0.4360247116193259,
          0.43538004344227926,
          0.4348517875375741,
          0.43583459128636604,
          0.4376526709005663,
          0.4375793150694368,
          0.43748486525228464,
          0.4388657925663324,
          0.4400475853620671,
          0.4424448646716358,
          0.44366691510305467,
          0.44322770823651253,
          0.44436987702932856,
          0.44459998326244987,
          0.4441805101570873,
          0.4433881785416093,
          0.4434017326686381,
          0.4421034766084123,
          0.4408481925549128,
          0.44092486719627944,
          0.43917943627022,
          0.43865459786397654,
          0.43676403559652355,
          0.43684173225691814,
          0.4385439784941706,
          0.4392768163784789,
          0.4400865788827322,
          0.43916029730384565,
          0.43947405092483144,
          0.44220271429182817,
          0.442081035883554,
          0.44160783801134107,
          0.4418994331844237,
          0.44110618040651256,
          0.44240450150273053,
          0.444083356871125,
          0.4448178201660105,
          0.44462814160733066,
          0.44676738163856405,
          0.4469542839376731,
          0.4524840699521372,
          0.4523995622355014,
          0.45267121809376487,
          0.45178273290518484,
          0.45041102882132844,
          0.4516390992161958,
          0.45203270572072035,
          0.4526901534970394,
          0.45096079143752066,
          0.4504008587519183,
          0.45101049180105146,
          0.4507753382795416,
          0.45134110940899985,
          0.4508439534061045,
          0.451348537680387,
          0.45104156145432056,
          0.44973361849043314,
          0.4503202749925121,
          0.4534979587118344,
          0.4554523536036827,
          0.4548412820849531,
          0.4550506398121895,
          0.45486397866419354,
          0.4565652109357793,
          0.4556012051778332,
          0.45733892264528464,
          0.45689762010929974,
          0.45687553225761235,
          0.45775144921635114,
          0.45879895931068954,
          0.4587591126185047,
          0.4591163577268899,
          0.4608965681034059,
          0.46236111741041075,
          0.4631828638215221,
          0.4643449250290754,
          0.46521131551196043,
          0.4647691968773744,
          0.4650316141288543,
          0.4645715375495074,
          0.46541314371218234,
          0.4647142386480275,
          0.46510529849418997,
          0.46654336089956405,
          0.46683277220770203,
          0.46737869036704005,
          0.4678378701176341,
          0.4715587794552876,
          0.4712540309392515,
          0.4707248214520985,
          0.46997180818595374,
          0.4707870042745717,
          0.47108162954367927,
          0.47248802290680525,
          0.47354031068125446,
          0.47377389378520096,
          0.4745941403318774,
          0.4748770606128086,
          0.4727005706221165,
          0.47340938104286484,
          0.4772252020311196,
          0.47881577008994364,
          0.4797701110847422,
          0.4802908478639821,
          0.48064088493653356,
          0.4811662086012188,
          0.482289326700226,
          0.48282183006710744,
          0.4824375412425018,
          0.4826110718444062,
          0.4844695998186335,
          0.4846429802385625,
          0.4857412584869013,
          0.4857744719527865,
          0.4852704462699811,
          0.48600534817223406,
          0.48907024086567813,
          0.48902271362496774,
          0.49056296028287055,
          0.4922096294977549,
          0.49093522729509986,
          0.4901452747557452,
          0.490099146331619,
          0.4923778038972687,
          0.49313368139515823,
          0.49373796377505874,
          0.49480607550852607,
          0.4951164642417648,
          0.4964108418828236,
          0.4960555466178661,
          0.497058698242199,
          0.4957478007006289,
          0.49540106301551906,
          0.4940804542597026,
          0.49416932975105166,
          0.4937863515524635,
          0.49429284261449524,
          0.49610019069076455,
          0.49713422264963325,
          0.49690145212207887,
          0.4977269298500426,
          0.49712791388604227,
          0.49716791374406133
         ]
        },
        {
         "fill": "toself",
         "fillcolor": "rgba(0, 0, 255, 0.2)",
         "line": {
          "color": "rgba(255, 255, 255, 0)"
         },
         "showlegend": false,
         "type": "scatter",
         "x": [
          0,
          1,
          2,
          3,
          4,
          5,
          6,
          7,
          8,
          9,
          10,
          11,
          12,
          13,
          14,
          15,
          16,
          17,
          18,
          19,
          20,
          21,
          22,
          23,
          24,
          25,
          26,
          27,
          28,
          29,
          30,
          31,
          32,
          33,
          34,
          35,
          36,
          37,
          38,
          39,
          40,
          41,
          42,
          43,
          44,
          45,
          46,
          47,
          48,
          49,
          50,
          51,
          52,
          53,
          54,
          55,
          56,
          57,
          58,
          59,
          60,
          61,
          62,
          63,
          64,
          65,
          66,
          67,
          68,
          69,
          70,
          71,
          72,
          73,
          74,
          75,
          76,
          77,
          78,
          79,
          80,
          81,
          82,
          83,
          84,
          85,
          86,
          87,
          88,
          89,
          90,
          91,
          92,
          93,
          94,
          95,
          96,
          97,
          98,
          99,
          100,
          101,
          102,
          103,
          104,
          105,
          106,
          107,
          108,
          109,
          110,
          111,
          112,
          113,
          114,
          115,
          116,
          117,
          118,
          119,
          120,
          121,
          122,
          123,
          124,
          125,
          126,
          127,
          128,
          129,
          130,
          131,
          132,
          133,
          134,
          135,
          136,
          137,
          138,
          139,
          140,
          141,
          142,
          143,
          144,
          145,
          146,
          147,
          148,
          149,
          150,
          151,
          152,
          153,
          154,
          155,
          156,
          157,
          158,
          159,
          160,
          161,
          162,
          162,
          161,
          160,
          159,
          158,
          157,
          156,
          155,
          154,
          153,
          152,
          151,
          150,
          149,
          148,
          147,
          146,
          145,
          144,
          143,
          142,
          141,
          140,
          139,
          138,
          137,
          136,
          135,
          134,
          133,
          132,
          131,
          130,
          129,
          128,
          127,
          126,
          125,
          124,
          123,
          122,
          121,
          120,
          119,
          118,
          117,
          116,
          115,
          114,
          113,
          112,
          111,
          110,
          109,
          108,
          107,
          106,
          105,
          104,
          103,
          102,
          101,
          100,
          99,
          98,
          97,
          96,
          95,
          94,
          93,
          92,
          91,
          90,
          89,
          88,
          87,
          86,
          85,
          84,
          83,
          82,
          81,
          80,
          79,
          78,
          77,
          76,
          75,
          74,
          73,
          72,
          71,
          70,
          69,
          68,
          67,
          66,
          65,
          64,
          63,
          62,
          61,
          60,
          59,
          58,
          57,
          56,
          55,
          54,
          53,
          52,
          51,
          50,
          49,
          48,
          47,
          46,
          45,
          44,
          43,
          42,
          41,
          40,
          39,
          38,
          37,
          36,
          35,
          34,
          33,
          32,
          31,
          30,
          29,
          28,
          27,
          26,
          25,
          24,
          23,
          22,
          21,
          20,
          19,
          18,
          17,
          16,
          15,
          14,
          13,
          12,
          11,
          10,
          9,
          8,
          7,
          6,
          5,
          4,
          3,
          2,
          1,
          0
         ],
         "y": [
          0.5956830369109872,
          0.5523219096039509,
          0.5273601904467733,
          0.5058555792150787,
          0.4950833217326326,
          0.5020151223375846,
          0.49957287241294246,
          0.4987777061153234,
          0.496178991030407,
          0.49563674299284555,
          0.4941877553994168,
          0.4945344317151358,
          0.49444573849525136,
          0.49532055840593875,
          0.4934656061947193,
          0.4917309153992213,
          0.5009312292088339,
          0.5014436370122807,
          0.5005473158467113,
          0.500995234478619,
          0.5038265334659051,
          0.501768491450871,
          0.5018537014600633,
          0.5046257151675599,
          0.5111847111185615,
          0.5124733465237125,
          0.5119902836582143,
          0.5159075969772416,
          0.5176130667315962,
          0.5188425200292325,
          0.5208952901811906,
          0.5209681409323774,
          0.523878209529574,
          0.5261083110246098,
          0.5258395992203895,
          0.5256550415208624,
          0.5258562680279755,
          0.5223160391549038,
          0.5205292151658578,
          0.5197315590554697,
          0.5210408419162729,
          0.5203228715537275,
          0.5185075546163102,
          0.5173987722943495,
          0.5184938753047322,
          0.518266415702721,
          0.5171448995189871,
          0.5165582065625248,
          0.5175051521326636,
          0.5204408553242994,
          0.5201807482964257,
          0.5192724146784576,
          0.5193543874331444,
          0.5190231069141966,
          0.5209618731505347,
          0.5236094031208671,
          0.5259328968643607,
          0.5250453599814457,
          0.5298820822576131,
          0.5289140758459323,
          0.5322714359400501,
          0.5321806885624605,
          0.5323820207112044,
          0.5329534861609214,
          0.533012757098748,
          0.5355099204959981,
          0.5351645667531185,
          0.5346096619132836,
          0.5331756980785084,
          0.5317999065576362,
          0.5328494335559848,
          0.5311249872812224,
          0.5297263522335043,
          0.5293084667885823,
          0.5305162168966517,
          0.5304372787893362,
          0.5272625470656611,
          0.5271600191572432,
          0.534280651363042,
          0.5330201875617122,
          0.5321183202889384,
          0.5359565748318328,
          0.5354812476322748,
          0.5368790107504762,
          0.5356755609616951,
          0.5401443055833248,
          0.539441915405006,
          0.5391928441544197,
          0.5404877765612159,
          0.5430273626645423,
          0.5440060415729813,
          0.5451008234507312,
          0.5489023207717344,
          0.5512528937675965,
          0.5568904951246751,
          0.5556006274995134,
          0.5559818299532119,
          0.5554209812481735,
          0.556231335640368,
          0.5556109461260696,
          0.5565079118383686,
          0.5559659175832091,
          0.5579274021255562,
          0.5597797438890079,
          0.5604898056959051,
          0.5627610378720356,
          0.563833316007828,
          0.5760980965298558,
          0.5751252714123152,
          0.5748898498713694,
          0.5719081660667287,
          0.574298065570289,
          0.5743512778568536,
          0.5746227901741711,
          0.5752115407050511,
          0.575262920326293,
          0.5760589122651042,
          0.5767231981423496,
          0.575893769304351,
          0.577352269227313,
          0.5870374069037017,
          0.5894220935113487,
          0.5920733976388164,
          0.5921744116351995,
          0.5927837700779232,
          0.5944107196716069,
          0.5966517424799374,
          0.5971880607338478,
          0.5973814730724887,
          0.59702466107697,
          0.5978521864954841,
          0.5987949636414692,
          0.5976714329542686,
          0.5979025630676321,
          0.5959113781817903,
          0.5970546227107707,
          0.6023616969646244,
          0.6022310670112876,
          0.6022784501419005,
          0.6067006235888702,
          0.6040146104439671,
          0.6015029790929156,
          0.6017025487462403,
          0.6049219083943504,
          0.6064907886510154,
          0.6069205477510747,
          0.6087731497395944,
          0.6100740314799754,
          0.6119927030027179,
          0.6116726045814744,
          0.6112647949627229,
          0.6090984710396224,
          0.6100750640783719,
          0.6083962209981447,
          0.6087318592586259,
          0.6094055660130967,
          0.6110465755701643,
          0.6154539853871599,
          0.6182114580033666,
          0.6167019148982853,
          0.6170917722230621,
          0.6176818787643052,
          0.6185840492949162,
          0.5791528642475138,
          0.5097749817257593,
          0.461939118363646,
          0.42601327083952184,
          0.40499883312786167,
          0.39198883789696587,
          0.37871787731478324,
          0.38277212403901,
          0.3803161048914527,
          0.3799518410108397,
          0.37870774810531754,
          0.37962003018952317,
          0.37771246657218677,
          0.37463210737128655,
          0.373462779645691,
          0.37219125621724547,
          0.37034935009653713,
          0.37126145569864377,
          0.37053939933430496,
          0.3689479603992235,
          0.3682228897727466,
          0.3689915954336876,
          0.3678498736150849,
          0.3670434674051722,
          0.36412063068257117,
          0.36268528361516117,
          0.3629794468463549,
          0.36182398815542316,
          0.36248210399253805,
          0.36604720931403906,
          0.3664385400249187,
          0.36548727554064764,
          0.3648615445290832,
          0.36309165550029004,
          0.36252142109378516,
          0.36112131556235616,
          0.3609471973093007,
          0.36189091406192087,
          0.3611671699439678,
          0.3621181753370891,
          0.3573180306241671,
          0.3569863241742256,
          0.3550205165767369,
          0.3562846922194868,
          0.35859408168360896,
          0.3602872170542368,
          0.3630282582464774,
          0.36176238804516647,
          0.3614429497169993,
          0.36396457325935694,
          0.3639813234706824,
          0.3639432613442245,
          0.36444447893570303,
          0.3631892538988285,
          0.3638471298549264,
          0.36455731062138286,
          0.3637027434676603,
          0.3642109232332156,
          0.36365268101951503,
          0.36499449202941386,
          0.3726967039642243,
          0.37261843590854227,
          0.37296041547632536,
          0.37061197964944825,
          0.3678093005439089,
          0.36776827793639355,
          0.3689008446883222,
          0.37077064508079516,
          0.36874588479653286,
          0.3690018109462004,
          0.3691715500461181,
          0.3704256892778608,
          0.3729558665844954,
          0.37237944002362666,
          0.3721808584641223,
          0.37164584411930485,
          0.3722046899152051,
          0.37348053082778104,
          0.37271526606062677,
          0.37788451964565317,
          0.3775642438809678,
          0.3741447047925463,
          0.37424670969611223,
          0.3762514111210824,
          0.37552684939397124,
          0.37453353970724446,
          0.3743533248135935,
          0.374558220360805,
          0.37501512187148633,
          0.37457055595683675,
          0.37351218366402816,
          0.3731318920030487,
          0.3728908154350774,
          0.373469341053225,
          0.369475232518369,
          0.37308922255863736,
          0.374440801070709,
          0.3741174125065752,
          0.3738318926173406,
          0.3735321289729452,
          0.3743183755859961,
          0.3734625597128459,
          0.37228319486282374,
          0.37330697791012024,
          0.373175738719499,
          0.3719963428620445,
          0.3718424242274402,
          0.3670194623807194,
          0.3673827904661878,
          0.3665597930328276,
          0.3680354503051788,
          0.3672759429788545,
          0.3678119812305049,
          0.37035325563943944,
          0.37186908065745783,
          0.37228486724410886,
          0.3731293683986506,
          0.3730309230832676,
          0.36950737193988203,
          0.3694664928584167,
          0.3674129971585376,
          0.36820944666853866,
          0.367466824530668,
          0.3684072840927647,
          0.36849799979514397,
          0.3679216975308307,
          0.36792691092051466,
          0.3684555994003671,
          0.367493609412515,
          0.3681974826118424,
          0.37108701314178294,
          0.3704909968356558,
          0.373811084019534,
          0.3736463808379409,
          0.37462951435817193,
          0.37495607363369743,
          0.3757787847667319,
          0.3758143602386479,
          0.37884747042384054,
          0.3777186354066395,
          0.37785584414623263,
          0.3787875704185748,
          0.3784957439169977,
          0.3798336994001869,
          0.3797765741393011,
          0.38055537979904275,
          0.38083900127745773,
          0.3801588970035542,
          0.38082898076292926,
          0.3804384886542577,
          0.3828526015216751,
          0.38239713036163536,
          0.3807270619526662,
          0.37976468752126047,
          0.37960680024347737,
          0.37816713709183025,
          0.3775391096588262,
          0.37674639599436915,
          0.3760569872958999,
          0.3771009893458724,
          0.37836208747702305,
          0.37657394900777935,
          0.3757517781932065
         ]
        }
       ],
       "layout": {
        "template": {
         "data": {
          "bar": [
           {
            "error_x": {
             "color": "#2a3f5f"
            },
            "error_y": {
             "color": "#2a3f5f"
            },
            "marker": {
             "line": {
              "color": "white",
              "width": 0.5
             },
             "pattern": {
              "fillmode": "overlay",
              "size": 10,
              "solidity": 0.2
             }
            },
            "type": "bar"
           }
          ],
          "barpolar": [
           {
            "marker": {
             "line": {
              "color": "white",
              "width": 0.5
             },
             "pattern": {
              "fillmode": "overlay",
              "size": 10,
              "solidity": 0.2
             }
            },
            "type": "barpolar"
           }
          ],
          "carpet": [
           {
            "aaxis": {
             "endlinecolor": "#2a3f5f",
             "gridcolor": "#C8D4E3",
             "linecolor": "#C8D4E3",
             "minorgridcolor": "#C8D4E3",
             "startlinecolor": "#2a3f5f"
            },
            "baxis": {
             "endlinecolor": "#2a3f5f",
             "gridcolor": "#C8D4E3",
             "linecolor": "#C8D4E3",
             "minorgridcolor": "#C8D4E3",
             "startlinecolor": "#2a3f5f"
            },
            "type": "carpet"
           }
          ],
          "choropleth": [
           {
            "colorbar": {
             "outlinewidth": 0,
             "ticks": ""
            },
            "type": "choropleth"
           }
          ],
          "contour": [
           {
            "colorbar": {
             "outlinewidth": 0,
             "ticks": ""
            },
            "colorscale": [
             [
              0,
              "#0d0887"
             ],
             [
              0.1111111111111111,
              "#46039f"
             ],
             [
              0.2222222222222222,
              "#7201a8"
             ],
             [
              0.3333333333333333,
              "#9c179e"
             ],
             [
              0.4444444444444444,
              "#bd3786"
             ],
             [
              0.5555555555555556,
              "#d8576b"
             ],
             [
              0.6666666666666666,
              "#ed7953"
             ],
             [
              0.7777777777777778,
              "#fb9f3a"
             ],
             [
              0.8888888888888888,
              "#fdca26"
             ],
             [
              1,
              "#f0f921"
             ]
            ],
            "type": "contour"
           }
          ],
          "contourcarpet": [
           {
            "colorbar": {
             "outlinewidth": 0,
             "ticks": ""
            },
            "type": "contourcarpet"
           }
          ],
          "heatmap": [
           {
            "colorbar": {
             "outlinewidth": 0,
             "ticks": ""
            },
            "colorscale": [
             [
              0,
              "#0d0887"
             ],
             [
              0.1111111111111111,
              "#46039f"
             ],
             [
              0.2222222222222222,
              "#7201a8"
             ],
             [
              0.3333333333333333,
              "#9c179e"
             ],
             [
              0.4444444444444444,
              "#bd3786"
             ],
             [
              0.5555555555555556,
              "#d8576b"
             ],
             [
              0.6666666666666666,
              "#ed7953"
             ],
             [
              0.7777777777777778,
              "#fb9f3a"
             ],
             [
              0.8888888888888888,
              "#fdca26"
             ],
             [
              1,
              "#f0f921"
             ]
            ],
            "type": "heatmap"
           }
          ],
          "heatmapgl": [
           {
            "colorbar": {
             "outlinewidth": 0,
             "ticks": ""
            },
            "colorscale": [
             [
              0,
              "#0d0887"
             ],
             [
              0.1111111111111111,
              "#46039f"
             ],
             [
              0.2222222222222222,
              "#7201a8"
             ],
             [
              0.3333333333333333,
              "#9c179e"
             ],
             [
              0.4444444444444444,
              "#bd3786"
             ],
             [
              0.5555555555555556,
              "#d8576b"
             ],
             [
              0.6666666666666666,
              "#ed7953"
             ],
             [
              0.7777777777777778,
              "#fb9f3a"
             ],
             [
              0.8888888888888888,
              "#fdca26"
             ],
             [
              1,
              "#f0f921"
             ]
            ],
            "type": "heatmapgl"
           }
          ],
          "histogram": [
           {
            "marker": {
             "pattern": {
              "fillmode": "overlay",
              "size": 10,
              "solidity": 0.2
             }
            },
            "type": "histogram"
           }
          ],
          "histogram2d": [
           {
            "colorbar": {
             "outlinewidth": 0,
             "ticks": ""
            },
            "colorscale": [
             [
              0,
              "#0d0887"
             ],
             [
              0.1111111111111111,
              "#46039f"
             ],
             [
              0.2222222222222222,
              "#7201a8"
             ],
             [
              0.3333333333333333,
              "#9c179e"
             ],
             [
              0.4444444444444444,
              "#bd3786"
             ],
             [
              0.5555555555555556,
              "#d8576b"
             ],
             [
              0.6666666666666666,
              "#ed7953"
             ],
             [
              0.7777777777777778,
              "#fb9f3a"
             ],
             [
              0.8888888888888888,
              "#fdca26"
             ],
             [
              1,
              "#f0f921"
             ]
            ],
            "type": "histogram2d"
           }
          ],
          "histogram2dcontour": [
           {
            "colorbar": {
             "outlinewidth": 0,
             "ticks": ""
            },
            "colorscale": [
             [
              0,
              "#0d0887"
             ],
             [
              0.1111111111111111,
              "#46039f"
             ],
             [
              0.2222222222222222,
              "#7201a8"
             ],
             [
              0.3333333333333333,
              "#9c179e"
             ],
             [
              0.4444444444444444,
              "#bd3786"
             ],
             [
              0.5555555555555556,
              "#d8576b"
             ],
             [
              0.6666666666666666,
              "#ed7953"
             ],
             [
              0.7777777777777778,
              "#fb9f3a"
             ],
             [
              0.8888888888888888,
              "#fdca26"
             ],
             [
              1,
              "#f0f921"
             ]
            ],
            "type": "histogram2dcontour"
           }
          ],
          "mesh3d": [
           {
            "colorbar": {
             "outlinewidth": 0,
             "ticks": ""
            },
            "type": "mesh3d"
           }
          ],
          "parcoords": [
           {
            "line": {
             "colorbar": {
              "outlinewidth": 0,
              "ticks": ""
             }
            },
            "type": "parcoords"
           }
          ],
          "pie": [
           {
            "automargin": true,
            "type": "pie"
           }
          ],
          "scatter": [
           {
            "fillpattern": {
             "fillmode": "overlay",
             "size": 10,
             "solidity": 0.2
            },
            "type": "scatter"
           }
          ],
          "scatter3d": [
           {
            "line": {
             "colorbar": {
              "outlinewidth": 0,
              "ticks": ""
             }
            },
            "marker": {
             "colorbar": {
              "outlinewidth": 0,
              "ticks": ""
             }
            },
            "type": "scatter3d"
           }
          ],
          "scattercarpet": [
           {
            "marker": {
             "colorbar": {
              "outlinewidth": 0,
              "ticks": ""
             }
            },
            "type": "scattercarpet"
           }
          ],
          "scattergeo": [
           {
            "marker": {
             "colorbar": {
              "outlinewidth": 0,
              "ticks": ""
             }
            },
            "type": "scattergeo"
           }
          ],
          "scattergl": [
           {
            "marker": {
             "colorbar": {
              "outlinewidth": 0,
              "ticks": ""
             }
            },
            "type": "scattergl"
           }
          ],
          "scattermapbox": [
           {
            "marker": {
             "colorbar": {
              "outlinewidth": 0,
              "ticks": ""
             }
            },
            "type": "scattermapbox"
           }
          ],
          "scatterpolar": [
           {
            "marker": {
             "colorbar": {
              "outlinewidth": 0,
              "ticks": ""
             }
            },
            "type": "scatterpolar"
           }
          ],
          "scatterpolargl": [
           {
            "marker": {
             "colorbar": {
              "outlinewidth": 0,
              "ticks": ""
             }
            },
            "type": "scatterpolargl"
           }
          ],
          "scatterternary": [
           {
            "marker": {
             "colorbar": {
              "outlinewidth": 0,
              "ticks": ""
             }
            },
            "type": "scatterternary"
           }
          ],
          "surface": [
           {
            "colorbar": {
             "outlinewidth": 0,
             "ticks": ""
            },
            "colorscale": [
             [
              0,
              "#0d0887"
             ],
             [
              0.1111111111111111,
              "#46039f"
             ],
             [
              0.2222222222222222,
              "#7201a8"
             ],
             [
              0.3333333333333333,
              "#9c179e"
             ],
             [
              0.4444444444444444,
              "#bd3786"
             ],
             [
              0.5555555555555556,
              "#d8576b"
             ],
             [
              0.6666666666666666,
              "#ed7953"
             ],
             [
              0.7777777777777778,
              "#fb9f3a"
             ],
             [
              0.8888888888888888,
              "#fdca26"
             ],
             [
              1,
              "#f0f921"
             ]
            ],
            "type": "surface"
           }
          ],
          "table": [
           {
            "cells": {
             "fill": {
              "color": "#EBF0F8"
             },
             "line": {
              "color": "white"
             }
            },
            "header": {
             "fill": {
              "color": "#C8D4E3"
             },
             "line": {
              "color": "white"
             }
            },
            "type": "table"
           }
          ]
         },
         "layout": {
          "annotationdefaults": {
           "arrowcolor": "#2a3f5f",
           "arrowhead": 0,
           "arrowwidth": 1
          },
          "autotypenumbers": "strict",
          "coloraxis": {
           "colorbar": {
            "outlinewidth": 0,
            "ticks": ""
           }
          },
          "colorscale": {
           "diverging": [
            [
             0,
             "#8e0152"
            ],
            [
             0.1,
             "#c51b7d"
            ],
            [
             0.2,
             "#de77ae"
            ],
            [
             0.3,
             "#f1b6da"
            ],
            [
             0.4,
             "#fde0ef"
            ],
            [
             0.5,
             "#f7f7f7"
            ],
            [
             0.6,
             "#e6f5d0"
            ],
            [
             0.7,
             "#b8e186"
            ],
            [
             0.8,
             "#7fbc41"
            ],
            [
             0.9,
             "#4d9221"
            ],
            [
             1,
             "#276419"
            ]
           ],
           "sequential": [
            [
             0,
             "#0d0887"
            ],
            [
             0.1111111111111111,
             "#46039f"
            ],
            [
             0.2222222222222222,
             "#7201a8"
            ],
            [
             0.3333333333333333,
             "#9c179e"
            ],
            [
             0.4444444444444444,
             "#bd3786"
            ],
            [
             0.5555555555555556,
             "#d8576b"
            ],
            [
             0.6666666666666666,
             "#ed7953"
            ],
            [
             0.7777777777777778,
             "#fb9f3a"
            ],
            [
             0.8888888888888888,
             "#fdca26"
            ],
            [
             1,
             "#f0f921"
            ]
           ],
           "sequentialminus": [
            [
             0,
             "#0d0887"
            ],
            [
             0.1111111111111111,
             "#46039f"
            ],
            [
             0.2222222222222222,
             "#7201a8"
            ],
            [
             0.3333333333333333,
             "#9c179e"
            ],
            [
             0.4444444444444444,
             "#bd3786"
            ],
            [
             0.5555555555555556,
             "#d8576b"
            ],
            [
             0.6666666666666666,
             "#ed7953"
            ],
            [
             0.7777777777777778,
             "#fb9f3a"
            ],
            [
             0.8888888888888888,
             "#fdca26"
            ],
            [
             1,
             "#f0f921"
            ]
           ]
          },
          "colorway": [
           "#636efa",
           "#EF553B",
           "#00cc96",
           "#ab63fa",
           "#FFA15A",
           "#19d3f3",
           "#FF6692",
           "#B6E880",
           "#FF97FF",
           "#FECB52"
          ],
          "font": {
           "color": "#2a3f5f"
          },
          "geo": {
           "bgcolor": "white",
           "lakecolor": "white",
           "landcolor": "white",
           "showlakes": true,
           "showland": true,
           "subunitcolor": "#C8D4E3"
          },
          "hoverlabel": {
           "align": "left"
          },
          "hovermode": "closest",
          "mapbox": {
           "style": "light"
          },
          "paper_bgcolor": "white",
          "plot_bgcolor": "white",
          "polar": {
           "angularaxis": {
            "gridcolor": "#EBF0F8",
            "linecolor": "#EBF0F8",
            "ticks": ""
           },
           "bgcolor": "white",
           "radialaxis": {
            "gridcolor": "#EBF0F8",
            "linecolor": "#EBF0F8",
            "ticks": ""
           }
          },
          "scene": {
           "xaxis": {
            "backgroundcolor": "white",
            "gridcolor": "#DFE8F3",
            "gridwidth": 2,
            "linecolor": "#EBF0F8",
            "showbackground": true,
            "ticks": "",
            "zerolinecolor": "#EBF0F8"
           },
           "yaxis": {
            "backgroundcolor": "white",
            "gridcolor": "#DFE8F3",
            "gridwidth": 2,
            "linecolor": "#EBF0F8",
            "showbackground": true,
            "ticks": "",
            "zerolinecolor": "#EBF0F8"
           },
           "zaxis": {
            "backgroundcolor": "white",
            "gridcolor": "#DFE8F3",
            "gridwidth": 2,
            "linecolor": "#EBF0F8",
            "showbackground": true,
            "ticks": "",
            "zerolinecolor": "#EBF0F8"
           }
          },
          "shapedefaults": {
           "line": {
            "color": "#2a3f5f"
           }
          },
          "ternary": {
           "aaxis": {
            "gridcolor": "#DFE8F3",
            "linecolor": "#A2B1C6",
            "ticks": ""
           },
           "baxis": {
            "gridcolor": "#DFE8F3",
            "linecolor": "#A2B1C6",
            "ticks": ""
           },
           "bgcolor": "white",
           "caxis": {
            "gridcolor": "#DFE8F3",
            "linecolor": "#A2B1C6",
            "ticks": ""
           }
          },
          "title": {
           "x": 0.05
          },
          "xaxis": {
           "automargin": true,
           "gridcolor": "#EBF0F8",
           "linecolor": "#EBF0F8",
           "ticks": "",
           "title": {
            "standoff": 15
           },
           "zerolinecolor": "#EBF0F8",
           "zerolinewidth": 2
          },
          "yaxis": {
           "automargin": true,
           "gridcolor": "#EBF0F8",
           "linecolor": "#EBF0F8",
           "ticks": "",
           "title": {
            "standoff": 15
           },
           "zerolinecolor": "#EBF0F8",
           "zerolinewidth": 2
          }
         }
        },
        "title": {
         "text": "Cross-Validation (N=5) Mean Logloss with Error Bands"
        },
        "xaxis": {
         "title": {
          "text": "Training Steps"
         }
        },
        "yaxis": {
         "title": {
          "text": "Logloss"
         }
        }
       }
      }
     },
     "metadata": {},
     "output_type": "display_data"
    }
   ],
   "source": [
    "import plotly.graph_objects as go\n",
    "\n",
    "# Create figure\n",
    "fig = go.Figure()\n",
    "\n",
    "# Add mean performance line\n",
    "fig.add_trace(\n",
    "    go.Scatter(\n",
    "        x=cv_results[\"iterations\"], y=cv_results[\"test-Logloss-mean\"], mode=\"lines\", name=\"Mean logloss\", line=dict(color=\"blue\")\n",
    "    )\n",
    ")\n",
    "\n",
    "# Add shaded error region\n",
    "fig.add_trace(\n",
    "    go.Scatter(\n",
    "        x=pd.concat([cv_results[\"iterations\"], cv_results[\"iterations\"][::-1]]),\n",
    "        y=pd.concat([cv_results[\"test-Logloss-mean\"]+cv_results[\"test-Logloss-std\"], \n",
    "                     cv_results[\"test-Logloss-mean\"]-cv_results[\"test-Logloss-std\"]]),\n",
    "        fill=\"toself\", \n",
    "        fillcolor=\"rgba(0, 0, 255, 0.2)\",\n",
    "        line=dict(color=\"rgba(255, 255, 255, 0)\"),\n",
    "        showlegend=False\n",
    "    )\n",
    ")\n",
    "\n",
    "# Customize layout\n",
    "fig.update_layout(\n",
    "    title=\"Cross-Validation (N=5) Mean Logloss with Error Bands\",\n",
    "    xaxis_title=\"Training Steps\",\n",
    "    yaxis_title=\"Logloss\",\n",
    "    template=\"plotly_white\"\n",
    ")\n",
    "\n",
    "fig.show()\n",
    "\n",
    "fig.write_image(outfolder / \"test_logloss_v2.png\")"
   ]
  },
  {
   "cell_type": "markdown",
   "id": "660b208e-b2b8-4bd2-ae70-6f75b550d65d",
   "metadata": {
    "editable": false,
    "slideshow": {
     "slide_type": "slide"
    },
    "tags": []
   },
   "source": [
    "Fit model on full dataset:"
   ]
  },
  {
   "cell_type": "code",
   "execution_count": 15,
   "id": "a8059c1d-ee28-4580-9d5d-9a9c4eb91a4b",
   "metadata": {
    "editable": true,
    "scrolled": true,
    "slideshow": {
     "slide_type": "subslide"
    },
    "tags": []
   },
   "outputs": [
    {
     "data": {
      "application/vnd.jupyter.widget-view+json": {
       "model_id": "8a4fe51884174227b0b3867b49a21324",
       "version_major": 2,
       "version_minor": 0
      },
      "text/plain": [
       "MetricVisualizer(layout=Layout(align_self='stretch', height='500px'))"
      ]
     },
     "metadata": {},
     "output_type": "display_data"
    },
    {
     "name": "stdout",
     "output_type": "stream",
     "text": [
      "0:\tlearn: 0.7321429\ttotal: 41.9ms\tremaining: 6.78s\n",
      "50:\tlearn: 0.8535826\ttotal: 3.09s\tremaining: 6.79s\n",
      "100:\tlearn: 0.8813559\ttotal: 6.12s\tremaining: 3.76s\n",
      "150:\tlearn: 0.9115854\ttotal: 9.1s\tremaining: 724ms\n",
      "162:\tlearn: 0.9160305\ttotal: 9.81s\tremaining: 0us\n"
     ]
    },
    {
     "data": {
      "text/plain": [
       "['results\\\\model_params_v2.pkl']"
      ]
     },
     "execution_count": 15,
     "metadata": {},
     "output_type": "execute_result"
    }
   ],
   "source": [
    "model.fit(\n",
    "    X_train,\n",
    "    y_train,\n",
    "    verbose_eval=50,\n",
    "    early_stopping_rounds=50,\n",
    "    cat_features=categorical_indices,\n",
    "    use_best_model=False,\n",
    "    plot=True\n",
    ")\n",
    "\n",
    "model.save_model(outfolder / 'catboost_model_titanic_v2.cbm')\n",
    "joblib.dump(params, outfolder / 'model_params_v2.pkl')"
   ]
  },
  {
   "cell_type": "markdown",
   "id": "11d6658f-ac2b-4a8f-a872-b66bbcf4b19b",
   "metadata": {
    "editable": false,
    "slideshow": {
     "slide_type": "slide"
    },
    "tags": []
   },
   "source": [
    "And now to copy paste the train preprocessing code to preprocess the test set, and run a prediction:"
   ]
  },
  {
   "cell_type": "code",
   "execution_count": 16,
   "id": "ea7b6f53-6b16-453f-b0b8-336f0b8ceee1",
   "metadata": {
    "editable": true,
    "slideshow": {
     "slide_type": "subslide"
    },
    "tags": []
   },
   "outputs": [
    {
     "data": {
      "text/plain": [
       "array(['Mr', 'Mrs', 'Miss', 'Master', 'Ms', 'Col', 'Rev', 'Dr', 'Dona'],\n",
       "      dtype=object)"
      ]
     },
     "execution_count": 16,
     "metadata": {},
     "output_type": "execute_result"
    }
   ],
   "source": [
    "df_test = pd.read_csv(download_folder / \"test.csv\")\n",
    "df_test = df_test.drop(columns=[\"Ticket\"])\n",
    "df_test_id = df_test.pop(\"PassengerId\")\n",
    "df_test = df_test.fillna({\"Embarked\": \"N\", \"Age\": X_train[\"Age\"].mean()})\n",
    "\n",
    "pattern = r'([A-Za-z]+)(\\d+)'\n",
    "matches = df_test['Cabin'].str.extractall(pattern)\n",
    "matches.reset_index(inplace=True)\n",
    "result = matches.pivot(index='level_0', columns='match', values=[0, 1])\n",
    "result.columns = [f\"{col[0]}_{col[1]}\" for col in result.columns]\n",
    "df_test = df_test.join(result[[\"0_0\", \"1_0\"]])\n",
    "df_test[\"1_0\"] = df_test[\"1_0\"].astype(float)\n",
    "df_test = df_test.fillna({\"0_0\": \"N\", \"1_0\": X_train[\"CabinNumber\"].mean()})\n",
    "df_test[\"1_0\"] = df_test[\"1_0\"].astype(int)\n",
    "df_test = df_test.rename(columns={\"0_0\": \"Deck\", \"1_0\": \"CabinNumber\"})\n",
    "\n",
    "df_test[\"Title\"] = df_test[\"Name\"].apply(extract_title)\n",
    "\n",
    "df_test.drop(columns=[\"Cabin\", \"Name\"], axis=1, inplace=True)\n",
    "df_test[\"Title\"].unique()"
   ]
  },
  {
   "cell_type": "code",
   "execution_count": 17,
   "id": "e74f9e3e-c213-4aa7-a896-85e40ab68615",
   "metadata": {
    "editable": true,
    "slideshow": {
     "slide_type": "subslide"
    },
    "tags": []
   },
   "outputs": [],
   "source": [
    "preds = model.predict(df_test[X_train.columns])"
   ]
  },
  {
   "cell_type": "markdown",
   "id": "fca71205-8486-4e32-9875-efdd5c627a94",
   "metadata": {
    "editable": false,
    "slideshow": {
     "slide_type": "slide"
    },
    "tags": []
   },
   "source": [
    "Get the shapley overview plot showing the importance of the new features as well:"
   ]
  },
  {
   "cell_type": "code",
   "execution_count": 18,
   "id": "e42c6466-ce53-4a6f-a230-ee7599adfa45",
   "metadata": {
    "editable": true,
    "slideshow": {
     "slide_type": "subslide"
    },
    "tags": []
   },
   "outputs": [
    {
     "data": {
      "image/png": "[encoded data removed]",
      "text/plain": [
       "<Figure size 800x550 with 2 Axes>"
      ]
     },
     "metadata": {},
     "output_type": "display_data"
    }
   ],
   "source": [
    "import shap\n",
    "import matplotlib.pyplot as plt\n",
    "explainer = shap.TreeExplainer(model)\n",
    "shap_values = explainer.shap_values(df_test[X_train.columns])\n",
    "\n",
    "shap.summary_plot(shap_values, df_test, show=False)\n",
    "plt.savefig(outfolder / \"test_shap_overall_v2.png\")"
   ]
  },
  {
   "cell_type": "markdown",
   "id": "d3053685-a2c1-42fc-9dd7-b19b3166b5ae",
   "metadata": {
    "editable": false,
    "slideshow": {
     "slide_type": "slide"
    },
    "tags": []
   },
   "source": [
    "And finally let's get the score on the test set:"
   ]
  },
  {
   "cell_type": "code",
   "execution_count": 19,
   "id": "2a66930d-3abd-4b45-8c44-47892205fd28",
   "metadata": {
    "editable": true,
    "slideshow": {
     "slide_type": "subslide"
    },
    "tags": []
   },
   "outputs": [],
   "source": [
    "df_test[\"PassengerId\"] = df_test_id\n",
    "df_test[\"Survived\"] = preds\n",
    "\n",
    "df_test[[\"PassengerId\", \"Survived\"]].to_csv(outfolder / \"predictions_v2.csv\", index=False)"
   ]
  },
  {
   "cell_type": "markdown",
   "id": "611f00de-4968-4bde-9151-c11dbbdc27d0",
   "metadata": {
    "editable": true,
    "slideshow": {
     "slide_type": "subslide"
    },
    "tags": []
   },
   "source": [
    "And submitting again to kaggle we get a slight improvement but with the client happier that we used all the data at least:\n",
    "  \n",
    "![screenshot of kaggle submission page v2 with prediction performance of 0.76555](results/kaggle_result_v2.png \"Kaggle Result\")"
   ]
  }
 ],
 "metadata": {
  "kernelspec": {
   "display_name": "base",
   "language": "python",
   "name": "python3"
  },
  "language_info": {
   "codemirror_mode": {
    "name": "ipython",
    "version": 3
   },
   "file_extension": ".py",
   "mimetype": "text/x-python",
   "name": "python",
   "nbconvert_exporter": "python",
   "pygments_lexer": "ipython3",
   "version": "3.12.7"
  }
 },
 "nbformat": 4,
 "nbformat_minor": 5
}
